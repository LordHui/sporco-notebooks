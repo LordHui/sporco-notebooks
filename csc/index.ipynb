{
 "cells": [
  {
   "cell_type": "markdown",
   "metadata": {},
   "source": [
    "## Convolutional Sparse Coding"
   ]
  },
  {
   "cell_type": "markdown",
   "metadata": {},
   "source": [
    "- [Remove Gaussian white noise from a greyscale image using convolutional sparse coding](gwnden_gry.ipynb)\n",
    "- [Remove Gaussian white noise from a colour image using convolutional sparse coding](gwnden_clr.ipynb)\n",
    "- [Remove salt & pepper noise from a colour image using convolutional sparse coding with a colour dictionary](implsden_clr.ipynb)\n",
    "- [Inpainting of randomly distributed pixel corruption (greyscale image)](cbpdn_ams_gry.ipynb)\n",
    "- [Inpainting of randomly distributed pixel corruption (greyscale image)](cbpdn_md_gry.ipynb)\n",
    "- [Inpainting of randomly distributed pixel corruption (colour image)](cbpdn_ams_clr.ipynb)\n",
    "- [Convolutional sparse coding of a greyscale image (ADMM solver)](cbpdn_gry.ipynb)\n",
    "- [Convolutional sparse coding of a greyscale image (FISTA solver)](cbpdn_fista_gry.ipynb)\n",
    "- [Convolutional sparse coding of a greyscale image using the CUDA solver](cbpdn_cuda.ipynb)\n",
    "- [Convolutional sparse coding of a colour image with a colour dictionary](cbpdn_clr_cd.ipynb)\n",
    "- [Convolutional sparse coding of a colour image with a greyscale dictionary](cbpdn_clr_gd.ipynb)\n",
    "- [Convolutional sparse coding of a colour image with a greyscale dictionary and a joint sparsity term](cbpdn_jnt_clr.ipynb)"
   ]
  }
 ],
 "metadata": {},
 "nbformat": 4,
 "nbformat_minor": 2
}
