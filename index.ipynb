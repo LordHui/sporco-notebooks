{
 "cells": [
  {
   "cell_type": "markdown",
   "metadata": {},
   "source": [
    "# Usage Examples\n",
    "\n",
    "The examples are organised into directories according to topic:\n",
    "\n",
    "-   [Sparse Coding](sc/index.ipynb)\n",
    "-   [Dictionary Learning](dl/index.ipynb)\n",
    "-   [Convolutional Sparse Coding](csc/index.ipynb)\n",
    "-   [Convolutional Dictionary Learning](cdl/index.ipynb)\n",
    "-   [Total Variation](tv/index.ipynb)\n",
    "-   [Plug and Play Priors](ppp/index.ipynb)\n",
    "-   [Miscellaneous](misc/index.ipynb)"
   ]
  }
 ],
 "metadata": {},
 "nbformat": 4,
 "nbformat_minor": 4
}
