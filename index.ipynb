{
 "cells": [
  {
   "cell_type": "markdown",
   "metadata": {},
   "source": [
    "# Example Scripts\n",
    "\n",
    "Scripts are organised into directories according to topic:\n",
    "\n",
    "-   [Sparse Coding](sc)\n",
    "-   [Dictionary Learning](dl)\n",
    "-   [Convolutional Sparse Coding](csc)\n",
    "-   [Convolutional Dictionary Learning](cdl)\n",
    "-   [Total Variation](tv)\n",
    "-   [Miscellaneous](misc)"
   ]
  }
 ],
 "metadata": {},
 "nbformat": 4,
 "nbformat_minor": 2
}
