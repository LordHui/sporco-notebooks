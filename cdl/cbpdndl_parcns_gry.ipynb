{
 "cells": [
  {
   "cell_type": "markdown",
   "metadata": {},
   "source": [
    "Convolutional Dictionary Learning\n",
    "=================================\n",
    "\n",
    "This example demonstrates the use of [prlcnscdl.ConvBPDNDictLearn_Consensus](http://sporco.rtfd.org/en/latest/modules/sporco.dictlrn.prlcnscdl.html#sporco.dictlrn.prlcnscdl.ConvBPDNDictLearn_Consensus) for learning a convolutional dictionary from a set of training images. The dictionary learning algorithm is based on the ADMM consensus dictionary update [[1]](http://sporco.rtfd.org/en/latest/zreferences.html#sorel-2016-fast) [[20]](http://sporco.rtfd.org/en/latest/zreferences.html#garcia-2018-convolutional1)."
   ]
  },
  {
   "cell_type": "code",
   "execution_count": 1,
   "metadata": {
    "collapsed": false
   },
   "outputs": [],
   "source": [
    "from __future__ import print_function\n",
    "from builtins import input\n",
    "from builtins import range\n",
    "\n",
    "import pyfftw   # See https://github.com/pyFFTW/pyFFTW/issues/40\n",
    "import numpy as np\n",
    "\n",
    "from sporco.dictlrn import prlcnscdl\n",
    "from sporco import util\n",
    "from sporco import plot\n",
    "plot.config_notebook_plotting()"
   ]
  },
  {
   "cell_type": "markdown",
   "metadata": {},
   "source": [
    "Load training images."
   ]
  },
  {
   "cell_type": "code",
   "execution_count": 2,
   "metadata": {
    "collapsed": false
   },
   "outputs": [],
   "source": [
    "exim = util.ExampleImages(scaled=True, zoom=0.25, gray=True)\n",
    "S1 = exim.image('barbara.png', idxexp=np.s_[10:522, 100:612])\n",
    "S2 = exim.image('kodim23.png', idxexp=np.s_[:, 60:572])\n",
    "S3 = exim.image('monarch.png', idxexp=np.s_[:, 160:672])\n",
    "S4 = exim.image('sail.png', idxexp=np.s_[:, 210:722])\n",
    "S5 = exim.image('tulips.png', idxexp=np.s_[:, 30:542])\n",
    "S = np.dstack((S1, S2, S3, S4, S5))"
   ]
  },
  {
   "cell_type": "markdown",
   "metadata": {},
   "source": [
    "Highpass filter training images."
   ]
  },
  {
   "cell_type": "code",
   "execution_count": 3,
   "metadata": {
    "collapsed": false
   },
   "outputs": [],
   "source": [
    "npd = 16\n",
    "fltlmbd = 5\n",
    "sl, sh = util.tikhonov_filter(S, fltlmbd, npd)"
   ]
  },
  {
   "cell_type": "markdown",
   "metadata": {},
   "source": [
    "Construct initial dictionary."
   ]
  },
  {
   "cell_type": "code",
   "execution_count": 4,
   "metadata": {
    "collapsed": false
   },
   "outputs": [],
   "source": [
    "np.random.seed(12345)\n",
    "D0 = np.random.randn(8, 8, 64)"
   ]
  },
  {
   "cell_type": "markdown",
   "metadata": {},
   "source": [
    "Set regularization parameter and options for dictionary learning solver."
   ]
  },
  {
   "cell_type": "code",
   "execution_count": 5,
   "metadata": {
    "collapsed": false
   },
   "outputs": [],
   "source": [
    "lmbda = 0.2\n",
    "opt = prlcnscdl.ConvBPDNDictLearn_Consensus.Options({'Verbose': True,\n",
    "                        'MaxMainIter': 200,\n",
    "                        'CBPDN': {'rho': 50.0*lmbda + 0.5},\n",
    "                        'CCMOD': {'rho': 1.0, 'ZeroMean': True}})"
   ]
  },
  {
   "cell_type": "markdown",
   "metadata": {},
   "source": [
    "Create solver object and solve."
   ]
  },
  {
   "cell_type": "code",
   "execution_count": 6,
   "metadata": {
    "collapsed": false
   },
   "outputs": [
    {
     "name": "stdout",
     "output_type": "stream",
     "text": [
      "Itn   Fnc       DFid      Regℓ1   \n",
      "----------------------------------\n"
     ]
    },
    {
     "name": "stdout",
     "output_type": "stream",
     "text": [
      "   0  4.42e+02  4.42e+02  2.89e-01\n",
      "   1  4.22e+02  4.11e+02  5.31e+01\n"
     ]
    },
    {
     "name": "stdout",
     "output_type": "stream",
     "text": [
      "   2  3.64e+02  3.07e+02  2.85e+02\n",
      "   3  3.37e+02  2.11e+02  6.29e+02\n"
     ]
    },
    {
     "name": "stdout",
     "output_type": "stream",
     "text": [
      "   4  3.27e+02  1.53e+02  8.70e+02\n",
      "   5  3.16e+02  1.23e+02  9.66e+02\n"
     ]
    },
    {
     "name": "stdout",
     "output_type": "stream",
     "text": [
      "   6  3.02e+02  1.12e+02  9.53e+02\n",
      "   7  2.90e+02  1.11e+02  8.92e+02\n"
     ]
    },
    {
     "name": "stdout",
     "output_type": "stream",
     "text": [
      "   8  2.82e+02  1.14e+02  8.36e+02\n",
      "   9  2.76e+02  1.17e+02  7.98e+02\n"
     ]
    },
    {
     "name": "stdout",
     "output_type": "stream",
     "text": [
      "  10  2.73e+02  1.17e+02  7.82e+02\n",
      "  11  2.71e+02  1.15e+02  7.75e+02\n"
     ]
    },
    {
     "name": "stdout",
     "output_type": "stream",
     "text": [
      "  12  2.68e+02  1.13e+02  7.76e+02\n",
      "  13  2.67e+02  1.11e+02  7.78e+02\n"
     ]
    },
    {
     "name": "stdout",
     "output_type": "stream",
     "text": [
      "  14  2.65e+02  1.09e+02  7.80e+02\n",
      "  15  2.64e+02  1.08e+02  7.81e+02\n"
     ]
    },
    {
     "name": "stdout",
     "output_type": "stream",
     "text": [
      "  16  2.63e+02  1.07e+02  7.80e+02\n",
      "  17  2.62e+02  1.06e+02  7.78e+02\n"
     ]
    },
    {
     "name": "stdout",
     "output_type": "stream",
     "text": [
      "  18  2.61e+02  1.06e+02  7.76e+02\n",
      "  19  2.60e+02  1.05e+02  7.73e+02\n"
     ]
    },
    {
     "name": "stdout",
     "output_type": "stream",
     "text": [
      "  20  2.59e+02  1.05e+02  7.71e+02\n",
      "  21  2.59e+02  1.05e+02  7.68e+02\n"
     ]
    },
    {
     "name": "stdout",
     "output_type": "stream",
     "text": [
      "  22  2.58e+02  1.05e+02  7.66e+02\n",
      "  23  2.57e+02  1.04e+02  7.65e+02\n"
     ]
    },
    {
     "name": "stdout",
     "output_type": "stream",
     "text": [
      "  24  2.57e+02  1.04e+02  7.64e+02\n",
      "  25  2.56e+02  1.04e+02  7.63e+02\n"
     ]
    },
    {
     "name": "stdout",
     "output_type": "stream",
     "text": [
      "  26  2.56e+02  1.04e+02  7.62e+02\n",
      "  27  2.56e+02  1.03e+02  7.62e+02\n"
     ]
    },
    {
     "name": "stdout",
     "output_type": "stream",
     "text": [
      "  28  2.55e+02  1.03e+02  7.61e+02\n",
      "  29  2.55e+02  1.03e+02  7.60e+02\n"
     ]
    },
    {
     "name": "stdout",
     "output_type": "stream",
     "text": [
      "  30  2.55e+02  1.03e+02  7.59e+02\n",
      "  31  2.54e+02  1.02e+02  7.59e+02\n"
     ]
    },
    {
     "name": "stdout",
     "output_type": "stream",
     "text": [
      "  32  2.54e+02  1.02e+02  7.58e+02\n",
      "  33  2.54e+02  1.02e+02  7.57e+02\n"
     ]
    },
    {
     "name": "stdout",
     "output_type": "stream",
     "text": [
      "  34  2.53e+02  1.02e+02  7.56e+02\n",
      "  35  2.53e+02  1.02e+02  7.56e+02\n"
     ]
    },
    {
     "name": "stdout",
     "output_type": "stream",
     "text": [
      "  36  2.53e+02  1.02e+02  7.55e+02\n",
      "  37  2.53e+02  1.02e+02  7.54e+02\n"
     ]
    },
    {
     "name": "stdout",
     "output_type": "stream",
     "text": [
      "  38  2.52e+02  1.01e+02  7.54e+02\n",
      "  39  2.52e+02  1.01e+02  7.53e+02\n"
     ]
    },
    {
     "name": "stdout",
     "output_type": "stream",
     "text": [
      "  40  2.52e+02  1.01e+02  7.53e+02\n",
      "  41  2.52e+02  1.01e+02  7.52e+02\n"
     ]
    },
    {
     "name": "stdout",
     "output_type": "stream",
     "text": [
      "  42  2.51e+02  1.01e+02  7.52e+02\n",
      "  43  2.51e+02  1.01e+02  7.52e+02\n"
     ]
    },
    {
     "name": "stdout",
     "output_type": "stream",
     "text": [
      "  44  2.51e+02  1.01e+02  7.51e+02\n",
      "  45  2.51e+02  1.01e+02  7.51e+02\n"
     ]
    },
    {
     "name": "stdout",
     "output_type": "stream",
     "text": [
      "  46  2.51e+02  1.01e+02  7.50e+02\n",
      "  47  2.50e+02  1.01e+02  7.50e+02\n"
     ]
    },
    {
     "name": "stdout",
     "output_type": "stream",
     "text": [
      "  48  2.50e+02  1.00e+02  7.49e+02\n",
      "  49  2.50e+02  1.00e+02  7.49e+02\n"
     ]
    },
    {
     "name": "stdout",
     "output_type": "stream",
     "text": [
      "  50  2.50e+02  1.00e+02  7.48e+02\n",
      "  51  2.50e+02  1.00e+02  7.48e+02\n"
     ]
    },
    {
     "name": "stdout",
     "output_type": "stream",
     "text": [
      "  52  2.50e+02  1.00e+02  7.48e+02\n",
      "  53  2.50e+02  1.00e+02  7.47e+02\n"
     ]
    },
    {
     "name": "stdout",
     "output_type": "stream",
     "text": [
      "  54  2.49e+02  1.00e+02  7.47e+02\n",
      "  55  2.49e+02  1.00e+02  7.46e+02\n"
     ]
    },
    {
     "name": "stdout",
     "output_type": "stream",
     "text": [
      "  56  2.49e+02  1.00e+02  7.46e+02\n",
      "  57  2.49e+02  9.99e+01  7.46e+02\n"
     ]
    },
    {
     "name": "stdout",
     "output_type": "stream",
     "text": [
      "  58  2.49e+02  9.99e+01  7.45e+02\n",
      "  59  2.49e+02  9.98e+01  7.45e+02\n"
     ]
    },
    {
     "name": "stdout",
     "output_type": "stream",
     "text": [
      "  60  2.49e+02  9.98e+01  7.45e+02\n",
      "  61  2.49e+02  9.97e+01  7.44e+02\n"
     ]
    },
    {
     "name": "stdout",
     "output_type": "stream",
     "text": [
      "  62  2.48e+02  9.97e+01  7.44e+02\n",
      "  63  2.48e+02  9.96e+01  7.44e+02\n"
     ]
    },
    {
     "name": "stdout",
     "output_type": "stream",
     "text": [
      "  64  2.48e+02  9.96e+01  7.43e+02\n"
     ]
    },
    {
     "name": "stdout",
     "output_type": "stream",
     "text": [
      "  65  2.48e+02  9.96e+01  7.43e+02\n",
      "  66  2.48e+02  9.95e+01  7.43e+02\n"
     ]
    },
    {
     "name": "stdout",
     "output_type": "stream",
     "text": [
      "  67  2.48e+02  9.94e+01  7.43e+02\n",
      "  68  2.48e+02  9.94e+01  7.42e+02\n"
     ]
    },
    {
     "name": "stdout",
     "output_type": "stream",
     "text": [
      "  69  2.48e+02  9.93e+01  7.42e+02\n",
      "  70  2.48e+02  9.93e+01  7.42e+02\n"
     ]
    },
    {
     "name": "stdout",
     "output_type": "stream",
     "text": [
      "  71  2.48e+02  9.93e+01  7.42e+02\n",
      "  72  2.48e+02  9.92e+01  7.42e+02\n"
     ]
    },
    {
     "name": "stdout",
     "output_type": "stream",
     "text": [
      "  73  2.47e+02  9.92e+01  7.41e+02\n",
      "  74  2.47e+02  9.91e+01  7.41e+02\n"
     ]
    },
    {
     "name": "stdout",
     "output_type": "stream",
     "text": [
      "  75  2.47e+02  9.91e+01  7.41e+02\n",
      "  76  2.47e+02  9.90e+01  7.41e+02\n"
     ]
    },
    {
     "name": "stdout",
     "output_type": "stream",
     "text": [
      "  77  2.47e+02  9.90e+01  7.41e+02\n",
      "  78  2.47e+02  9.89e+01  7.41e+02\n"
     ]
    },
    {
     "name": "stdout",
     "output_type": "stream",
     "text": [
      "  79  2.47e+02  9.89e+01  7.40e+02\n",
      "  80  2.47e+02  9.89e+01  7.40e+02\n"
     ]
    },
    {
     "name": "stdout",
     "output_type": "stream",
     "text": [
      "  81  2.47e+02  9.88e+01  7.40e+02\n",
      "  82  2.47e+02  9.88e+01  7.40e+02\n"
     ]
    },
    {
     "name": "stdout",
     "output_type": "stream",
     "text": [
      "  83  2.47e+02  9.88e+01  7.40e+02\n",
      "  84  2.47e+02  9.87e+01  7.40e+02\n"
     ]
    },
    {
     "name": "stdout",
     "output_type": "stream",
     "text": [
      "  85  2.47e+02  9.87e+01  7.40e+02\n",
      "  86  2.47e+02  9.86e+01  7.39e+02\n"
     ]
    },
    {
     "name": "stdout",
     "output_type": "stream",
     "text": [
      "  87  2.46e+02  9.86e+01  7.39e+02\n",
      "  88  2.46e+02  9.86e+01  7.39e+02\n"
     ]
    },
    {
     "name": "stdout",
     "output_type": "stream",
     "text": [
      "  89  2.46e+02  9.85e+01  7.39e+02\n",
      "  90  2.46e+02  9.85e+01  7.39e+02\n"
     ]
    },
    {
     "name": "stdout",
     "output_type": "stream",
     "text": [
      "  91  2.46e+02  9.85e+01  7.39e+02\n",
      "  92  2.46e+02  9.84e+01  7.39e+02\n"
     ]
    },
    {
     "name": "stdout",
     "output_type": "stream",
     "text": [
      "  93  2.46e+02  9.84e+01  7.39e+02\n",
      "  94  2.46e+02  9.84e+01  7.38e+02\n"
     ]
    },
    {
     "name": "stdout",
     "output_type": "stream",
     "text": [
      "  95  2.46e+02  9.84e+01  7.38e+02\n",
      "  96  2.46e+02  9.83e+01  7.38e+02\n"
     ]
    },
    {
     "name": "stdout",
     "output_type": "stream",
     "text": [
      "  97  2.46e+02  9.83e+01  7.38e+02\n",
      "  98  2.46e+02  9.83e+01  7.38e+02\n"
     ]
    },
    {
     "name": "stdout",
     "output_type": "stream",
     "text": [
      "  99  2.46e+02  9.82e+01  7.38e+02\n",
      " 100  2.46e+02  9.82e+01  7.38e+02\n"
     ]
    },
    {
     "name": "stdout",
     "output_type": "stream",
     "text": [
      " 101  2.46e+02  9.82e+01  7.38e+02\n",
      " 102  2.46e+02  9.82e+01  7.37e+02\n"
     ]
    },
    {
     "name": "stdout",
     "output_type": "stream",
     "text": [
      " 103  2.46e+02  9.82e+01  7.37e+02\n",
      " 104  2.46e+02  9.82e+01  7.37e+02\n"
     ]
    },
    {
     "name": "stdout",
     "output_type": "stream",
     "text": [
      " 105  2.46e+02  9.81e+01  7.37e+02\n",
      " 106  2.45e+02  9.81e+01  7.37e+02\n"
     ]
    },
    {
     "name": "stdout",
     "output_type": "stream",
     "text": [
      " 107  2.45e+02  9.81e+01  7.37e+02\n",
      " 108  2.45e+02  9.81e+01  7.37e+02\n"
     ]
    },
    {
     "name": "stdout",
     "output_type": "stream",
     "text": [
      " 109  2.45e+02  9.81e+01  7.36e+02\n",
      " 110  2.45e+02  9.81e+01  7.36e+02\n"
     ]
    },
    {
     "name": "stdout",
     "output_type": "stream",
     "text": [
      " 111  2.45e+02  9.80e+01  7.36e+02\n",
      " 112  2.45e+02  9.80e+01  7.36e+02\n"
     ]
    },
    {
     "name": "stdout",
     "output_type": "stream",
     "text": [
      " 113  2.45e+02  9.80e+01  7.36e+02\n",
      " 114  2.45e+02  9.80e+01  7.36e+02\n"
     ]
    },
    {
     "name": "stdout",
     "output_type": "stream",
     "text": [
      " 115  2.45e+02  9.80e+01  7.36e+02\n",
      " 116  2.45e+02  9.80e+01  7.36e+02\n"
     ]
    },
    {
     "name": "stdout",
     "output_type": "stream",
     "text": [
      " 117  2.45e+02  9.79e+01  7.35e+02\n",
      " 118  2.45e+02  9.79e+01  7.35e+02\n"
     ]
    },
    {
     "name": "stdout",
     "output_type": "stream",
     "text": [
      " 119  2.45e+02  9.79e+01  7.35e+02\n",
      " 120  2.45e+02  9.79e+01  7.35e+02\n"
     ]
    },
    {
     "name": "stdout",
     "output_type": "stream",
     "text": [
      " 121  2.45e+02  9.79e+01  7.35e+02\n",
      " 122  2.45e+02  9.79e+01  7.35e+02\n"
     ]
    },
    {
     "name": "stdout",
     "output_type": "stream",
     "text": [
      " 123  2.45e+02  9.79e+01  7.35e+02\n",
      " 124  2.45e+02  9.79e+01  7.34e+02\n"
     ]
    },
    {
     "name": "stdout",
     "output_type": "stream",
     "text": [
      " 125  2.45e+02  9.78e+01  7.34e+02\n",
      " 126  2.45e+02  9.78e+01  7.34e+02\n"
     ]
    },
    {
     "name": "stdout",
     "output_type": "stream",
     "text": [
      " 127  2.45e+02  9.78e+01  7.34e+02\n",
      " 128  2.45e+02  9.78e+01  7.34e+02\n"
     ]
    },
    {
     "name": "stdout",
     "output_type": "stream",
     "text": [
      " 129  2.45e+02  9.78e+01  7.34e+02\n",
      " 130  2.45e+02  9.78e+01  7.34e+02\n"
     ]
    },
    {
     "name": "stdout",
     "output_type": "stream",
     "text": [
      " 131  2.45e+02  9.78e+01  7.34e+02\n",
      " 132  2.44e+02  9.77e+01  7.34e+02\n"
     ]
    },
    {
     "name": "stdout",
     "output_type": "stream",
     "text": [
      " 133  2.44e+02  9.77e+01  7.34e+02\n",
      " 134  2.44e+02  9.77e+01  7.33e+02\n"
     ]
    },
    {
     "name": "stdout",
     "output_type": "stream",
     "text": [
      " 135  2.44e+02  9.77e+01  7.33e+02\n",
      " 136  2.44e+02  9.77e+01  7.33e+02\n"
     ]
    },
    {
     "name": "stdout",
     "output_type": "stream",
     "text": [
      " 137  2.44e+02  9.77e+01  7.33e+02\n",
      " 138  2.44e+02  9.77e+01  7.33e+02\n"
     ]
    },
    {
     "name": "stdout",
     "output_type": "stream",
     "text": [
      " 139  2.44e+02  9.77e+01  7.33e+02\n",
      " 140  2.44e+02  9.77e+01  7.33e+02\n"
     ]
    },
    {
     "name": "stdout",
     "output_type": "stream",
     "text": [
      " 141  2.44e+02  9.76e+01  7.33e+02\n",
      " 142  2.44e+02  9.76e+01  7.33e+02\n"
     ]
    },
    {
     "name": "stdout",
     "output_type": "stream",
     "text": [
      " 143  2.44e+02  9.76e+01  7.33e+02\n",
      " 144  2.44e+02  9.76e+01  7.32e+02\n"
     ]
    },
    {
     "name": "stdout",
     "output_type": "stream",
     "text": [
      " 145  2.44e+02  9.76e+01  7.32e+02\n",
      " 146  2.44e+02  9.76e+01  7.32e+02\n"
     ]
    },
    {
     "name": "stdout",
     "output_type": "stream",
     "text": [
      " 147  2.44e+02  9.76e+01  7.32e+02\n",
      " 148  2.44e+02  9.76e+01  7.32e+02\n"
     ]
    },
    {
     "name": "stdout",
     "output_type": "stream",
     "text": [
      " 149  2.44e+02  9.75e+01  7.32e+02\n",
      " 150  2.44e+02  9.75e+01  7.32e+02\n"
     ]
    },
    {
     "name": "stdout",
     "output_type": "stream",
     "text": [
      " 151  2.44e+02  9.75e+01  7.32e+02\n",
      " 152  2.44e+02  9.75e+01  7.32e+02\n"
     ]
    },
    {
     "name": "stdout",
     "output_type": "stream",
     "text": [
      " 153  2.44e+02  9.75e+01  7.32e+02\n",
      " 154  2.44e+02  9.75e+01  7.32e+02\n"
     ]
    },
    {
     "name": "stdout",
     "output_type": "stream",
     "text": [
      " 155  2.44e+02  9.75e+01  7.32e+02\n",
      " 156  2.44e+02  9.74e+01  7.32e+02\n"
     ]
    },
    {
     "name": "stdout",
     "output_type": "stream",
     "text": [
      " 157  2.44e+02  9.74e+01  7.32e+02\n",
      " 158  2.44e+02  9.74e+01  7.31e+02\n"
     ]
    },
    {
     "name": "stdout",
     "output_type": "stream",
     "text": [
      " 159  2.44e+02  9.74e+01  7.31e+02\n",
      " 160  2.44e+02  9.74e+01  7.31e+02\n"
     ]
    },
    {
     "name": "stdout",
     "output_type": "stream",
     "text": [
      " 161  2.44e+02  9.74e+01  7.31e+02\n",
      " 162  2.44e+02  9.74e+01  7.31e+02\n"
     ]
    },
    {
     "name": "stdout",
     "output_type": "stream",
     "text": [
      " 163  2.44e+02  9.73e+01  7.31e+02\n",
      " 164  2.44e+02  9.73e+01  7.31e+02\n"
     ]
    },
    {
     "name": "stdout",
     "output_type": "stream",
     "text": [
      " 165  2.44e+02  9.73e+01  7.31e+02\n",
      " 166  2.43e+02  9.73e+01  7.31e+02\n"
     ]
    },
    {
     "name": "stdout",
     "output_type": "stream",
     "text": [
      " 167  2.43e+02  9.73e+01  7.31e+02\n",
      " 168  2.43e+02  9.73e+01  7.31e+02\n"
     ]
    },
    {
     "name": "stdout",
     "output_type": "stream",
     "text": [
      " 169  2.43e+02  9.73e+01  7.31e+02\n",
      " 170  2.43e+02  9.73e+01  7.31e+02\n"
     ]
    },
    {
     "name": "stdout",
     "output_type": "stream",
     "text": [
      " 171  2.43e+02  9.73e+01  7.31e+02\n",
      " 172  2.43e+02  9.72e+01  7.30e+02\n"
     ]
    },
    {
     "name": "stdout",
     "output_type": "stream",
     "text": [
      " 173  2.43e+02  9.72e+01  7.30e+02\n",
      " 174  2.43e+02  9.72e+01  7.30e+02\n"
     ]
    },
    {
     "name": "stdout",
     "output_type": "stream",
     "text": [
      " 175  2.43e+02  9.72e+01  7.30e+02\n",
      " 176  2.43e+02  9.72e+01  7.30e+02\n"
     ]
    },
    {
     "name": "stdout",
     "output_type": "stream",
     "text": [
      " 177  2.43e+02  9.72e+01  7.30e+02\n",
      " 178  2.43e+02  9.72e+01  7.30e+02\n"
     ]
    },
    {
     "name": "stdout",
     "output_type": "stream",
     "text": [
      " 179  2.43e+02  9.72e+01  7.30e+02\n",
      " 180  2.43e+02  9.72e+01  7.30e+02\n"
     ]
    },
    {
     "name": "stdout",
     "output_type": "stream",
     "text": [
      " 181  2.43e+02  9.72e+01  7.30e+02\n",
      " 182  2.43e+02  9.72e+01  7.29e+02\n"
     ]
    },
    {
     "name": "stdout",
     "output_type": "stream",
     "text": [
      " 183  2.43e+02  9.72e+01  7.29e+02\n",
      " 184  2.43e+02  9.72e+01  7.29e+02\n"
     ]
    },
    {
     "name": "stdout",
     "output_type": "stream",
     "text": [
      " 185  2.43e+02  9.72e+01  7.29e+02\n",
      " 186  2.43e+02  9.72e+01  7.29e+02\n"
     ]
    },
    {
     "name": "stdout",
     "output_type": "stream",
     "text": [
      " 187  2.43e+02  9.72e+01  7.29e+02\n",
      " 188  2.43e+02  9.71e+01  7.29e+02\n"
     ]
    },
    {
     "name": "stdout",
     "output_type": "stream",
     "text": [
      " 189  2.43e+02  9.71e+01  7.29e+02\n",
      " 190  2.43e+02  9.71e+01  7.29e+02\n"
     ]
    },
    {
     "name": "stdout",
     "output_type": "stream",
     "text": [
      " 191  2.43e+02  9.71e+01  7.29e+02\n",
      " 192  2.43e+02  9.71e+01  7.28e+02\n"
     ]
    },
    {
     "name": "stdout",
     "output_type": "stream",
     "text": [
      " 193  2.43e+02  9.71e+01  7.28e+02\n",
      " 194  2.43e+02  9.71e+01  7.28e+02\n"
     ]
    },
    {
     "name": "stdout",
     "output_type": "stream",
     "text": [
      " 195  2.43e+02  9.71e+01  7.28e+02\n",
      " 196  2.43e+02  9.71e+01  7.28e+02\n"
     ]
    },
    {
     "name": "stdout",
     "output_type": "stream",
     "text": [
      " 197  2.43e+02  9.71e+01  7.28e+02\n",
      " 198  2.43e+02  9.71e+01  7.28e+02\n"
     ]
    },
    {
     "name": "stdout",
     "output_type": "stream",
     "text": [
      " 199  2.43e+02  9.71e+01  7.28e+02\n",
      "----------------------------------\n",
      "ConvBPDNDictLearn_Consensus solve time: 32.88s\n"
     ]
    }
   ],
   "source": [
    "d = prlcnscdl.ConvBPDNDictLearn_Consensus(D0, sh, lmbda, opt)\n",
    "D1 = d.solve()\n",
    "print(\"ConvBPDNDictLearn_Consensus solve time: %.2fs\" %\n",
    "      d.timer.elapsed('solve'))"
   ]
  },
  {
   "cell_type": "markdown",
   "metadata": {},
   "source": [
    "Display initial and final dictionaries."
   ]
  },
  {
   "cell_type": "code",
   "execution_count": 7,
   "metadata": {
    "collapsed": false
   },
   "outputs": [
    {
     "data": {
      "image/png": "[encoded data removed]",
      "text/plain": [
       "<matplotlib.figure.Figure at 0x7f35520a73c8>"
      ]
     },
     "metadata": {},
     "output_type": "display_data"
    }
   ],
   "source": [
    "D1 = D1.squeeze()\n",
    "fig = plot.figure(figsize=(14, 7))\n",
    "plot.subplot(1, 2, 1)\n",
    "plot.imview(util.tiledict(D0), title='D0', fig=fig)\n",
    "plot.subplot(1, 2, 2)\n",
    "plot.imview(util.tiledict(D1), title='D1', fig=fig)\n",
    "fig.show()"
   ]
  },
  {
   "cell_type": "markdown",
   "metadata": {},
   "source": [
    "Get iterations statistics from solver object and plot functional value"
   ]
  },
  {
   "cell_type": "code",
   "execution_count": 8,
   "metadata": {
    "collapsed": false
   },
   "outputs": [
    {
     "data": {
      "image/png": "[encoded data removed]",
      "text/plain": [
       "<matplotlib.figure.Figure at 0x7f3551f84630>"
      ]
     },
     "metadata": {},
     "output_type": "display_data"
    }
   ],
   "source": [
    "its = d.getitstat()\n",
    "plot.plot(its.ObjFun, xlbl='Iterations', ylbl='Functional')"
   ]
  }
 ],
 "metadata": {},
 "nbformat": 4,
 "nbformat_minor": 2
}
