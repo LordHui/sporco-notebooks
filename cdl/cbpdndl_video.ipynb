{
 "cells": [
  {
   "cell_type": "markdown",
   "metadata": {},
   "source": [
    "Convolutional Dictionary Learning\n",
    "=================================\n",
    "\n",
    "This example demonstrates the use of [admm.cbpdndl.ConvBPDNDictLearn](http://sporco.rtfd.org/en/latest/sporco.admm.cbpdndl.html#sporco.admm.cbpdndl.ConvBPDNDictLearn) for learning a 3D convolutional dictionary from video data. The dictionary learning algorithm is based on the ADMM consensus dictionary update."
   ]
  },
  {
   "cell_type": "code",
   "execution_count": 1,
   "metadata": {
    "collapsed": false
   },
   "outputs": [],
   "source": [
    "from __future__ import print_function\n",
    "from builtins import input\n",
    "from builtins import range\n",
    "\n",
    "import numpy as np\n",
    "import os.path\n",
    "import tempfile\n",
    "import sys\n",
    "try:\n",
    "    import skvideo.datasets\n",
    "    import skvideo.io\n",
    "except ImportError:\n",
    "    print('Package sk-video is required by this demo script', file=sys.stderr)\n",
    "    raise\n",
    "\n",
    "from sporco.admm import cbpdndl\n",
    "from sporco import util\n",
    "from sporco import plot\n",
    "plot.config_notebook_plotting()"
   ]
  },
  {
   "cell_type": "markdown",
   "metadata": {},
   "source": [
    "Construct 3D training array from video data"
   ]
  },
  {
   "cell_type": "code",
   "execution_count": 2,
   "metadata": {
    "collapsed": false
   },
   "outputs": [],
   "source": [
    "vid = skvideo.io.vread(skvideo.datasets.fullreferencepair()[0],\n",
    "                outputdict={\"-pix_fmt\": \"gray\"})[..., 0]\n",
    "vid = np.moveaxis(vid, 0, -1)\n",
    "vid = vid[0:106,40:136, 10:42].astype(np.float32)/255.0"
   ]
  },
  {
   "cell_type": "markdown",
   "metadata": {},
   "source": [
    "Highpass filter video frames."
   ]
  },
  {
   "cell_type": "code",
   "execution_count": 3,
   "metadata": {
    "collapsed": false
   },
   "outputs": [],
   "source": [
    "npd = 16\n",
    "fltlmbd = 10\n",
    "vl, vh = util.tikhonov_filter(vid, fltlmbd, npd)"
   ]
  },
  {
   "cell_type": "markdown",
   "metadata": {},
   "source": [
    "Construct initial dictionary."
   ]
  },
  {
   "cell_type": "code",
   "execution_count": 4,
   "metadata": {
    "collapsed": false
   },
   "outputs": [],
   "source": [
    "np.random.seed(12345)\n",
    "D0 = np.random.randn(5, 5, 3, 25)"
   ]
  },
  {
   "cell_type": "markdown",
   "metadata": {},
   "source": [
    "Set regularization parameter and options for dictionary learning solver."
   ]
  },
  {
   "cell_type": "code",
   "execution_count": 5,
   "metadata": {
    "collapsed": false
   },
   "outputs": [],
   "source": [
    "lmbda = 0.1\n",
    "opt = cbpdndl.ConvBPDNDictLearn.Options({'Verbose': True, 'MaxMainIter': 200,\n",
    "                'CBPDN': {'rho': 5e1*lmbda, 'AutoRho': {'Enabled': True}},\n",
    "                'CCMOD': {'rho': 1e2, 'AutoRho': {'Enabled': True}}})"
   ]
  },
  {
   "cell_type": "markdown",
   "metadata": {},
   "source": [
    "Create solver object and solve."
   ]
  },
  {
   "cell_type": "code",
   "execution_count": 6,
   "metadata": {
    "collapsed": false
   },
   "outputs": [
    {
     "name": "stdout",
     "output_type": "stream",
     "text": [
      "Itn   Fnc       DFid      ℓ1        Cnstr     r_X       s_X       ρ_X       r_D       s_D       ρ_D       \n",
      "--------------------------------------------------------------------------------------------------------\n"
     ]
    },
    {
     "name": "stdout",
     "output_type": "stream",
     "text": [
      "   0  1.42e+03  3.09e+01  1.39e+04  5.06e-07  9.49e-01  1.16e-01  5.00e+00  3.12e-01  1.74e-01  1.00e+02\n"
     ]
    },
    {
     "name": "stdout",
     "output_type": "stream",
     "text": [
      "   1  9.53e+02  1.29e+02  8.24e+03  5.06e-07  6.03e-01  3.10e-01  5.00e+00  1.88e-01  1.58e-01  1.00e+02\n"
     ]
    },
    {
     "name": "stdout",
     "output_type": "stream",
     "text": [
      "   2  9.56e+02  1.32e+02  8.25e+03  4.31e-07  3.44e-01  2.92e-01  5.00e+00  1.42e-01  1.09e-01  1.00e+02\n"
     ]
    },
    {
     "name": "stdout",
     "output_type": "stream",
     "text": [
      "   3  9.42e+02  1.01e+02  8.41e+03  3.36e-07  2.89e-01  2.25e-01  5.00e+00  1.27e-01  9.31e-02  1.00e+02\n"
     ]
    },
    {
     "name": "stdout",
     "output_type": "stream",
     "text": [
      "   4  7.49e+02  8.70e+01  6.62e+03  5.35e-07  2.45e-01  2.05e-01  5.00e+00  1.09e-01  9.18e-02  1.00e+02\n"
     ]
    },
    {
     "name": "stdout",
     "output_type": "stream",
     "text": [
      "   5  6.44e+02  8.58e+01  5.59e+03  4.19e-07  2.13e-01  1.43e-01  5.00e+00  9.40e-02  9.24e-02  1.00e+02\n"
     ]
    },
    {
     "name": "stdout",
     "output_type": "stream",
     "text": [
      "   6  5.85e+02  8.68e+01  4.98e+03  5.78e-07  1.70e-01  1.12e-01  5.00e+00  8.13e-02  8.68e-02  1.00e+02\n"
     ]
    },
    {
     "name": "stdout",
     "output_type": "stream",
     "text": [
      "   7  5.55e+02  8.47e+01  4.70e+03  4.91e-07  1.36e-01  9.65e-02  5.00e+00  6.75e-02  7.79e-02  1.00e+02\n"
     ]
    },
    {
     "name": "stdout",
     "output_type": "stream",
     "text": [
      "   8  5.40e+02  8.00e+01  4.60e+03  3.65e-07  1.17e-01  8.46e-02  5.00e+00  5.90e-02  7.03e-02  1.00e+02\n"
     ]
    },
    {
     "name": "stdout",
     "output_type": "stream",
     "text": [
      "   9  5.08e+02  7.57e+01  4.32e+03  4.15e-07  1.02e-01  8.02e-02  5.00e+00  5.47e-02  6.47e-02  1.00e+02\n"
     ]
    },
    {
     "name": "stdout",
     "output_type": "stream",
     "text": [
      "  10  4.71e+02  7.32e+01  3.98e+03  4.20e-07  9.02e-02  7.18e-02  5.00e+00  4.91e-02  6.05e-02  1.00e+02\n"
     ]
    },
    {
     "name": "stdout",
     "output_type": "stream",
     "text": [
      "  11  4.46e+02  7.21e+01  3.74e+03  3.96e-07  7.89e-02  6.27e-02  5.00e+00  4.42e-02  5.67e-02  1.00e+02\n"
     ]
    },
    {
     "name": "stdout",
     "output_type": "stream",
     "text": [
      "  12  4.28e+02  7.14e+01  3.57e+03  5.17e-07  6.87e-02  5.71e-02  5.00e+00  4.09e-02  5.29e-02  1.00e+02\n"
     ]
    },
    {
     "name": "stdout",
     "output_type": "stream",
     "text": [
      "  13  4.17e+02  7.03e+01  3.47e+03  4.57e-07  6.11e-02  5.18e-02  5.00e+00  3.69e-02  4.91e-02  1.00e+02\n"
     ]
    },
    {
     "name": "stdout",
     "output_type": "stream",
     "text": [
      "  14  4.08e+02  6.89e+01  3.39e+03  4.69e-07  5.52e-02  4.80e-02  5.00e+00  3.35e-02  4.58e-02  1.00e+02\n"
     ]
    },
    {
     "name": "stdout",
     "output_type": "stream",
     "text": [
      "  15  3.95e+02  6.76e+01  3.28e+03  4.82e-07  5.00e-02  4.54e-02  5.00e+00  3.12e-02  4.29e-02  1.00e+02\n"
     ]
    },
    {
     "name": "stdout",
     "output_type": "stream",
     "text": [
      "  16  3.84e+02  6.67e+01  3.17e+03  5.34e-07  4.57e-02  4.24e-02  5.00e+00  2.89e-02  4.05e-02  1.00e+02\n"
     ]
    },
    {
     "name": "stdout",
     "output_type": "stream",
     "text": [
      "  17  3.74e+02  6.61e+01  3.08e+03  4.23e-07  4.18e-02  3.93e-02  5.00e+00  2.67e-02  3.83e-02  1.00e+02\n"
     ]
    },
    {
     "name": "stdout",
     "output_type": "stream",
     "text": [
      "  18  3.67e+02  6.55e+01  3.02e+03  3.01e-07  3.83e-02  3.70e-02  5.00e+00  2.49e-02  3.62e-02  1.00e+02\n"
     ]
    },
    {
     "name": "stdout",
     "output_type": "stream",
     "text": [
      "  19  3.62e+02  6.49e+01  2.97e+03  4.79e-07  3.55e-02  3.49e-02  5.00e+00  2.33e-02  3.41e-02  1.00e+02\n"
     ]
    },
    {
     "name": "stdout",
     "output_type": "stream",
     "text": [
      "  20  3.57e+02  6.42e+01  2.93e+03  4.85e-07  3.30e-02  3.30e-02  5.00e+00  2.17e-02  3.22e-02  1.00e+02\n"
     ]
    },
    {
     "name": "stdout",
     "output_type": "stream",
     "text": [
      "  21  3.51e+02  6.36e+01  2.88e+03  3.86e-07  3.09e-02  3.15e-02  5.00e+00  2.05e-02  3.05e-02  1.00e+02\n"
     ]
    },
    {
     "name": "stdout",
     "output_type": "stream",
     "text": [
      "  22  3.46e+02  6.30e+01  2.83e+03  5.11e-07  2.90e-02  3.00e-02  5.00e+00  1.96e-02  2.90e-02  1.00e+02\n"
     ]
    },
    {
     "name": "stdout",
     "output_type": "stream",
     "text": [
      "  23  3.42e+02  6.26e+01  2.79e+03  4.54e-07  2.73e-02  2.86e-02  5.00e+00  1.86e-02  2.75e-02  1.00e+02\n"
     ]
    },
    {
     "name": "stdout",
     "output_type": "stream",
     "text": [
      "  24  3.38e+02  6.23e+01  2.76e+03  3.84e-07  2.57e-02  2.72e-02  5.00e+00  1.77e-02  2.62e-02  1.00e+02\n"
     ]
    },
    {
     "name": "stdout",
     "output_type": "stream",
     "text": [
      "  25  3.35e+02  6.20e+01  2.73e+03  3.92e-07  2.43e-02  2.60e-02  5.00e+00  1.68e-02  2.50e-02  1.00e+02\n"
     ]
    },
    {
     "name": "stdout",
     "output_type": "stream",
     "text": [
      "  26  3.32e+02  6.17e+01  2.70e+03  4.98e-07  2.30e-02  2.50e-02  5.00e+00  1.61e-02  2.39e-02  1.00e+02\n"
     ]
    },
    {
     "name": "stdout",
     "output_type": "stream",
     "text": [
      "  27  3.29e+02  6.13e+01  2.68e+03  6.08e-07  2.19e-02  2.40e-02  5.00e+00  1.54e-02  2.28e-02  1.00e+02\n"
     ]
    },
    {
     "name": "stdout",
     "output_type": "stream",
     "text": [
      "  28  3.27e+02  6.10e+01  2.66e+03  4.66e-07  2.10e-02  2.32e-02  5.00e+00  1.49e-02  2.18e-02  1.00e+02\n"
     ]
    },
    {
     "name": "stdout",
     "output_type": "stream",
     "text": [
      "  29  3.24e+02  6.07e+01  2.63e+03  3.75e-07  2.01e-02  2.24e-02  5.00e+00  1.44e-02  2.09e-02  1.00e+02\n"
     ]
    },
    {
     "name": "stdout",
     "output_type": "stream",
     "text": [
      "  30  3.22e+02  6.04e+01  2.61e+03  3.87e-07  1.92e-02  2.17e-02  5.00e+00  1.40e-02  2.01e-02  1.00e+02\n"
     ]
    },
    {
     "name": "stdout",
     "output_type": "stream",
     "text": [
      "  31  3.20e+02  6.02e+01  2.60e+03  5.53e-07  1.85e-02  2.10e-02  5.00e+00  1.35e-02  1.93e-02  1.00e+02\n"
     ]
    },
    {
     "name": "stdout",
     "output_type": "stream",
     "text": [
      "  32  3.18e+02  6.00e+01  2.58e+03  4.69e-07  1.78e-02  2.04e-02  5.00e+00  1.31e-02  1.86e-02  1.00e+02\n"
     ]
    },
    {
     "name": "stdout",
     "output_type": "stream",
     "text": [
      "  33  3.17e+02  5.98e+01  2.57e+03  4.28e-07  1.72e-02  1.98e-02  5.00e+00  1.28e-02  1.79e-02  1.00e+02\n"
     ]
    },
    {
     "name": "stdout",
     "output_type": "stream",
     "text": [
      "  34  3.15e+02  5.96e+01  2.56e+03  4.23e-07  1.66e-02  1.93e-02  5.00e+00  1.24e-02  1.73e-02  1.00e+02\n"
     ]
    },
    {
     "name": "stdout",
     "output_type": "stream",
     "text": [
      "  35  3.14e+02  5.94e+01  2.54e+03  4.79e-07  1.61e-02  1.87e-02  5.00e+00  1.21e-02  1.67e-02  1.00e+02\n"
     ]
    },
    {
     "name": "stdout",
     "output_type": "stream",
     "text": [
      "  36  3.12e+02  5.92e+01  2.53e+03  5.14e-07  1.55e-02  1.82e-02  5.00e+00  1.18e-02  1.61e-02  1.00e+02\n"
     ]
    },
    {
     "name": "stdout",
     "output_type": "stream",
     "text": [
      "  37  3.11e+02  5.90e+01  2.52e+03  4.88e-07  1.50e-02  1.77e-02  5.00e+00  1.15e-02  1.56e-02  1.00e+02\n"
     ]
    },
    {
     "name": "stdout",
     "output_type": "stream",
     "text": [
      "  38  3.10e+02  5.89e+01  2.51e+03  5.35e-07  1.46e-02  1.73e-02  5.00e+00  1.12e-02  1.51e-02  1.00e+02\n"
     ]
    },
    {
     "name": "stdout",
     "output_type": "stream",
     "text": [
      "  39  3.09e+02  5.87e+01  2.50e+03  5.31e-07  1.42e-02  1.68e-02  5.00e+00  1.09e-02  1.46e-02  1.00e+02\n"
     ]
    },
    {
     "name": "stdout",
     "output_type": "stream",
     "text": [
      "  40  3.08e+02  5.86e+01  2.49e+03  5.55e-07  1.38e-02  1.64e-02  5.00e+00  1.07e-02  1.41e-02  1.00e+02\n"
     ]
    },
    {
     "name": "stdout",
     "output_type": "stream",
     "text": [
      "  41  3.07e+02  5.84e+01  2.48e+03  3.48e-07  1.34e-02  1.60e-02  5.00e+00  1.04e-02  1.37e-02  1.00e+02\n"
     ]
    },
    {
     "name": "stdout",
     "output_type": "stream",
     "text": [
      "  42  3.06e+02  5.83e+01  2.48e+03  3.90e-07  1.30e-02  1.57e-02  5.00e+00  1.02e-02  1.33e-02  1.00e+02\n"
     ]
    },
    {
     "name": "stdout",
     "output_type": "stream",
     "text": [
      "  43  3.05e+02  5.81e+01  2.47e+03  3.58e-07  1.27e-02  1.53e-02  5.00e+00  1.00e-02  1.29e-02  1.00e+02\n"
     ]
    },
    {
     "name": "stdout",
     "output_type": "stream",
     "text": [
      "  44  3.04e+02  5.80e+01  2.46e+03  4.86e-07  1.24e-02  1.50e-02  5.00e+00  9.80e-03  1.26e-02  1.00e+02\n"
     ]
    },
    {
     "name": "stdout",
     "output_type": "stream",
     "text": [
      "  45  3.03e+02  5.79e+01  2.45e+03  4.56e-07  1.21e-02  1.47e-02  5.00e+00  9.59e-03  1.22e-02  1.00e+02\n"
     ]
    },
    {
     "name": "stdout",
     "output_type": "stream",
     "text": [
      "  46  3.02e+02  5.78e+01  2.45e+03  5.23e-07  1.18e-02  1.43e-02  5.00e+00  9.40e-03  1.19e-02  1.00e+02\n"
     ]
    },
    {
     "name": "stdout",
     "output_type": "stream",
     "text": [
      "  47  3.02e+02  5.77e+01  2.44e+03  4.75e-07  1.15e-02  1.41e-02  5.00e+00  9.23e-03  1.16e-02  1.00e+02\n"
     ]
    },
    {
     "name": "stdout",
     "output_type": "stream",
     "text": [
      "  48  3.01e+02  5.76e+01  2.44e+03  4.10e-07  1.12e-02  1.37e-02  5.00e+00  9.05e-03  1.13e-02  1.00e+02\n"
     ]
    },
    {
     "name": "stdout",
     "output_type": "stream",
     "text": [
      "  49  3.00e+02  5.75e+01  2.43e+03  5.33e-07  1.09e-02  1.35e-02  5.00e+00  8.88e-03  1.10e-02  1.00e+02\n"
     ]
    },
    {
     "name": "stdout",
     "output_type": "stream",
     "text": [
      "  50  3.00e+02  5.73e+01  2.42e+03  4.30e-07  1.07e-02  1.32e-02  5.00e+00  8.71e-03  1.08e-02  1.00e+02\n"
     ]
    },
    {
     "name": "stdout",
     "output_type": "stream",
     "text": [
      "  51  2.99e+02  5.72e+01  2.42e+03  5.55e-07  1.05e-02  1.29e-02  5.00e+00  8.55e-03  1.06e-02  1.00e+02\n"
     ]
    },
    {
     "name": "stdout",
     "output_type": "stream",
     "text": [
      "  52  2.99e+02  5.71e+01  2.41e+03  4.76e-07  1.02e-02  1.26e-02  5.00e+00  8.41e-03  1.03e-02  1.00e+02\n"
     ]
    },
    {
     "name": "stdout",
     "output_type": "stream",
     "text": [
      "  53  2.98e+02  5.71e+01  2.41e+03  5.92e-07  1.00e-02  1.24e-02  5.00e+00  8.26e-03  1.01e-02  1.00e+02\n"
     ]
    },
    {
     "name": "stdout",
     "output_type": "stream",
     "text": [
      "  54  2.97e+02  5.70e+01  2.41e+03  3.76e-07  9.83e-03  1.22e-02  5.00e+00  8.13e-03  9.90e-03  1.00e+02\n"
     ]
    },
    {
     "name": "stdout",
     "output_type": "stream",
     "text": [
      "  55  2.97e+02  5.69e+01  2.40e+03  4.42e-07  9.64e-03  1.20e-02  5.00e+00  8.00e-03  9.70e-03  1.00e+02\n"
     ]
    },
    {
     "name": "stdout",
     "output_type": "stream",
     "text": [
      "  56  2.96e+02  5.68e+01  2.40e+03  4.52e-07  9.46e-03  1.17e-02  5.00e+00  7.87e-03  9.52e-03  1.00e+02\n"
     ]
    },
    {
     "name": "stdout",
     "output_type": "stream",
     "text": [
      "  57  2.96e+02  5.67e+01  2.39e+03  4.44e-07  9.28e-03  1.15e-02  5.00e+00  7.74e-03  9.34e-03  1.00e+02\n"
     ]
    },
    {
     "name": "stdout",
     "output_type": "stream",
     "text": [
      "  58  2.96e+02  5.66e+01  2.39e+03  4.76e-07  9.10e-03  1.13e-02  5.00e+00  7.62e-03  9.17e-03  1.00e+02\n"
     ]
    },
    {
     "name": "stdout",
     "output_type": "stream",
     "text": [
      "  59  2.95e+02  5.65e+01  2.39e+03  5.52e-07  8.94e-03  1.11e-02  5.00e+00  7.50e-03  9.01e-03  1.00e+02\n"
     ]
    },
    {
     "name": "stdout",
     "output_type": "stream",
     "text": [
      "  60  2.95e+02  5.65e+01  2.38e+03  4.47e-07  8.80e-03  1.09e-02  5.00e+00  7.38e-03  8.85e-03  1.00e+02\n"
     ]
    },
    {
     "name": "stdout",
     "output_type": "stream",
     "text": [
      "  61  2.94e+02  5.64e+01  2.38e+03  5.33e-07  8.65e-03  1.07e-02  5.00e+00  7.27e-03  8.70e-03  1.00e+02\n"
     ]
    },
    {
     "name": "stdout",
     "output_type": "stream",
     "text": [
      "  62  2.94e+02  5.63e+01  2.38e+03  4.46e-07  8.51e-03  1.06e-02  5.00e+00  7.17e-03  8.56e-03  1.00e+02\n"
     ]
    },
    {
     "name": "stdout",
     "output_type": "stream",
     "text": [
      "  63  2.94e+02  5.63e+01  2.37e+03  4.65e-07  8.37e-03  1.04e-02  5.00e+00  7.07e-03  8.43e-03  1.00e+02\n"
     ]
    },
    {
     "name": "stdout",
     "output_type": "stream",
     "text": [
      "  64  2.93e+02  5.62e+01  2.37e+03  5.81e-07  8.25e-03  1.02e-02  5.00e+00  6.97e-03  8.31e-03  1.00e+02\n"
     ]
    },
    {
     "name": "stdout",
     "output_type": "stream",
     "text": [
      "  65  2.93e+02  5.61e+01  2.37e+03  5.52e-07  8.13e-03  1.01e-02  5.00e+00  6.87e-03  8.19e-03  1.00e+02\n"
     ]
    },
    {
     "name": "stdout",
     "output_type": "stream",
     "text": [
      "  66  2.93e+02  5.60e+01  2.37e+03  5.50e-07  8.01e-03  9.92e-03  5.00e+00  6.78e-03  8.07e-03  1.00e+02\n"
     ]
    },
    {
     "name": "stdout",
     "output_type": "stream",
     "text": [
      "  67  2.92e+02  5.60e+01  2.36e+03  5.59e-07  7.90e-03  9.79e-03  5.00e+00  6.70e-03  7.96e-03  1.00e+02\n"
     ]
    },
    {
     "name": "stdout",
     "output_type": "stream",
     "text": [
      "  68  2.92e+02  5.59e+01  2.36e+03  4.47e-07  7.80e-03  9.66e-03  5.00e+00  6.61e-03  7.86e-03  1.00e+02\n"
     ]
    },
    {
     "name": "stdout",
     "output_type": "stream",
     "text": [
      "  69  2.92e+02  5.59e+01  2.36e+03  4.08e-07  7.71e-03  9.53e-03  5.00e+00  6.53e-03  7.77e-03  1.00e+02\n"
     ]
    },
    {
     "name": "stdout",
     "output_type": "stream",
     "text": [
      "  70  2.91e+02  5.58e+01  2.36e+03  5.03e-07  7.62e-03  9.43e-03  5.00e+00  6.47e-03  7.68e-03  1.00e+02\n"
     ]
    },
    {
     "name": "stdout",
     "output_type": "stream",
     "text": [
      "  71  2.91e+02  5.57e+01  2.35e+03  4.19e-07  7.54e-03  9.31e-03  5.00e+00  6.40e-03  7.60e-03  1.00e+02\n"
     ]
    },
    {
     "name": "stdout",
     "output_type": "stream",
     "text": [
      "  72  2.91e+02  5.57e+01  2.35e+03  3.81e-07  7.47e-03  9.21e-03  5.00e+00  6.34e-03  7.52e-03  1.00e+02\n"
     ]
    },
    {
     "name": "stdout",
     "output_type": "stream",
     "text": [
      "  73  2.91e+02  5.56e+01  2.35e+03  4.62e-07  7.40e-03  9.11e-03  5.00e+00  6.28e-03  7.45e-03  1.00e+02\n"
     ]
    },
    {
     "name": "stdout",
     "output_type": "stream",
     "text": [
      "  74  2.90e+02  5.56e+01  2.35e+03  4.82e-07  7.33e-03  9.00e-03  5.00e+00  6.22e-03  7.38e-03  1.00e+02\n"
     ]
    },
    {
     "name": "stdout",
     "output_type": "stream",
     "text": [
      "  75  2.90e+02  5.55e+01  2.35e+03  5.10e-07  7.27e-03  8.91e-03  5.00e+00  6.17e-03  7.31e-03  1.00e+02\n"
     ]
    },
    {
     "name": "stdout",
     "output_type": "stream",
     "text": [
      "  76  2.90e+02  5.54e+01  2.35e+03  4.21e-07  7.21e-03  8.81e-03  5.00e+00  6.12e-03  7.25e-03  1.00e+02\n"
     ]
    },
    {
     "name": "stdout",
     "output_type": "stream",
     "text": [
      "  77  2.90e+02  5.54e+01  2.34e+03  3.92e-07  7.16e-03  8.72e-03  5.00e+00  6.08e-03  7.19e-03  1.00e+02\n"
     ]
    },
    {
     "name": "stdout",
     "output_type": "stream",
     "text": [
      "  78  2.90e+02  5.53e+01  2.34e+03  4.76e-07  7.10e-03  8.64e-03  5.00e+00  6.04e-03  7.14e-03  1.00e+02\n"
     ]
    },
    {
     "name": "stdout",
     "output_type": "stream",
     "text": [
      "  79  2.89e+02  5.53e+01  2.34e+03  4.98e-07  7.06e-03  8.56e-03  5.00e+00  6.00e-03  7.09e-03  1.00e+02\n"
     ]
    },
    {
     "name": "stdout",
     "output_type": "stream",
     "text": [
      "  80  2.89e+02  5.52e+01  2.34e+03  4.29e-07  7.02e-03  8.50e-03  5.00e+00  5.97e-03  7.05e-03  1.00e+02\n"
     ]
    },
    {
     "name": "stdout",
     "output_type": "stream",
     "text": [
      "  81  2.89e+02  5.52e+01  2.34e+03  4.94e-07  6.99e-03  8.43e-03  5.00e+00  5.93e-03  7.00e-03  1.00e+02\n"
     ]
    },
    {
     "name": "stdout",
     "output_type": "stream",
     "text": [
      "  82  2.89e+02  5.51e+01  2.34e+03  4.84e-07  6.96e-03  8.37e-03  5.00e+00  5.90e-03  6.97e-03  1.00e+02\n"
     ]
    },
    {
     "name": "stdout",
     "output_type": "stream",
     "text": [
      "  83  2.89e+02  5.51e+01  2.34e+03  5.17e-07  6.93e-03  8.31e-03  5.00e+00  5.88e-03  6.93e-03  1.00e+02\n"
     ]
    },
    {
     "name": "stdout",
     "output_type": "stream",
     "text": [
      "  84  2.89e+02  5.50e+01  2.34e+03  4.35e-07  6.91e-03  8.26e-03  5.00e+00  5.86e-03  6.90e-03  1.00e+02\n"
     ]
    },
    {
     "name": "stdout",
     "output_type": "stream",
     "text": [
      "  85  2.88e+02  5.50e+01  2.33e+03  4.31e-07  6.90e-03  8.22e-03  5.00e+00  5.84e-03  6.88e-03  1.00e+02\n"
     ]
    },
    {
     "name": "stdout",
     "output_type": "stream",
     "text": [
      "  86  2.88e+02  5.49e+01  2.33e+03  4.46e-07  6.88e-03  8.17e-03  5.00e+00  5.83e-03  6.85e-03  1.00e+02\n"
     ]
    },
    {
     "name": "stdout",
     "output_type": "stream",
     "text": [
      "  87  2.88e+02  5.49e+01  2.33e+03  4.59e-07  6.87e-03  8.15e-03  5.00e+00  5.82e-03  6.82e-03  1.00e+02\n"
     ]
    },
    {
     "name": "stdout",
     "output_type": "stream",
     "text": [
      "  88  2.88e+02  5.48e+01  2.33e+03  4.32e-07  6.86e-03  8.10e-03  5.00e+00  5.81e-03  6.80e-03  1.00e+02\n"
     ]
    },
    {
     "name": "stdout",
     "output_type": "stream",
     "text": [
      "  89  2.88e+02  5.48e+01  2.33e+03  5.56e-07  6.85e-03  8.07e-03  5.00e+00  5.79e-03  6.77e-03  1.00e+02\n"
     ]
    },
    {
     "name": "stdout",
     "output_type": "stream",
     "text": [
      "  90  2.88e+02  5.47e+01  2.33e+03  4.62e-07  6.84e-03  8.04e-03  5.00e+00  5.78e-03  6.75e-03  1.00e+02\n"
     ]
    },
    {
     "name": "stdout",
     "output_type": "stream",
     "text": [
      "  91  2.88e+02  5.47e+01  2.33e+03  4.64e-07  6.83e-03  8.01e-03  5.00e+00  5.77e-03  6.73e-03  1.00e+02\n"
     ]
    },
    {
     "name": "stdout",
     "output_type": "stream",
     "text": [
      "  92  2.87e+02  5.46e+01  2.33e+03  4.78e-07  6.83e-03  7.98e-03  5.00e+00  5.76e-03  6.70e-03  1.00e+02\n"
     ]
    },
    {
     "name": "stdout",
     "output_type": "stream",
     "text": [
      "  93  2.87e+02  5.46e+01  2.33e+03  5.67e-07  6.81e-03  7.95e-03  5.00e+00  5.74e-03  6.68e-03  1.00e+02\n"
     ]
    },
    {
     "name": "stdout",
     "output_type": "stream",
     "text": [
      "  94  2.87e+02  5.45e+01  2.33e+03  4.87e-07  6.81e-03  7.92e-03  5.00e+00  5.73e-03  6.65e-03  1.00e+02\n"
     ]
    },
    {
     "name": "stdout",
     "output_type": "stream",
     "text": [
      "  95  2.87e+02  5.45e+01  2.33e+03  4.79e-07  6.79e-03  7.91e-03  5.00e+00  5.72e-03  6.62e-03  1.00e+02\n"
     ]
    },
    {
     "name": "stdout",
     "output_type": "stream",
     "text": [
      "  96  2.87e+02  5.44e+01  2.32e+03  4.23e-07  6.78e-03  7.89e-03  5.00e+00  5.71e-03  6.58e-03  1.00e+02\n"
     ]
    },
    {
     "name": "stdout",
     "output_type": "stream",
     "text": [
      "  97  2.87e+02  5.44e+01  2.32e+03  4.74e-07  6.77e-03  7.87e-03  5.00e+00  5.70e-03  6.55e-03  1.00e+02\n"
     ]
    },
    {
     "name": "stdout",
     "output_type": "stream",
     "text": [
      "  98  2.87e+02  5.43e+01  2.32e+03  3.78e-07  6.76e-03  7.85e-03  5.00e+00  5.70e-03  6.52e-03  1.00e+02\n"
     ]
    },
    {
     "name": "stdout",
     "output_type": "stream",
     "text": [
      "  99  2.86e+02  5.43e+01  2.32e+03  4.33e-07  6.75e-03  7.83e-03  5.00e+00  5.69e-03  6.48e-03  1.00e+02\n"
     ]
    },
    {
     "name": "stdout",
     "output_type": "stream",
     "text": [
      " 100  2.86e+02  5.42e+01  2.32e+03  5.16e-07  6.73e-03  7.81e-03  5.00e+00  5.68e-03  6.44e-03  1.00e+02\n"
     ]
    },
    {
     "name": "stdout",
     "output_type": "stream",
     "text": [
      " 101  2.86e+02  5.42e+01  2.32e+03  5.53e-07  6.72e-03  7.79e-03  5.00e+00  5.67e-03  6.40e-03  1.00e+02\n"
     ]
    },
    {
     "name": "stdout",
     "output_type": "stream",
     "text": [
      " 102  2.86e+02  5.41e+01  2.32e+03  5.05e-07  6.71e-03  7.76e-03  5.00e+00  5.66e-03  6.36e-03  1.00e+02\n"
     ]
    },
    {
     "name": "stdout",
     "output_type": "stream",
     "text": [
      " 103  2.86e+02  5.41e+01  2.32e+03  4.73e-07  6.68e-03  7.74e-03  5.00e+00  5.65e-03  6.32e-03  1.00e+02\n"
     ]
    },
    {
     "name": "stdout",
     "output_type": "stream",
     "text": [
      " 104  2.86e+02  5.40e+01  2.32e+03  6.01e-07  6.66e-03  7.72e-03  5.00e+00  5.64e-03  6.27e-03  1.00e+02\n"
     ]
    },
    {
     "name": "stdout",
     "output_type": "stream",
     "text": [
      " 105  2.86e+02  5.40e+01  2.31e+03  5.31e-07  6.64e-03  7.69e-03  5.00e+00  5.62e-03  6.22e-03  1.00e+02\n"
     ]
    },
    {
     "name": "stdout",
     "output_type": "stream",
     "text": [
      " 106  2.85e+02  5.40e+01  2.31e+03  4.81e-07  6.61e-03  7.66e-03  5.00e+00  5.61e-03  6.16e-03  1.00e+02\n"
     ]
    },
    {
     "name": "stdout",
     "output_type": "stream",
     "text": [
      " 107  2.85e+02  5.39e+01  2.31e+03  5.08e-07  6.59e-03  7.63e-03  5.00e+00  5.60e-03  6.11e-03  1.00e+02\n"
     ]
    },
    {
     "name": "stdout",
     "output_type": "stream",
     "text": [
      " 108  2.85e+02  5.39e+01  2.31e+03  5.67e-07  6.56e-03  7.60e-03  5.00e+00  5.59e-03  6.06e-03  1.00e+02\n"
     ]
    },
    {
     "name": "stdout",
     "output_type": "stream",
     "text": [
      " 109  2.85e+02  5.38e+01  2.31e+03  5.11e-07  6.53e-03  7.57e-03  5.00e+00  5.58e-03  6.00e-03  1.00e+02\n"
     ]
    },
    {
     "name": "stdout",
     "output_type": "stream",
     "text": [
      " 110  2.85e+02  5.38e+01  2.31e+03  4.82e-07  6.50e-03  7.53e-03  5.00e+00  5.57e-03  5.94e-03  1.00e+02\n"
     ]
    },
    {
     "name": "stdout",
     "output_type": "stream",
     "text": [
      " 111  2.85e+02  5.38e+01  2.31e+03  5.62e-07  6.46e-03  7.49e-03  5.00e+00  5.54e-03  5.88e-03  1.00e+02\n"
     ]
    },
    {
     "name": "stdout",
     "output_type": "stream",
     "text": [
      " 112  2.84e+02  5.37e+01  2.31e+03  4.74e-07  6.43e-03  7.45e-03  5.00e+00  5.52e-03  5.82e-03  1.00e+02\n"
     ]
    },
    {
     "name": "stdout",
     "output_type": "stream",
     "text": [
      " 113  2.84e+02  5.37e+01  2.31e+03  4.07e-07  6.39e-03  7.40e-03  5.00e+00  5.48e-03  5.75e-03  1.00e+02\n"
     ]
    },
    {
     "name": "stdout",
     "output_type": "stream",
     "text": [
      " 114  2.84e+02  5.37e+01  2.30e+03  4.00e-07  6.35e-03  7.36e-03  5.00e+00  5.45e-03  5.69e-03  1.00e+02\n"
     ]
    },
    {
     "name": "stdout",
     "output_type": "stream",
     "text": [
      " 115  2.84e+02  5.36e+01  2.30e+03  5.31e-07  6.30e-03  7.32e-03  5.00e+00  5.42e-03  5.62e-03  1.00e+02\n"
     ]
    },
    {
     "name": "stdout",
     "output_type": "stream",
     "text": [
      " 116  2.84e+02  5.36e+01  2.30e+03  4.50e-07  6.26e-03  7.29e-03  5.00e+00  5.39e-03  5.56e-03  1.00e+02\n"
     ]
    },
    {
     "name": "stdout",
     "output_type": "stream",
     "text": [
      " 117  2.84e+02  5.36e+01  2.30e+03  4.27e-07  6.21e-03  7.25e-03  5.00e+00  5.36e-03  5.50e-03  1.00e+02\n"
     ]
    },
    {
     "name": "stdout",
     "output_type": "stream",
     "text": [
      " 118  2.83e+02  5.35e+01  2.30e+03  5.94e-07  6.16e-03  7.20e-03  5.00e+00  5.32e-03  5.43e-03  1.00e+02\n"
     ]
    },
    {
     "name": "stdout",
     "output_type": "stream",
     "text": [
      " 119  2.83e+02  5.35e+01  2.30e+03  4.79e-07  6.12e-03  7.17e-03  5.00e+00  5.29e-03  5.37e-03  1.00e+02\n"
     ]
    },
    {
     "name": "stdout",
     "output_type": "stream",
     "text": [
      " 120  2.83e+02  5.35e+01  2.30e+03  5.00e-07  6.07e-03  7.13e-03  5.00e+00  5.26e-03  5.30e-03  1.00e+02\n"
     ]
    },
    {
     "name": "stdout",
     "output_type": "stream",
     "text": [
      " 121  2.83e+02  5.34e+01  2.30e+03  4.14e-07  6.03e-03  7.08e-03  5.00e+00  5.24e-03  5.24e-03  1.00e+02\n"
     ]
    },
    {
     "name": "stdout",
     "output_type": "stream",
     "text": [
      " 122  2.83e+02  5.34e+01  2.29e+03  4.37e-07  5.97e-03  7.04e-03  5.00e+00  5.21e-03  5.18e-03  1.00e+02\n"
     ]
    },
    {
     "name": "stdout",
     "output_type": "stream",
     "text": [
      " 123  2.83e+02  5.34e+01  2.29e+03  4.82e-07  5.93e-03  6.98e-03  5.00e+00  5.17e-03  5.12e-03  1.00e+02\n"
     ]
    },
    {
     "name": "stdout",
     "output_type": "stream",
     "text": [
      " 124  2.82e+02  5.33e+01  2.29e+03  4.73e-07  5.87e-03  6.93e-03  5.00e+00  5.12e-03  5.06e-03  1.00e+02\n"
     ]
    },
    {
     "name": "stdout",
     "output_type": "stream",
     "text": [
      " 125  2.82e+02  5.33e+01  2.29e+03  5.73e-07  5.82e-03  6.88e-03  5.00e+00  5.08e-03  5.01e-03  1.00e+02\n"
     ]
    },
    {
     "name": "stdout",
     "output_type": "stream",
     "text": [
      " 126  2.82e+02  5.33e+01  2.29e+03  4.78e-07  5.77e-03  6.83e-03  5.00e+00  5.04e-03  4.95e-03  1.00e+02\n"
     ]
    },
    {
     "name": "stdout",
     "output_type": "stream",
     "text": [
      " 127  2.82e+02  5.33e+01  2.29e+03  5.04e-07  5.71e-03  6.78e-03  5.00e+00  5.01e-03  4.90e-03  1.00e+02\n"
     ]
    },
    {
     "name": "stdout",
     "output_type": "stream",
     "text": [
      " 128  2.82e+02  5.32e+01  2.29e+03  5.34e-07  5.67e-03  6.72e-03  5.00e+00  4.97e-03  4.85e-03  1.00e+02\n"
     ]
    },
    {
     "name": "stdout",
     "output_type": "stream",
     "text": [
      " 129  2.82e+02  5.32e+01  2.28e+03  5.12e-07  5.62e-03  6.66e-03  5.00e+00  4.93e-03  4.80e-03  1.00e+02\n"
     ]
    },
    {
     "name": "stdout",
     "output_type": "stream",
     "text": [
      " 130  2.81e+02  5.32e+01  2.28e+03  4.81e-07  5.56e-03  6.61e-03  5.00e+00  4.88e-03  4.76e-03  1.00e+02\n"
     ]
    },
    {
     "name": "stdout",
     "output_type": "stream",
     "text": [
      " 131  2.81e+02  5.32e+01  2.28e+03  4.89e-07  5.51e-03  6.55e-03  5.00e+00  4.83e-03  4.71e-03  1.00e+02\n"
     ]
    },
    {
     "name": "stdout",
     "output_type": "stream",
     "text": [
      " 132  2.81e+02  5.31e+01  2.28e+03  4.50e-07  5.46e-03  6.50e-03  5.00e+00  4.79e-03  4.67e-03  1.00e+02\n"
     ]
    },
    {
     "name": "stdout",
     "output_type": "stream",
     "text": [
      " 133  2.81e+02  5.31e+01  2.28e+03  4.50e-07  5.42e-03  6.44e-03  5.00e+00  4.74e-03  4.62e-03  1.00e+02\n"
     ]
    },
    {
     "name": "stdout",
     "output_type": "stream",
     "text": [
      " 134  2.81e+02  5.31e+01  2.28e+03  4.22e-07  5.37e-03  6.38e-03  5.00e+00  4.69e-03  4.58e-03  1.00e+02\n"
     ]
    },
    {
     "name": "stdout",
     "output_type": "stream",
     "text": [
      " 135  2.81e+02  5.31e+01  2.28e+03  4.36e-07  5.31e-03  6.33e-03  5.00e+00  4.65e-03  4.54e-03  1.00e+02\n"
     ]
    },
    {
     "name": "stdout",
     "output_type": "stream",
     "text": [
      " 136  2.81e+02  5.31e+01  2.28e+03  4.04e-07  5.26e-03  6.27e-03  5.00e+00  4.60e-03  4.50e-03  1.00e+02\n"
     ]
    },
    {
     "name": "stdout",
     "output_type": "stream",
     "text": [
      " 137  2.80e+02  5.30e+01  2.27e+03  5.82e-07  5.21e-03  6.22e-03  5.00e+00  4.56e-03  4.46e-03  1.00e+02\n"
     ]
    },
    {
     "name": "stdout",
     "output_type": "stream",
     "text": [
      " 138  2.80e+02  5.30e+01  2.27e+03  4.97e-07  5.17e-03  6.16e-03  5.00e+00  4.52e-03  4.42e-03  1.00e+02\n"
     ]
    },
    {
     "name": "stdout",
     "output_type": "stream",
     "text": [
      " 139  2.80e+02  5.30e+01  2.27e+03  4.60e-07  5.12e-03  6.11e-03  5.00e+00  4.48e-03  4.38e-03  1.00e+02\n"
     ]
    },
    {
     "name": "stdout",
     "output_type": "stream",
     "text": [
      " 140  2.80e+02  5.30e+01  2.27e+03  4.80e-07  5.08e-03  6.06e-03  5.00e+00  4.43e-03  4.34e-03  1.00e+02\n"
     ]
    },
    {
     "name": "stdout",
     "output_type": "stream",
     "text": [
      " 141  2.80e+02  5.30e+01  2.27e+03  4.39e-07  5.03e-03  6.00e-03  5.00e+00  4.39e-03  4.31e-03  1.00e+02\n"
     ]
    },
    {
     "name": "stdout",
     "output_type": "stream",
     "text": [
      " 142  2.80e+02  5.29e+01  2.27e+03  5.68e-07  4.99e-03  5.95e-03  5.00e+00  4.34e-03  4.28e-03  1.00e+02\n"
     ]
    },
    {
     "name": "stdout",
     "output_type": "stream",
     "text": [
      " 143  2.80e+02  5.29e+01  2.27e+03  3.51e-07  4.94e-03  5.90e-03  5.00e+00  4.30e-03  4.25e-03  1.00e+02\n"
     ]
    },
    {
     "name": "stdout",
     "output_type": "stream",
     "text": [
      " 144  2.79e+02  5.29e+01  2.27e+03  4.94e-07  4.90e-03  5.86e-03  5.00e+00  4.26e-03  4.21e-03  1.00e+02\n"
     ]
    },
    {
     "name": "stdout",
     "output_type": "stream",
     "text": [
      " 145  2.79e+02  5.29e+01  2.26e+03  4.83e-07  4.86e-03  5.81e-03  5.00e+00  4.22e-03  4.18e-03  1.00e+02\n"
     ]
    },
    {
     "name": "stdout",
     "output_type": "stream",
     "text": [
      " 146  2.79e+02  5.29e+01  2.26e+03  3.38e-07  4.82e-03  5.76e-03  5.00e+00  4.18e-03  4.15e-03  1.00e+02\n"
     ]
    },
    {
     "name": "stdout",
     "output_type": "stream",
     "text": [
      " 147  2.79e+02  5.28e+01  2.26e+03  4.11e-07  4.79e-03  5.72e-03  5.00e+00  4.15e-03  4.12e-03  1.00e+02\n"
     ]
    },
    {
     "name": "stdout",
     "output_type": "stream",
     "text": [
      " 148  2.79e+02  5.28e+01  2.26e+03  4.89e-07  4.75e-03  5.67e-03  5.00e+00  4.11e-03  4.10e-03  1.00e+02\n"
     ]
    },
    {
     "name": "stdout",
     "output_type": "stream",
     "text": [
      " 149  2.79e+02  5.28e+01  2.26e+03  5.49e-07  4.71e-03  5.62e-03  5.00e+00  4.06e-03  4.07e-03  1.00e+02\n"
     ]
    },
    {
     "name": "stdout",
     "output_type": "stream",
     "text": [
      " 150  2.79e+02  5.28e+01  2.26e+03  5.32e-07  4.67e-03  5.57e-03  5.00e+00  4.02e-03  4.04e-03  1.00e+02\n"
     ]
    },
    {
     "name": "stdout",
     "output_type": "stream",
     "text": [
      " 151  2.79e+02  5.28e+01  2.26e+03  5.42e-07  4.62e-03  5.52e-03  5.00e+00  3.98e-03  4.01e-03  1.00e+02\n"
     ]
    },
    {
     "name": "stdout",
     "output_type": "stream",
     "text": [
      " 152  2.78e+02  5.27e+01  2.26e+03  4.17e-07  4.59e-03  5.47e-03  5.00e+00  3.94e-03  3.99e-03  1.00e+02\n"
     ]
    },
    {
     "name": "stdout",
     "output_type": "stream",
     "text": [
      " 153  2.78e+02  5.27e+01  2.26e+03  5.53e-07  4.55e-03  5.43e-03  5.00e+00  3.91e-03  3.96e-03  1.00e+02\n"
     ]
    },
    {
     "name": "stdout",
     "output_type": "stream",
     "text": [
      " 154  2.78e+02  5.27e+01  2.25e+03  5.08e-07  4.51e-03  5.38e-03  5.00e+00  3.88e-03  3.93e-03  1.00e+02\n"
     ]
    },
    {
     "name": "stdout",
     "output_type": "stream",
     "text": [
      " 155  2.78e+02  5.27e+01  2.25e+03  3.48e-07  4.48e-03  5.33e-03  5.00e+00  3.84e-03  3.91e-03  1.00e+02\n"
     ]
    },
    {
     "name": "stdout",
     "output_type": "stream",
     "text": [
      " 156  2.78e+02  5.27e+01  2.25e+03  3.43e-07  4.44e-03  5.29e-03  5.00e+00  3.80e-03  3.88e-03  1.00e+02\n"
     ]
    },
    {
     "name": "stdout",
     "output_type": "stream",
     "text": [
      " 157  2.78e+02  5.27e+01  2.25e+03  3.87e-07  4.40e-03  5.24e-03  5.00e+00  3.77e-03  3.86e-03  1.00e+02\n"
     ]
    },
    {
     "name": "stdout",
     "output_type": "stream",
     "text": [
      " 158  2.78e+02  5.26e+01  2.25e+03  5.68e-07  4.37e-03  5.20e-03  5.00e+00  3.73e-03  3.83e-03  1.00e+02\n"
     ]
    },
    {
     "name": "stdout",
     "output_type": "stream",
     "text": [
      " 159  2.78e+02  5.26e+01  2.25e+03  3.79e-07  4.34e-03  5.16e-03  5.00e+00  3.70e-03  3.81e-03  1.00e+02\n"
     ]
    },
    {
     "name": "stdout",
     "output_type": "stream",
     "text": [
      " 160  2.77e+02  5.26e+01  2.25e+03  5.25e-07  4.30e-03  5.11e-03  5.00e+00  3.66e-03  3.79e-03  1.00e+02\n"
     ]
    },
    {
     "name": "stdout",
     "output_type": "stream",
     "text": [
      " 161  2.77e+02  5.26e+01  2.25e+03  4.10e-07  4.27e-03  5.06e-03  5.00e+00  3.63e-03  3.76e-03  1.00e+02\n"
     ]
    },
    {
     "name": "stdout",
     "output_type": "stream",
     "text": [
      " 162  2.77e+02  5.26e+01  2.25e+03  5.84e-07  4.23e-03  5.01e-03  5.00e+00  3.59e-03  3.74e-03  1.00e+02\n"
     ]
    },
    {
     "name": "stdout",
     "output_type": "stream",
     "text": [
      " 163  2.77e+02  5.25e+01  2.25e+03  4.56e-07  4.19e-03  4.97e-03  5.00e+00  3.56e-03  3.71e-03  1.00e+02\n"
     ]
    },
    {
     "name": "stdout",
     "output_type": "stream",
     "text": [
      " 164  2.77e+02  5.25e+01  2.25e+03  5.16e-07  4.16e-03  4.92e-03  5.00e+00  3.53e-03  3.69e-03  1.00e+02\n"
     ]
    },
    {
     "name": "stdout",
     "output_type": "stream",
     "text": [
      " 165  2.77e+02  5.25e+01  2.24e+03  5.29e-07  4.13e-03  4.89e-03  5.00e+00  3.50e-03  3.66e-03  1.00e+02\n"
     ]
    },
    {
     "name": "stdout",
     "output_type": "stream",
     "text": [
      " 166  2.77e+02  5.25e+01  2.24e+03  4.83e-07  4.10e-03  4.85e-03  5.00e+00  3.47e-03  3.64e-03  1.00e+02\n"
     ]
    },
    {
     "name": "stdout",
     "output_type": "stream",
     "text": [
      " 167  2.77e+02  5.25e+01  2.24e+03  4.44e-07  4.07e-03  4.82e-03  5.00e+00  3.45e-03  3.61e-03  1.00e+02\n"
     ]
    },
    {
     "name": "stdout",
     "output_type": "stream",
     "text": [
      " 168  2.77e+02  5.24e+01  2.24e+03  6.28e-07  4.04e-03  4.77e-03  5.00e+00  3.41e-03  3.59e-03  1.00e+02\n"
     ]
    },
    {
     "name": "stdout",
     "output_type": "stream",
     "text": [
      " 169  2.77e+02  5.24e+01  2.24e+03  5.50e-07  4.00e-03  4.73e-03  5.00e+00  3.39e-03  3.57e-03  1.00e+02\n"
     ]
    },
    {
     "name": "stdout",
     "output_type": "stream",
     "text": [
      " 170  2.76e+02  5.24e+01  2.24e+03  3.93e-07  3.98e-03  4.69e-03  5.00e+00  3.36e-03  3.54e-03  1.00e+02\n"
     ]
    },
    {
     "name": "stdout",
     "output_type": "stream",
     "text": [
      " 171  2.76e+02  5.24e+01  2.24e+03  3.68e-07  3.94e-03  4.65e-03  5.00e+00  3.34e-03  3.52e-03  1.00e+02\n"
     ]
    },
    {
     "name": "stdout",
     "output_type": "stream",
     "text": [
      " 172  2.76e+02  5.24e+01  2.24e+03  4.73e-07  3.92e-03  4.62e-03  5.00e+00  3.31e-03  3.50e-03  1.00e+02\n"
     ]
    },
    {
     "name": "stdout",
     "output_type": "stream",
     "text": [
      " 173  2.76e+02  5.24e+01  2.24e+03  5.15e-07  3.89e-03  4.59e-03  5.00e+00  3.28e-03  3.47e-03  1.00e+02\n"
     ]
    },
    {
     "name": "stdout",
     "output_type": "stream",
     "text": [
      " 174  2.76e+02  5.23e+01  2.24e+03  4.58e-07  3.86e-03  4.55e-03  5.00e+00  3.25e-03  3.45e-03  1.00e+02\n"
     ]
    },
    {
     "name": "stdout",
     "output_type": "stream",
     "text": [
      " 175  2.76e+02  5.23e+01  2.24e+03  5.21e-07  3.84e-03  4.52e-03  5.00e+00  3.23e-03  3.43e-03  1.00e+02\n"
     ]
    },
    {
     "name": "stdout",
     "output_type": "stream",
     "text": [
      " 176  2.76e+02  5.23e+01  2.24e+03  4.17e-07  3.81e-03  4.49e-03  5.00e+00  3.20e-03  3.40e-03  1.00e+02\n"
     ]
    },
    {
     "name": "stdout",
     "output_type": "stream",
     "text": [
      " 177  2.76e+02  5.23e+01  2.23e+03  4.56e-07  3.78e-03  4.46e-03  5.00e+00  3.18e-03  3.38e-03  1.00e+02\n"
     ]
    },
    {
     "name": "stdout",
     "output_type": "stream",
     "text": [
      " 178  2.76e+02  5.23e+01  2.23e+03  3.63e-07  3.76e-03  4.43e-03  5.00e+00  3.16e-03  3.36e-03  1.00e+02\n"
     ]
    },
    {
     "name": "stdout",
     "output_type": "stream",
     "text": [
      " 179  2.76e+02  5.23e+01  2.23e+03  4.20e-07  3.73e-03  4.40e-03  5.00e+00  3.14e-03  3.33e-03  1.00e+02\n"
     ]
    },
    {
     "name": "stdout",
     "output_type": "stream",
     "text": [
      " 180  2.75e+02  5.22e+01  2.23e+03  5.44e-07  3.71e-03  4.37e-03  5.00e+00  3.11e-03  3.31e-03  1.00e+02\n"
     ]
    },
    {
     "name": "stdout",
     "output_type": "stream",
     "text": [
      " 181  2.75e+02  5.22e+01  2.23e+03  4.39e-07  3.68e-03  4.35e-03  5.00e+00  3.09e-03  3.29e-03  1.00e+02\n"
     ]
    },
    {
     "name": "stdout",
     "output_type": "stream",
     "text": [
      " 182  2.75e+02  5.22e+01  2.23e+03  4.85e-07  3.66e-03  4.32e-03  5.00e+00  3.07e-03  3.26e-03  1.00e+02\n"
     ]
    },
    {
     "name": "stdout",
     "output_type": "stream",
     "text": [
      " 183  2.75e+02  5.22e+01  2.23e+03  4.52e-07  3.63e-03  4.29e-03  5.00e+00  3.06e-03  3.24e-03  1.00e+02\n"
     ]
    },
    {
     "name": "stdout",
     "output_type": "stream",
     "text": [
      " 184  2.75e+02  5.22e+01  2.23e+03  4.85e-07  3.61e-03  4.26e-03  5.00e+00  3.03e-03  3.22e-03  1.00e+02\n"
     ]
    },
    {
     "name": "stdout",
     "output_type": "stream",
     "text": [
      " 185  2.75e+02  5.22e+01  2.23e+03  4.39e-07  3.58e-03  4.23e-03  5.00e+00  3.01e-03  3.19e-03  1.00e+02\n"
     ]
    },
    {
     "name": "stdout",
     "output_type": "stream",
     "text": [
      " 186  2.75e+02  5.21e+01  2.23e+03  5.46e-07  3.56e-03  4.20e-03  5.00e+00  2.99e-03  3.17e-03  1.00e+02\n"
     ]
    },
    {
     "name": "stdout",
     "output_type": "stream",
     "text": [
      " 187  2.75e+02  5.21e+01  2.23e+03  5.22e-07  3.53e-03  4.17e-03  5.00e+00  2.98e-03  3.15e-03  1.00e+02\n"
     ]
    },
    {
     "name": "stdout",
     "output_type": "stream",
     "text": [
      " 188  2.75e+02  5.21e+01  2.23e+03  4.57e-07  3.51e-03  4.15e-03  5.00e+00  2.96e-03  3.12e-03  1.00e+02\n"
     ]
    },
    {
     "name": "stdout",
     "output_type": "stream",
     "text": [
      " 189  2.75e+02  5.21e+01  2.23e+03  4.92e-07  3.49e-03  4.12e-03  5.00e+00  2.94e-03  3.10e-03  1.00e+02\n"
     ]
    },
    {
     "name": "stdout",
     "output_type": "stream",
     "text": [
      " 190  2.75e+02  5.21e+01  2.23e+03  4.66e-07  3.46e-03  4.09e-03  5.00e+00  2.92e-03  3.07e-03  1.00e+02\n"
     ]
    },
    {
     "name": "stdout",
     "output_type": "stream",
     "text": [
      " 191  2.75e+02  5.21e+01  2.22e+03  4.61e-07  3.44e-03  4.06e-03  5.00e+00  2.90e-03  3.05e-03  1.00e+02\n"
     ]
    },
    {
     "name": "stdout",
     "output_type": "stream",
     "text": [
      " 192  2.74e+02  5.20e+01  2.22e+03  4.20e-07  3.42e-03  4.04e-03  5.00e+00  2.89e-03  3.03e-03  1.00e+02\n"
     ]
    },
    {
     "name": "stdout",
     "output_type": "stream",
     "text": [
      " 193  2.74e+02  5.20e+01  2.22e+03  3.96e-07  3.40e-03  4.02e-03  5.00e+00  2.87e-03  3.00e-03  1.00e+02\n"
     ]
    },
    {
     "name": "stdout",
     "output_type": "stream",
     "text": [
      " 194  2.74e+02  5.20e+01  2.22e+03  5.76e-07  3.38e-03  4.00e-03  5.00e+00  2.85e-03  2.98e-03  1.00e+02\n"
     ]
    },
    {
     "name": "stdout",
     "output_type": "stream",
     "text": [
      " 195  2.74e+02  5.20e+01  2.22e+03  4.74e-07  3.36e-03  3.97e-03  5.00e+00  2.84e-03  2.96e-03  1.00e+02\n"
     ]
    },
    {
     "name": "stdout",
     "output_type": "stream",
     "text": [
      " 196  2.74e+02  5.20e+01  2.22e+03  4.84e-07  3.33e-03  3.95e-03  5.00e+00  2.82e-03  2.93e-03  1.00e+02\n"
     ]
    },
    {
     "name": "stdout",
     "output_type": "stream",
     "text": [
      " 197  2.74e+02  5.20e+01  2.22e+03  4.59e-07  3.31e-03  3.93e-03  5.00e+00  2.80e-03  2.91e-03  1.00e+02\n"
     ]
    },
    {
     "name": "stdout",
     "output_type": "stream",
     "text": [
      " 198  2.74e+02  5.20e+01  2.22e+03  4.78e-07  3.29e-03  3.90e-03  5.00e+00  2.78e-03  2.88e-03  1.00e+02\n"
     ]
    },
    {
     "name": "stdout",
     "output_type": "stream",
     "text": [
      " 199  2.74e+02  5.19e+01  2.22e+03  4.24e-07  3.27e-03  3.88e-03  5.00e+00  2.76e-03  2.86e-03  1.00e+02\n",
      "--------------------------------------------------------------------------------------------------------\n",
      "ConvBPDNDictLearn solve time: 254.70s\n"
     ]
    }
   ],
   "source": [
    "d = cbpdndl.ConvBPDNDictLearn(D0, vh, lmbda, opt, dimK=0, dimN=3)\n",
    "D1 = d.solve()\n",
    "print(\"ConvBPDNDictLearn solve time: %.2fs\" % d.timer.elapsed('solve'))"
   ]
  },
  {
   "cell_type": "markdown",
   "metadata": {},
   "source": [
    "Display initial and final dictionaries: central temporal slice"
   ]
  },
  {
   "cell_type": "code",
   "execution_count": 7,
   "metadata": {
    "collapsed": false
   },
   "outputs": [
    {
     "data": {
      "image/png": "[encoded data removed]",
      "text/plain": [
       "<matplotlib.figure.Figure at 0x7f5783ad6a90>"
      ]
     },
     "metadata": {},
     "output_type": "display_data"
    }
   ],
   "source": [
    "D1 = D1.squeeze()\n",
    "fig = plot.figure(figsize=(14,7))\n",
    "plot.subplot(1, 2, 1)\n",
    "plot.imview(util.tiledict(D0[...,2,:]), fgrf=fig, title='D0')\n",
    "plot.subplot(1, 2, 2)\n",
    "plot.imview(util.tiledict(D1[...,2,:]), fgrf=fig, title='D1')\n",
    "fig.show()"
   ]
  },
  {
   "cell_type": "markdown",
   "metadata": {},
   "source": [
    "Display initial and final dictionaries: central spatial vertical slice"
   ]
  },
  {
   "cell_type": "code",
   "execution_count": 8,
   "metadata": {
    "collapsed": false
   },
   "outputs": [
    {
     "data": {
      "image/png": "[encoded data removed]",
      "text/plain": [
       "<matplotlib.figure.Figure at 0x7f5780a13358>"
      ]
     },
     "metadata": {},
     "output_type": "display_data"
    }
   ],
   "source": [
    "D1 = D1.squeeze()\n",
    "fig = plot.figure(figsize=(14, 7))\n",
    "plot.subplot(1, 2, 1)\n",
    "plot.imview(util.tiledict(D0[2]), fgrf=fig, title='D0')\n",
    "plot.subplot(1, 2, 2)\n",
    "plot.imview(util.tiledict(D1[2]), fgrf=fig, title='D1')\n",
    "fig.show()"
   ]
  },
  {
   "cell_type": "markdown",
   "metadata": {},
   "source": [
    "Get iterations statistics from solver object and plot functional value, ADMM primary and dual residuals, and automatically adjusted ADMM penalty parameter against the iteration number."
   ]
  },
  {
   "cell_type": "code",
   "execution_count": 9,
   "metadata": {
    "collapsed": false
   },
   "outputs": [
    {
     "data": {
      "image/png": "[encoded data removed]",
      "text/plain": [
       "<matplotlib.figure.Figure at 0x7f578098f048>"
      ]
     },
     "metadata": {},
     "output_type": "display_data"
    }
   ],
   "source": [
    "its = d.getitstat()\n",
    "fig = plot.figure(figsize=(20, 5))\n",
    "plot.subplot(1, 3, 1)\n",
    "plot.plot(its.ObjFun, fgrf=fig, xlbl='Iterations', ylbl='Functional')\n",
    "plot.subplot(1, 3, 2)\n",
    "plot.plot(np.vstack((its.XPrRsdl, its.XDlRsdl, its.DPrRsdl, its.DDlRsdl)).T,\n",
    "          fgrf=fig, ptyp='semilogy', xlbl='Iterations', ylbl='Residual',\n",
    "          lgnd=['X Primal', 'X Dual', 'D Primal', 'D Dual'])\n",
    "plot.subplot(1, 3, 3)\n",
    "plot.plot(np.vstack((its.XRho, its.DRho)).T, fgrf=fig, xlbl='Iterations',\n",
    "          ylbl='Penalty Parameter', ptyp='semilogy',\n",
    "          lgnd=['$\\\\rho_X$', '$\\\\rho_D$'])\n",
    "fig.show()"
   ]
  }
 ],
 "metadata": {},
 "nbformat": 4,
 "nbformat_minor": 2
}
