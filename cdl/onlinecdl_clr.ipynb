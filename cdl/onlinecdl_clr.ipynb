{
 "cells": [
  {
   "cell_type": "markdown",
   "metadata": {},
   "source": [
    "Online Convolutional Dictionary Learning\n",
    "========================================\n",
    "\n",
    "This example demonstrates the use of [dictlrn.cbpdndl.ConvBPDNDictLearn](http://sporco.rtfd.org/en/latest/sporco.dictlrn.cbpdndl.html#sporco.dictlrn.cbpdndl.ConvBPDNDictLearn) for learning a convolutional dictionary from a set of training images. The dictionary is learned using the online dictionary learning algorithm proposed in [[21]](http://sporco.rtfd.org/en/latest/zreferences.html#liu-2018-first)."
   ]
  },
  {
   "cell_type": "code",
   "execution_count": 1,
   "metadata": {
    "collapsed": false
   },
   "outputs": [],
   "source": [
    "from __future__ import print_function\n",
    "from builtins import input\n",
    "from builtins import range\n",
    "\n",
    "import pyfftw   # See https://github.com/pyFFTW/pyFFTW/issues/40\n",
    "import numpy as np\n",
    "\n",
    "from sporco.dictlrn import onlinecdl\n",
    "from sporco import util\n",
    "from sporco import plot\n",
    "plot.config_notebook_plotting()"
   ]
  },
  {
   "cell_type": "markdown",
   "metadata": {},
   "source": [
    "Load training images."
   ]
  },
  {
   "cell_type": "code",
   "execution_count": 2,
   "metadata": {
    "collapsed": false
   },
   "outputs": [],
   "source": [
    "exim = util.ExampleImages(scaled=True, zoom=0.25)\n",
    "S1 = exim.image('barbara.png', idxexp=np.s_[10:522, 100:612])\n",
    "S2 = exim.image('kodim23.png', idxexp=np.s_[:, 60:572])\n",
    "S3 = exim.image('monarch.png', idxexp=np.s_[:, 160:672])\n",
    "S4 = exim.image('sail.png', idxexp=np.s_[:, 210:722])\n",
    "S5 = exim.image('tulips.png', idxexp=np.s_[:, 30:542])\n",
    "S = np.stack((S1, S2, S3, S4, S5), axis=3)"
   ]
  },
  {
   "cell_type": "markdown",
   "metadata": {},
   "source": [
    "Highpass filter training images."
   ]
  },
  {
   "cell_type": "code",
   "execution_count": 3,
   "metadata": {
    "collapsed": false
   },
   "outputs": [],
   "source": [
    "npd = 16\n",
    "fltlmbd = 5\n",
    "sl, sh = util.tikhonov_filter(S, fltlmbd, npd)"
   ]
  },
  {
   "cell_type": "markdown",
   "metadata": {},
   "source": [
    "Construct initial dictionary."
   ]
  },
  {
   "cell_type": "code",
   "execution_count": 4,
   "metadata": {
    "collapsed": false
   },
   "outputs": [],
   "source": [
    "np.random.seed(12345)\n",
    "D0 = np.random.randn(8, 8, 3, 64)"
   ]
  },
  {
   "cell_type": "markdown",
   "metadata": {},
   "source": [
    "Set regularization parameter and options for dictionary learning solver."
   ]
  },
  {
   "cell_type": "code",
   "execution_count": 5,
   "metadata": {
    "collapsed": false
   },
   "outputs": [],
   "source": [
    "lmbda = 0.2\n",
    "opt = onlinecdl.OnlineConvBPDNDictLearn.Options({\n",
    "    'Verbose': True, 'MaxMainIter': 50, 'AccurateDFid' : True,\n",
    "    'CBPDN': {'rho': 3.0, 'AutoRho': {'Enabled': False},\n",
    "              'RelaxParam': 1.0, 'RelStopTol': 1e-7, 'MaxMainIter': 50,\n",
    "              'FastSolve': False, 'DataType': np.float32},\n",
    "    'OCDL': {'ZeroMean': False, 'eta_a': 10.0, 'eta_b': 20.0,\n",
    "             'DataType': np.float32}})"
   ]
  },
  {
   "cell_type": "markdown",
   "metadata": {},
   "source": [
    "Create solver object and solve."
   ]
  },
  {
   "cell_type": "code",
   "execution_count": 6,
   "metadata": {
    "collapsed": false
   },
   "outputs": [
    {
     "name": "stdout",
     "output_type": "stream",
     "text": [
      "Itn   Fnc       DFid      Regℓ1     Cnstr     ρ         η       \n",
      "----------------------------------------------------------------\n"
     ]
    },
    {
     "name": "stdout",
     "output_type": "stream",
     "text": [
      "   0  2.80e+02  1.35e+02  7.22e+02  8.05e+01  3.00e+00  5.00e-01\n"
     ]
    },
    {
     "name": "stdout",
     "output_type": "stream",
     "text": [
      "   1  2.22e+02  1.06e+02  5.80e+02  7.39e+01  3.00e+00  4.76e-01\n"
     ]
    },
    {
     "name": "stdout",
     "output_type": "stream",
     "text": [
      "   2  7.37e+01  3.07e+01  2.15e+02  2.47e+01  3.00e+00  4.55e-01\n"
     ]
    },
    {
     "name": "stdout",
     "output_type": "stream",
     "text": [
      "   3  1.72e+02  5.75e+01  5.74e+02  5.00e+01  3.00e+00  4.35e-01\n"
     ]
    },
    {
     "name": "stdout",
     "output_type": "stream",
     "text": [
      "   4  6.34e+01  2.32e+01  2.01e+02  2.10e+01  3.00e+00  4.17e-01\n"
     ]
    },
    {
     "name": "stdout",
     "output_type": "stream",
     "text": [
      "   5  1.47e+02  5.81e+01  4.42e+02  3.61e+01  3.00e+00  4.00e-01\n"
     ]
    },
    {
     "name": "stdout",
     "output_type": "stream",
     "text": [
      "   6  1.41e+02  3.72e+01  5.17e+02  3.68e+01  3.00e+00  3.85e-01\n"
     ]
    },
    {
     "name": "stdout",
     "output_type": "stream",
     "text": [
      "   7  1.69e+02  5.47e+01  5.74e+02  4.33e+01  3.00e+00  3.70e-01\n"
     ]
    },
    {
     "name": "stdout",
     "output_type": "stream",
     "text": [
      "   8  1.42e+02  5.47e+01  4.34e+02  3.27e+01  3.00e+00  3.57e-01\n"
     ]
    },
    {
     "name": "stdout",
     "output_type": "stream",
     "text": [
      "   9  1.32e+02  3.37e+01  4.93e+02  3.33e+01  3.00e+00  3.45e-01\n"
     ]
    },
    {
     "name": "stdout",
     "output_type": "stream",
     "text": [
      "  10  6.23e+01  2.17e+01  2.03e+02  1.65e+01  3.00e+00  3.33e-01\n"
     ]
    },
    {
     "name": "stdout",
     "output_type": "stream",
     "text": [
      "  11  1.27e+02  3.40e+01  4.67e+02  3.11e+01  3.00e+00  3.23e-01\n"
     ]
    },
    {
     "name": "stdout",
     "output_type": "stream",
     "text": [
      "  12  1.31e+02  4.35e+01  4.37e+02  2.60e+01  3.00e+00  3.12e-01\n"
     ]
    },
    {
     "name": "stdout",
     "output_type": "stream",
     "text": [
      "  13  6.00e+01  2.14e+01  1.93e+02  1.46e+01  3.00e+00  3.03e-01\n"
     ]
    },
    {
     "name": "stdout",
     "output_type": "stream",
     "text": [
      "  14  1.70e+02  5.81e+01  5.58e+02  3.55e+01  3.00e+00  2.94e-01\n"
     ]
    },
    {
     "name": "stdout",
     "output_type": "stream",
     "text": [
      "  15  5.86e+01  2.09e+01  1.88e+02  1.41e+01  3.00e+00  2.86e-01\n"
     ]
    },
    {
     "name": "stdout",
     "output_type": "stream",
     "text": [
      "  16  1.24e+02  4.06e+01  4.16e+02  2.24e+01  3.00e+00  2.78e-01\n"
     ]
    },
    {
     "name": "stdout",
     "output_type": "stream",
     "text": [
      "  17  1.32e+02  3.63e+01  4.77e+02  2.72e+01  3.00e+00  2.70e-01\n"
     ]
    },
    {
     "name": "stdout",
     "output_type": "stream",
     "text": [
      "  18  5.84e+01  2.11e+01  1.87e+02  1.32e+01  3.00e+00  2.63e-01\n"
     ]
    },
    {
     "name": "stdout",
     "output_type": "stream",
     "text": [
      "  19  1.64e+02  5.35e+01  5.53e+02  3.07e+01  3.00e+00  2.56e-01\n"
     ]
    },
    {
     "name": "stdout",
     "output_type": "stream",
     "text": [
      "  20  1.23e+02  4.03e+01  4.12e+02  2.05e+01  3.00e+00  2.50e-01\n"
     ]
    },
    {
     "name": "stdout",
     "output_type": "stream",
     "text": [
      "  21  1.41e+02  5.42e+01  4.35e+02  2.19e+01  3.00e+00  2.44e-01\n"
     ]
    },
    {
     "name": "stdout",
     "output_type": "stream",
     "text": [
      "  22  1.26e+02  3.26e+01  4.69e+02  2.40e+01  3.00e+00  2.38e-01\n"
     ]
    },
    {
     "name": "stdout",
     "output_type": "stream",
     "text": [
      "  23  1.62e+02  5.33e+01  5.45e+02  2.84e+01  3.00e+00  2.33e-01\n"
     ]
    },
    {
     "name": "stdout",
     "output_type": "stream",
     "text": [
      "  24  1.21e+02  3.87e+01  4.09e+02  1.88e+01  3.00e+00  2.27e-01\n"
     ]
    },
    {
     "name": "stdout",
     "output_type": "stream",
     "text": [
      "  25  1.39e+02  5.31e+01  4.31e+02  2.04e+01  3.00e+00  2.22e-01\n"
     ]
    },
    {
     "name": "stdout",
     "output_type": "stream",
     "text": [
      "  26  1.59e+02  5.14e+01  5.39e+02  2.65e+01  3.00e+00  2.17e-01\n"
     ]
    },
    {
     "name": "stdout",
     "output_type": "stream",
     "text": [
      "  27  1.55e+02  4.88e+01  5.30e+02  2.57e+01  3.00e+00  2.13e-01\n"
     ]
    },
    {
     "name": "stdout",
     "output_type": "stream",
     "text": [
      "  28  1.52e+02  4.77e+01  5.23e+02  2.55e+01  3.00e+00  2.08e-01\n"
     ]
    },
    {
     "name": "stdout",
     "output_type": "stream",
     "text": [
      "  29  1.21e+02  3.89e+01  4.12e+02  1.67e+01  3.00e+00  2.04e-01\n"
     ]
    },
    {
     "name": "stdout",
     "output_type": "stream",
     "text": [
      "  30  1.52e+02  4.83e+01  5.19e+02  2.51e+01  3.00e+00  2.00e-01\n"
     ]
    },
    {
     "name": "stdout",
     "output_type": "stream",
     "text": [
      "  31  1.41e+02  5.47e+01  4.32e+02  1.79e+01  3.00e+00  1.96e-01\n"
     ]
    },
    {
     "name": "stdout",
     "output_type": "stream",
     "text": [
      "  32  1.36e+02  5.22e+01  4.21e+02  1.82e+01  3.00e+00  1.92e-01\n"
     ]
    },
    {
     "name": "stdout",
     "output_type": "stream",
     "text": [
      "  33  1.20e+02  3.78e+01  4.09e+02  1.56e+01  3.00e+00  1.89e-01\n"
     ]
    },
    {
     "name": "stdout",
     "output_type": "stream",
     "text": [
      "  34  1.54e+02  4.95e+01  5.24e+02  2.35e+01  3.00e+00  1.85e-01\n"
     ]
    },
    {
     "name": "stdout",
     "output_type": "stream",
     "text": [
      "  35  1.18e+02  3.79e+01  4.00e+02  1.52e+01  3.00e+00  1.82e-01\n"
     ]
    },
    {
     "name": "stdout",
     "output_type": "stream",
     "text": [
      "  36  1.52e+02  4.82e+01  5.21e+02  2.25e+01  3.00e+00  1.79e-01\n"
     ]
    },
    {
     "name": "stdout",
     "output_type": "stream",
     "text": [
      "  37  1.17e+02  3.75e+01  3.95e+02  1.48e+01  3.00e+00  1.75e-01\n"
     ]
    },
    {
     "name": "stdout",
     "output_type": "stream",
     "text": [
      "  38  1.39e+02  5.40e+01  4.26e+02  1.62e+01  3.00e+00  1.72e-01\n"
     ]
    },
    {
     "name": "stdout",
     "output_type": "stream",
     "text": [
      "  39  1.53e+02  4.87e+01  5.22e+02  2.16e+01  3.00e+00  1.69e-01\n"
     ]
    },
    {
     "name": "stdout",
     "output_type": "stream",
     "text": [
      "  40  1.34e+02  3.42e+01  4.98e+02  1.65e+01  3.00e+00  1.67e-01\n"
     ]
    },
    {
     "name": "stdout",
     "output_type": "stream",
     "text": [
      "  41  1.25e+02  3.25e+01  4.65e+02  1.64e+01  3.00e+00  1.64e-01\n"
     ]
    },
    {
     "name": "stdout",
     "output_type": "stream",
     "text": [
      "  42  1.22e+02  3.20e+01  4.49e+02  1.64e+01  3.00e+00  1.61e-01\n"
     ]
    },
    {
     "name": "stdout",
     "output_type": "stream",
     "text": [
      "  43  1.19e+02  3.19e+01  4.37e+02  1.66e+01  3.00e+00  1.59e-01\n"
     ]
    },
    {
     "name": "stdout",
     "output_type": "stream",
     "text": [
      "  44  1.40e+02  5.38e+01  4.32e+02  1.42e+01  3.00e+00  1.56e-01\n"
     ]
    },
    {
     "name": "stdout",
     "output_type": "stream",
     "text": [
      "  45  1.20e+02  3.85e+01  4.09e+02  1.28e+01  3.00e+00  1.54e-01\n"
     ]
    },
    {
     "name": "stdout",
     "output_type": "stream",
     "text": [
      "  46  1.19e+02  3.20e+01  4.35e+02  1.65e+01  3.00e+00  1.52e-01\n"
     ]
    },
    {
     "name": "stdout",
     "output_type": "stream",
     "text": [
      "  47  1.60e+02  5.22e+01  5.37e+02  1.90e+01  3.00e+00  1.49e-01\n"
     ]
    },
    {
     "name": "stdout",
     "output_type": "stream",
     "text": [
      "  48  1.18e+02  3.12e+01  4.33e+02  1.60e+01  3.00e+00  1.47e-01\n"
     ]
    },
    {
     "name": "stdout",
     "output_type": "stream",
     "text": [
      "  49  1.20e+02  3.86e+01  4.05e+02  1.20e+01  3.00e+00  1.45e-01\n",
      "----------------------------------------------------------------\n",
      "OnlineConvBPDNDictLearn solve time: 365.28s\n"
     ]
    }
   ],
   "source": [
    "d = onlinecdl.OnlineConvBPDNDictLearn(D0, sh[..., [0]], lmbda, opt)\n",
    "\n",
    "for it in range(opt['MaxMainIter']):\n",
    "    img_index = np.random.randint(0, sh.shape[-1])\n",
    "    d.solve(sh[..., [img_index]])\n",
    "\n",
    "d.display_end()\n",
    "D1 = d.getdict()\n",
    "print(\"OnlineConvBPDNDictLearn solve time: %.2fs\" % d.timer.elapsed('solve'))"
   ]
  },
  {
   "cell_type": "markdown",
   "metadata": {},
   "source": [
    "Display initial and final dictionaries."
   ]
  },
  {
   "cell_type": "code",
   "execution_count": 7,
   "metadata": {
    "collapsed": false
   },
   "outputs": [
    {
     "data": {
      "image/png": "[encoded data removed]",
      "text/plain": [
       "<matplotlib.figure.Figure at 0x7fbed621f438>"
      ]
     },
     "metadata": {},
     "output_type": "display_data"
    }
   ],
   "source": [
    "D1 = D1.squeeze()\n",
    "fig = plot.figure(figsize=(14, 7))\n",
    "plot.subplot(1, 2, 1)\n",
    "plot.imview(util.tiledict(D0), title='D0', fig=fig)\n",
    "plot.subplot(1, 2, 2)\n",
    "plot.imview(util.tiledict(D1), title='D1', fig=fig)\n",
    "fig.show()"
   ]
  },
  {
   "cell_type": "markdown",
   "metadata": {},
   "source": [
    "Get iterations statistics from solver object and plot functional value."
   ]
  },
  {
   "cell_type": "code",
   "execution_count": 8,
   "metadata": {
    "collapsed": false
   },
   "outputs": [
    {
     "data": {
      "image/png": "[encoded data removed]",
      "text/plain": [
       "<matplotlib.figure.Figure at 0x7fbed58c5588>"
      ]
     },
     "metadata": {},
     "output_type": "display_data"
    }
   ],
   "source": [
    "its = d.getitstat()\n",
    "fig = plot.figure(figsize=(7, 7))\n",
    "plot.plot(its.ObjFun, xlbl='Iterations', ylbl='Functional', fig=fig)\n",
    "fig.show()"
   ]
  }
 ],
 "metadata": {},
 "nbformat": 4,
 "nbformat_minor": 2
}
