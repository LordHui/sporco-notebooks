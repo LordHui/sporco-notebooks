{
 "cells": [
  {
   "cell_type": "markdown",
   "metadata": {},
   "source": [
    "Convolutional Dictionary Learning\n",
    "=================================\n",
    "\n",
    "This example demonstrates the use of [prlcnscdl.ConvBPDNDictLearn_Consensus](http://sporco.rtfd.org/en/latest/modules/sporco.dictlrn.prlcnscdl.html#sporco.dictlrn.prlcnscdl.ConvBPDNDictLearn_Consensus) for learning a convolutional dictionary from a set of colour training images [[30]](http://sporco.rtfd.org/en/latest/zreferences.html#wohlberg-2016-convolutional). The dictionary learning algorithm is based on the ADMM consensus dictionary update [[1]](http://sporco.rtfd.org/en/latest/zreferences.html#sorel-2016-fast) [[17]](http://sporco.rtfd.org/en/latest/zreferences.html#garcia-2017-convolutional)."
   ]
  },
  {
   "cell_type": "code",
   "execution_count": 1,
   "metadata": {
    "collapsed": false
   },
   "outputs": [],
   "source": [
    "from __future__ import print_function\n",
    "from builtins import input\n",
    "from builtins import range\n",
    "\n",
    "import pyfftw   # See https://github.com/pyFFTW/pyFFTW/issues/40\n",
    "import numpy as np\n",
    "\n",
    "from sporco.dictlrn import prlcnscdl\n",
    "from sporco import util\n",
    "from sporco import plot\n",
    "plot.config_notebook_plotting()"
   ]
  },
  {
   "cell_type": "markdown",
   "metadata": {},
   "source": [
    "Load training images."
   ]
  },
  {
   "cell_type": "code",
   "execution_count": 2,
   "metadata": {
    "collapsed": false
   },
   "outputs": [],
   "source": [
    "exim = util.ExampleImages(scaled=True, zoom=0.25)\n",
    "S1 = exim.image('barbara.png', idxexp=np.s_[10:522, 100:612])\n",
    "S2 = exim.image('kodim23.png', idxexp=np.s_[:, 60:572])\n",
    "S3 = exim.image('monarch.png', idxexp=np.s_[:, 160:672])\n",
    "S4 = exim.image('sail.png', idxexp=np.s_[:, 210:722])\n",
    "S5 = exim.image('tulips.png', idxexp=np.s_[:, 30:542])\n",
    "S = np.stack((S1, S2, S3, S4, S5), axis=3)"
   ]
  },
  {
   "cell_type": "markdown",
   "metadata": {},
   "source": [
    "Highpass filter training images."
   ]
  },
  {
   "cell_type": "code",
   "execution_count": 3,
   "metadata": {
    "collapsed": false
   },
   "outputs": [],
   "source": [
    "npd = 16\n",
    "fltlmbd = 5\n",
    "sl, sh = util.tikhonov_filter(S, fltlmbd, npd)"
   ]
  },
  {
   "cell_type": "markdown",
   "metadata": {},
   "source": [
    "Construct initial dictionary."
   ]
  },
  {
   "cell_type": "code",
   "execution_count": 4,
   "metadata": {
    "collapsed": false
   },
   "outputs": [],
   "source": [
    "np.random.seed(12345)\n",
    "D0 = np.random.randn(8, 8, 3, 64)"
   ]
  },
  {
   "cell_type": "markdown",
   "metadata": {},
   "source": [
    "Set regularization parameter and options for dictionary learning solver."
   ]
  },
  {
   "cell_type": "code",
   "execution_count": 5,
   "metadata": {
    "collapsed": false
   },
   "outputs": [],
   "source": [
    "lmbda = 0.2\n",
    "opt = prlcnscdl.ConvBPDNDictLearn_Consensus.Options({'Verbose': True,\n",
    "                        'MaxMainIter': 200,\n",
    "                        'CBPDN': {'rho': 50.0*lmbda + 0.5},\n",
    "                        'CCMOD': {'rho': 1.0, 'ZeroMean': True}})"
   ]
  },
  {
   "cell_type": "markdown",
   "metadata": {},
   "source": [
    "Create solver object and solve."
   ]
  },
  {
   "cell_type": "code",
   "execution_count": 6,
   "metadata": {
    "collapsed": false
   },
   "outputs": [
    {
     "name": "stdout",
     "output_type": "stream",
     "text": [
      "Itn   Fnc       DFid      Regℓ1   \n",
      "----------------------------------\n"
     ]
    },
    {
     "name": "stdout",
     "output_type": "stream",
     "text": [
      "   0  1.24e+03  1.19e+03  2.83e+02\n"
     ]
    },
    {
     "name": "stdout",
     "output_type": "stream",
     "text": [
      "   1  9.43e+02  6.77e+02  1.33e+03\n"
     ]
    },
    {
     "name": "stdout",
     "output_type": "stream",
     "text": [
      "   2  8.82e+02  4.16e+02  2.33e+03\n"
     ]
    },
    {
     "name": "stdout",
     "output_type": "stream",
     "text": [
      "   3  8.43e+02  3.10e+02  2.66e+03\n"
     ]
    },
    {
     "name": "stdout",
     "output_type": "stream",
     "text": [
      "   4  7.71e+02  2.67e+02  2.52e+03\n"
     ]
    },
    {
     "name": "stdout",
     "output_type": "stream",
     "text": [
      "   5  7.29e+02  2.69e+02  2.30e+03\n"
     ]
    },
    {
     "name": "stdout",
     "output_type": "stream",
     "text": [
      "   6  7.10e+02  2.73e+02  2.19e+03\n"
     ]
    },
    {
     "name": "stdout",
     "output_type": "stream",
     "text": [
      "   7  6.98e+02  2.65e+02  2.17e+03\n"
     ]
    },
    {
     "name": "stdout",
     "output_type": "stream",
     "text": [
      "   8  6.89e+02  2.51e+02  2.19e+03\n"
     ]
    },
    {
     "name": "stdout",
     "output_type": "stream",
     "text": [
      "   9  6.82e+02  2.39e+02  2.21e+03\n"
     ]
    },
    {
     "name": "stdout",
     "output_type": "stream",
     "text": [
      "  10  6.76e+02  2.32e+02  2.22e+03\n"
     ]
    },
    {
     "name": "stdout",
     "output_type": "stream",
     "text": [
      "  11  6.72e+02  2.29e+02  2.21e+03\n"
     ]
    },
    {
     "name": "stdout",
     "output_type": "stream",
     "text": [
      "  12  6.68e+02  2.28e+02  2.20e+03\n"
     ]
    },
    {
     "name": "stdout",
     "output_type": "stream",
     "text": [
      "  13  6.64e+02  2.28e+02  2.18e+03\n"
     ]
    },
    {
     "name": "stdout",
     "output_type": "stream",
     "text": [
      "  14  6.61e+02  2.28e+02  2.17e+03\n"
     ]
    },
    {
     "name": "stdout",
     "output_type": "stream",
     "text": [
      "  15  6.58e+02  2.27e+02  2.16e+03\n"
     ]
    },
    {
     "name": "stdout",
     "output_type": "stream",
     "text": [
      "  16  6.56e+02  2.25e+02  2.15e+03\n"
     ]
    },
    {
     "name": "stdout",
     "output_type": "stream",
     "text": [
      "  17  6.54e+02  2.24e+02  2.15e+03\n"
     ]
    },
    {
     "name": "stdout",
     "output_type": "stream",
     "text": [
      "  18  6.52e+02  2.23e+02  2.15e+03\n"
     ]
    },
    {
     "name": "stdout",
     "output_type": "stream",
     "text": [
      "  19  6.50e+02  2.22e+02  2.14e+03\n"
     ]
    },
    {
     "name": "stdout",
     "output_type": "stream",
     "text": [
      "  20  6.49e+02  2.21e+02  2.14e+03\n"
     ]
    },
    {
     "name": "stdout",
     "output_type": "stream",
     "text": [
      "  21  6.47e+02  2.20e+02  2.14e+03\n"
     ]
    },
    {
     "name": "stdout",
     "output_type": "stream",
     "text": [
      "  22  6.46e+02  2.19e+02  2.13e+03\n"
     ]
    },
    {
     "name": "stdout",
     "output_type": "stream",
     "text": [
      "  23  6.45e+02  2.19e+02  2.13e+03\n"
     ]
    },
    {
     "name": "stdout",
     "output_type": "stream",
     "text": [
      "  24  6.44e+02  2.18e+02  2.13e+03\n"
     ]
    },
    {
     "name": "stdout",
     "output_type": "stream",
     "text": [
      "  25  6.42e+02  2.18e+02  2.12e+03\n"
     ]
    },
    {
     "name": "stdout",
     "output_type": "stream",
     "text": [
      "  26  6.41e+02  2.18e+02  2.12e+03\n"
     ]
    },
    {
     "name": "stdout",
     "output_type": "stream",
     "text": [
      "  27  6.40e+02  2.17e+02  2.12e+03\n"
     ]
    },
    {
     "name": "stdout",
     "output_type": "stream",
     "text": [
      "  28  6.39e+02  2.17e+02  2.11e+03\n"
     ]
    },
    {
     "name": "stdout",
     "output_type": "stream",
     "text": [
      "  29  6.39e+02  2.17e+02  2.11e+03\n"
     ]
    },
    {
     "name": "stdout",
     "output_type": "stream",
     "text": [
      "  30  6.38e+02  2.16e+02  2.11e+03\n"
     ]
    },
    {
     "name": "stdout",
     "output_type": "stream",
     "text": [
      "  31  6.37e+02  2.16e+02  2.10e+03\n"
     ]
    },
    {
     "name": "stdout",
     "output_type": "stream",
     "text": [
      "  32  6.36e+02  2.16e+02  2.10e+03\n"
     ]
    },
    {
     "name": "stdout",
     "output_type": "stream",
     "text": [
      "  33  6.35e+02  2.15e+02  2.10e+03\n"
     ]
    },
    {
     "name": "stdout",
     "output_type": "stream",
     "text": [
      "  34  6.35e+02  2.15e+02  2.10e+03\n"
     ]
    },
    {
     "name": "stdout",
     "output_type": "stream",
     "text": [
      "  35  6.34e+02  2.15e+02  2.10e+03\n"
     ]
    },
    {
     "name": "stdout",
     "output_type": "stream",
     "text": [
      "  36  6.33e+02  2.15e+02  2.09e+03\n"
     ]
    },
    {
     "name": "stdout",
     "output_type": "stream",
     "text": [
      "  37  6.33e+02  2.15e+02  2.09e+03\n"
     ]
    },
    {
     "name": "stdout",
     "output_type": "stream",
     "text": [
      "  38  6.32e+02  2.14e+02  2.09e+03\n"
     ]
    },
    {
     "name": "stdout",
     "output_type": "stream",
     "text": [
      "  39  6.32e+02  2.14e+02  2.09e+03\n"
     ]
    },
    {
     "name": "stdout",
     "output_type": "stream",
     "text": [
      "  40  6.31e+02  2.14e+02  2.09e+03\n"
     ]
    },
    {
     "name": "stdout",
     "output_type": "stream",
     "text": [
      "  41  6.31e+02  2.14e+02  2.08e+03\n"
     ]
    },
    {
     "name": "stdout",
     "output_type": "stream",
     "text": [
      "  42  6.30e+02  2.14e+02  2.08e+03\n"
     ]
    },
    {
     "name": "stdout",
     "output_type": "stream",
     "text": [
      "  43  6.30e+02  2.14e+02  2.08e+03\n"
     ]
    },
    {
     "name": "stdout",
     "output_type": "stream",
     "text": [
      "  44  6.29e+02  2.13e+02  2.08e+03\n"
     ]
    },
    {
     "name": "stdout",
     "output_type": "stream",
     "text": [
      "  45  6.29e+02  2.13e+02  2.08e+03\n"
     ]
    },
    {
     "name": "stdout",
     "output_type": "stream",
     "text": [
      "  46  6.28e+02  2.13e+02  2.08e+03\n"
     ]
    },
    {
     "name": "stdout",
     "output_type": "stream",
     "text": [
      "  47  6.28e+02  2.13e+02  2.07e+03\n"
     ]
    },
    {
     "name": "stdout",
     "output_type": "stream",
     "text": [
      "  48  6.27e+02  2.13e+02  2.07e+03\n"
     ]
    },
    {
     "name": "stdout",
     "output_type": "stream",
     "text": [
      "  49  6.27e+02  2.13e+02  2.07e+03\n"
     ]
    },
    {
     "name": "stdout",
     "output_type": "stream",
     "text": [
      "  50  6.27e+02  2.13e+02  2.07e+03\n"
     ]
    },
    {
     "name": "stdout",
     "output_type": "stream",
     "text": [
      "  51  6.26e+02  2.13e+02  2.07e+03\n"
     ]
    },
    {
     "name": "stdout",
     "output_type": "stream",
     "text": [
      "  52  6.26e+02  2.12e+02  2.07e+03\n"
     ]
    },
    {
     "name": "stdout",
     "output_type": "stream",
     "text": [
      "  53  6.26e+02  2.12e+02  2.07e+03\n"
     ]
    },
    {
     "name": "stdout",
     "output_type": "stream",
     "text": [
      "  54  6.25e+02  2.12e+02  2.07e+03\n"
     ]
    },
    {
     "name": "stdout",
     "output_type": "stream",
     "text": [
      "  55  6.25e+02  2.12e+02  2.06e+03\n"
     ]
    },
    {
     "name": "stdout",
     "output_type": "stream",
     "text": [
      "  56  6.25e+02  2.12e+02  2.06e+03\n"
     ]
    },
    {
     "name": "stdout",
     "output_type": "stream",
     "text": [
      "  57  6.24e+02  2.12e+02  2.06e+03\n"
     ]
    },
    {
     "name": "stdout",
     "output_type": "stream",
     "text": [
      "  58  6.24e+02  2.12e+02  2.06e+03\n"
     ]
    },
    {
     "name": "stdout",
     "output_type": "stream",
     "text": [
      "  59  6.24e+02  2.12e+02  2.06e+03\n"
     ]
    },
    {
     "name": "stdout",
     "output_type": "stream",
     "text": [
      "  60  6.23e+02  2.12e+02  2.06e+03\n"
     ]
    },
    {
     "name": "stdout",
     "output_type": "stream",
     "text": [
      "  61  6.23e+02  2.12e+02  2.06e+03\n"
     ]
    },
    {
     "name": "stdout",
     "output_type": "stream",
     "text": [
      "  62  6.23e+02  2.12e+02  2.06e+03\n"
     ]
    },
    {
     "name": "stdout",
     "output_type": "stream",
     "text": [
      "  63  6.22e+02  2.11e+02  2.06e+03\n"
     ]
    },
    {
     "name": "stdout",
     "output_type": "stream",
     "text": [
      "  64  6.22e+02  2.11e+02  2.05e+03\n"
     ]
    },
    {
     "name": "stdout",
     "output_type": "stream",
     "text": [
      "  65  6.22e+02  2.11e+02  2.05e+03\n"
     ]
    },
    {
     "name": "stdout",
     "output_type": "stream",
     "text": [
      "  66  6.22e+02  2.11e+02  2.05e+03\n"
     ]
    },
    {
     "name": "stdout",
     "output_type": "stream",
     "text": [
      "  67  6.21e+02  2.11e+02  2.05e+03\n"
     ]
    },
    {
     "name": "stdout",
     "output_type": "stream",
     "text": [
      "  68  6.21e+02  2.11e+02  2.05e+03\n"
     ]
    },
    {
     "name": "stdout",
     "output_type": "stream",
     "text": [
      "  69  6.21e+02  2.11e+02  2.05e+03\n"
     ]
    },
    {
     "name": "stdout",
     "output_type": "stream",
     "text": [
      "  70  6.21e+02  2.11e+02  2.05e+03\n"
     ]
    },
    {
     "name": "stdout",
     "output_type": "stream",
     "text": [
      "  71  6.21e+02  2.11e+02  2.05e+03\n"
     ]
    },
    {
     "name": "stdout",
     "output_type": "stream",
     "text": [
      "  72  6.20e+02  2.11e+02  2.05e+03\n"
     ]
    },
    {
     "name": "stdout",
     "output_type": "stream",
     "text": [
      "  73  6.20e+02  2.11e+02  2.05e+03\n"
     ]
    },
    {
     "name": "stdout",
     "output_type": "stream",
     "text": [
      "  74  6.20e+02  2.11e+02  2.05e+03\n"
     ]
    },
    {
     "name": "stdout",
     "output_type": "stream",
     "text": [
      "  75  6.20e+02  2.11e+02  2.05e+03\n"
     ]
    },
    {
     "name": "stdout",
     "output_type": "stream",
     "text": [
      "  76  6.20e+02  2.11e+02  2.04e+03\n"
     ]
    },
    {
     "name": "stdout",
     "output_type": "stream",
     "text": [
      "  77  6.19e+02  2.11e+02  2.04e+03\n"
     ]
    },
    {
     "name": "stdout",
     "output_type": "stream",
     "text": [
      "  78  6.19e+02  2.10e+02  2.04e+03\n"
     ]
    },
    {
     "name": "stdout",
     "output_type": "stream",
     "text": [
      "  79  6.19e+02  2.10e+02  2.04e+03\n"
     ]
    },
    {
     "name": "stdout",
     "output_type": "stream",
     "text": [
      "  80  6.19e+02  2.10e+02  2.04e+03\n"
     ]
    },
    {
     "name": "stdout",
     "output_type": "stream",
     "text": [
      "  81  6.19e+02  2.10e+02  2.04e+03\n"
     ]
    },
    {
     "name": "stdout",
     "output_type": "stream",
     "text": [
      "  82  6.18e+02  2.10e+02  2.04e+03\n"
     ]
    },
    {
     "name": "stdout",
     "output_type": "stream",
     "text": [
      "  83  6.18e+02  2.10e+02  2.04e+03\n"
     ]
    },
    {
     "name": "stdout",
     "output_type": "stream",
     "text": [
      "  84  6.18e+02  2.10e+02  2.04e+03\n"
     ]
    },
    {
     "name": "stdout",
     "output_type": "stream",
     "text": [
      "  85  6.18e+02  2.10e+02  2.04e+03\n"
     ]
    },
    {
     "name": "stdout",
     "output_type": "stream",
     "text": [
      "  86  6.18e+02  2.10e+02  2.04e+03\n"
     ]
    },
    {
     "name": "stdout",
     "output_type": "stream",
     "text": [
      "  87  6.18e+02  2.10e+02  2.04e+03\n"
     ]
    },
    {
     "name": "stdout",
     "output_type": "stream",
     "text": [
      "  88  6.17e+02  2.10e+02  2.04e+03\n"
     ]
    },
    {
     "name": "stdout",
     "output_type": "stream",
     "text": [
      "  89  6.17e+02  2.10e+02  2.04e+03\n"
     ]
    },
    {
     "name": "stdout",
     "output_type": "stream",
     "text": [
      "  90  6.17e+02  2.10e+02  2.04e+03\n"
     ]
    },
    {
     "name": "stdout",
     "output_type": "stream",
     "text": [
      "  91  6.17e+02  2.10e+02  2.04e+03\n"
     ]
    },
    {
     "name": "stdout",
     "output_type": "stream",
     "text": [
      "  92  6.17e+02  2.10e+02  2.04e+03\n"
     ]
    },
    {
     "name": "stdout",
     "output_type": "stream",
     "text": [
      "  93  6.17e+02  2.10e+02  2.03e+03\n"
     ]
    },
    {
     "name": "stdout",
     "output_type": "stream",
     "text": [
      "  94  6.17e+02  2.10e+02  2.03e+03\n"
     ]
    },
    {
     "name": "stdout",
     "output_type": "stream",
     "text": [
      "  95  6.16e+02  2.10e+02  2.03e+03\n"
     ]
    },
    {
     "name": "stdout",
     "output_type": "stream",
     "text": [
      "  96  6.16e+02  2.10e+02  2.03e+03\n"
     ]
    },
    {
     "name": "stdout",
     "output_type": "stream",
     "text": [
      "  97  6.16e+02  2.10e+02  2.03e+03\n"
     ]
    },
    {
     "name": "stdout",
     "output_type": "stream",
     "text": [
      "  98  6.16e+02  2.10e+02  2.03e+03\n"
     ]
    },
    {
     "name": "stdout",
     "output_type": "stream",
     "text": [
      "  99  6.16e+02  2.10e+02  2.03e+03\n"
     ]
    },
    {
     "name": "stdout",
     "output_type": "stream",
     "text": [
      " 100  6.16e+02  2.10e+02  2.03e+03\n"
     ]
    },
    {
     "name": "stdout",
     "output_type": "stream",
     "text": [
      " 101  6.16e+02  2.10e+02  2.03e+03\n"
     ]
    },
    {
     "name": "stdout",
     "output_type": "stream",
     "text": [
      " 102  6.16e+02  2.10e+02  2.03e+03\n"
     ]
    },
    {
     "name": "stdout",
     "output_type": "stream",
     "text": [
      " 103  6.15e+02  2.09e+02  2.03e+03\n"
     ]
    },
    {
     "name": "stdout",
     "output_type": "stream",
     "text": [
      " 104  6.15e+02  2.09e+02  2.03e+03\n"
     ]
    },
    {
     "name": "stdout",
     "output_type": "stream",
     "text": [
      " 105  6.15e+02  2.09e+02  2.03e+03\n"
     ]
    },
    {
     "name": "stdout",
     "output_type": "stream",
     "text": [
      " 106  6.15e+02  2.09e+02  2.03e+03\n"
     ]
    },
    {
     "name": "stdout",
     "output_type": "stream",
     "text": [
      " 107  6.15e+02  2.09e+02  2.03e+03\n"
     ]
    },
    {
     "name": "stdout",
     "output_type": "stream",
     "text": [
      " 108  6.15e+02  2.09e+02  2.03e+03\n"
     ]
    },
    {
     "name": "stdout",
     "output_type": "stream",
     "text": [
      " 109  6.15e+02  2.09e+02  2.03e+03\n"
     ]
    },
    {
     "name": "stdout",
     "output_type": "stream",
     "text": [
      " 110  6.15e+02  2.09e+02  2.03e+03\n"
     ]
    },
    {
     "name": "stdout",
     "output_type": "stream",
     "text": [
      " 111  6.14e+02  2.09e+02  2.03e+03\n"
     ]
    },
    {
     "name": "stdout",
     "output_type": "stream",
     "text": [
      " 112  6.14e+02  2.09e+02  2.03e+03\n"
     ]
    },
    {
     "name": "stdout",
     "output_type": "stream",
     "text": [
      " 113  6.14e+02  2.09e+02  2.02e+03\n"
     ]
    },
    {
     "name": "stdout",
     "output_type": "stream",
     "text": [
      " 114  6.14e+02  2.09e+02  2.02e+03\n"
     ]
    },
    {
     "name": "stdout",
     "output_type": "stream",
     "text": [
      " 115  6.14e+02  2.09e+02  2.02e+03\n"
     ]
    },
    {
     "name": "stdout",
     "output_type": "stream",
     "text": [
      " 116  6.14e+02  2.09e+02  2.02e+03\n"
     ]
    },
    {
     "name": "stdout",
     "output_type": "stream",
     "text": [
      " 117  6.14e+02  2.09e+02  2.02e+03\n"
     ]
    },
    {
     "name": "stdout",
     "output_type": "stream",
     "text": [
      " 118  6.14e+02  2.09e+02  2.02e+03\n"
     ]
    },
    {
     "name": "stdout",
     "output_type": "stream",
     "text": [
      " 119  6.14e+02  2.09e+02  2.02e+03\n"
     ]
    },
    {
     "name": "stdout",
     "output_type": "stream",
     "text": [
      " 120  6.13e+02  2.09e+02  2.02e+03\n"
     ]
    },
    {
     "name": "stdout",
     "output_type": "stream",
     "text": [
      " 121  6.13e+02  2.09e+02  2.02e+03\n"
     ]
    },
    {
     "name": "stdout",
     "output_type": "stream",
     "text": [
      " 122  6.13e+02  2.09e+02  2.02e+03\n"
     ]
    },
    {
     "name": "stdout",
     "output_type": "stream",
     "text": [
      " 123  6.13e+02  2.09e+02  2.02e+03\n"
     ]
    },
    {
     "name": "stdout",
     "output_type": "stream",
     "text": [
      " 124  6.13e+02  2.09e+02  2.02e+03\n"
     ]
    },
    {
     "name": "stdout",
     "output_type": "stream",
     "text": [
      " 125  6.13e+02  2.09e+02  2.02e+03\n"
     ]
    },
    {
     "name": "stdout",
     "output_type": "stream",
     "text": [
      " 126  6.13e+02  2.09e+02  2.02e+03\n"
     ]
    },
    {
     "name": "stdout",
     "output_type": "stream",
     "text": [
      " 127  6.13e+02  2.09e+02  2.02e+03\n"
     ]
    },
    {
     "name": "stdout",
     "output_type": "stream",
     "text": [
      " 128  6.13e+02  2.09e+02  2.02e+03\n"
     ]
    },
    {
     "name": "stdout",
     "output_type": "stream",
     "text": [
      " 129  6.13e+02  2.09e+02  2.02e+03\n"
     ]
    },
    {
     "name": "stdout",
     "output_type": "stream",
     "text": [
      " 130  6.13e+02  2.09e+02  2.02e+03\n"
     ]
    },
    {
     "name": "stdout",
     "output_type": "stream",
     "text": [
      " 131  6.12e+02  2.09e+02  2.02e+03\n"
     ]
    },
    {
     "name": "stdout",
     "output_type": "stream",
     "text": [
      " 132  6.12e+02  2.09e+02  2.02e+03\n"
     ]
    },
    {
     "name": "stdout",
     "output_type": "stream",
     "text": [
      " 133  6.12e+02  2.09e+02  2.02e+03\n"
     ]
    },
    {
     "name": "stdout",
     "output_type": "stream",
     "text": [
      " 134  6.12e+02  2.09e+02  2.02e+03\n"
     ]
    },
    {
     "name": "stdout",
     "output_type": "stream",
     "text": [
      " 135  6.12e+02  2.09e+02  2.02e+03\n"
     ]
    },
    {
     "name": "stdout",
     "output_type": "stream",
     "text": [
      " 136  6.12e+02  2.09e+02  2.02e+03\n"
     ]
    },
    {
     "name": "stdout",
     "output_type": "stream",
     "text": [
      " 137  6.12e+02  2.09e+02  2.02e+03\n"
     ]
    },
    {
     "name": "stdout",
     "output_type": "stream",
     "text": [
      " 138  6.12e+02  2.09e+02  2.02e+03\n"
     ]
    },
    {
     "name": "stdout",
     "output_type": "stream",
     "text": [
      " 139  6.12e+02  2.09e+02  2.02e+03\n"
     ]
    },
    {
     "name": "stdout",
     "output_type": "stream",
     "text": [
      " 140  6.12e+02  2.08e+02  2.02e+03\n"
     ]
    },
    {
     "name": "stdout",
     "output_type": "stream",
     "text": [
      " 141  6.12e+02  2.08e+02  2.02e+03\n"
     ]
    },
    {
     "name": "stdout",
     "output_type": "stream",
     "text": [
      " 142  6.11e+02  2.08e+02  2.02e+03\n"
     ]
    },
    {
     "name": "stdout",
     "output_type": "stream",
     "text": [
      " 143  6.11e+02  2.08e+02  2.01e+03\n"
     ]
    },
    {
     "name": "stdout",
     "output_type": "stream",
     "text": [
      " 144  6.11e+02  2.08e+02  2.01e+03\n"
     ]
    },
    {
     "name": "stdout",
     "output_type": "stream",
     "text": [
      " 145  6.11e+02  2.08e+02  2.01e+03\n"
     ]
    },
    {
     "name": "stdout",
     "output_type": "stream",
     "text": [
      " 146  6.11e+02  2.08e+02  2.01e+03\n"
     ]
    },
    {
     "name": "stdout",
     "output_type": "stream",
     "text": [
      " 147  6.11e+02  2.08e+02  2.01e+03\n"
     ]
    },
    {
     "name": "stdout",
     "output_type": "stream",
     "text": [
      " 148  6.11e+02  2.08e+02  2.01e+03\n"
     ]
    },
    {
     "name": "stdout",
     "output_type": "stream",
     "text": [
      " 149  6.11e+02  2.08e+02  2.01e+03\n"
     ]
    },
    {
     "name": "stdout",
     "output_type": "stream",
     "text": [
      " 150  6.11e+02  2.08e+02  2.01e+03\n"
     ]
    },
    {
     "name": "stdout",
     "output_type": "stream",
     "text": [
      " 151  6.11e+02  2.08e+02  2.01e+03\n"
     ]
    },
    {
     "name": "stdout",
     "output_type": "stream",
     "text": [
      " 152  6.11e+02  2.08e+02  2.01e+03\n"
     ]
    },
    {
     "name": "stdout",
     "output_type": "stream",
     "text": [
      " 153  6.11e+02  2.08e+02  2.01e+03\n"
     ]
    },
    {
     "name": "stdout",
     "output_type": "stream",
     "text": [
      " 154  6.11e+02  2.08e+02  2.01e+03\n"
     ]
    },
    {
     "name": "stdout",
     "output_type": "stream",
     "text": [
      " 155  6.11e+02  2.08e+02  2.01e+03\n"
     ]
    },
    {
     "name": "stdout",
     "output_type": "stream",
     "text": [
      " 156  6.10e+02  2.08e+02  2.01e+03\n"
     ]
    },
    {
     "name": "stdout",
     "output_type": "stream",
     "text": [
      " 157  6.10e+02  2.08e+02  2.01e+03\n"
     ]
    },
    {
     "name": "stdout",
     "output_type": "stream",
     "text": [
      " 158  6.10e+02  2.08e+02  2.01e+03\n"
     ]
    },
    {
     "name": "stdout",
     "output_type": "stream",
     "text": [
      " 159  6.10e+02  2.08e+02  2.01e+03\n"
     ]
    },
    {
     "name": "stdout",
     "output_type": "stream",
     "text": [
      " 160  6.10e+02  2.08e+02  2.01e+03\n"
     ]
    },
    {
     "name": "stdout",
     "output_type": "stream",
     "text": [
      " 161  6.10e+02  2.08e+02  2.01e+03\n"
     ]
    },
    {
     "name": "stdout",
     "output_type": "stream",
     "text": [
      " 162  6.10e+02  2.08e+02  2.01e+03\n"
     ]
    },
    {
     "name": "stdout",
     "output_type": "stream",
     "text": [
      " 163  6.10e+02  2.08e+02  2.01e+03\n"
     ]
    },
    {
     "name": "stdout",
     "output_type": "stream",
     "text": [
      " 164  6.10e+02  2.08e+02  2.01e+03\n"
     ]
    },
    {
     "name": "stdout",
     "output_type": "stream",
     "text": [
      " 165  6.10e+02  2.08e+02  2.01e+03\n"
     ]
    },
    {
     "name": "stdout",
     "output_type": "stream",
     "text": [
      " 166  6.10e+02  2.08e+02  2.01e+03\n"
     ]
    },
    {
     "name": "stdout",
     "output_type": "stream",
     "text": [
      " 167  6.10e+02  2.08e+02  2.01e+03\n"
     ]
    },
    {
     "name": "stdout",
     "output_type": "stream",
     "text": [
      " 168  6.10e+02  2.08e+02  2.01e+03\n"
     ]
    },
    {
     "name": "stdout",
     "output_type": "stream",
     "text": [
      " 169  6.10e+02  2.08e+02  2.01e+03\n"
     ]
    },
    {
     "name": "stdout",
     "output_type": "stream",
     "text": [
      " 170  6.10e+02  2.08e+02  2.01e+03\n"
     ]
    },
    {
     "name": "stdout",
     "output_type": "stream",
     "text": [
      " 171  6.09e+02  2.08e+02  2.01e+03\n"
     ]
    },
    {
     "name": "stdout",
     "output_type": "stream",
     "text": [
      " 172  6.09e+02  2.08e+02  2.01e+03\n"
     ]
    },
    {
     "name": "stdout",
     "output_type": "stream",
     "text": [
      " 173  6.09e+02  2.08e+02  2.01e+03\n"
     ]
    },
    {
     "name": "stdout",
     "output_type": "stream",
     "text": [
      " 174  6.09e+02  2.08e+02  2.01e+03\n"
     ]
    },
    {
     "name": "stdout",
     "output_type": "stream",
     "text": [
      " 175  6.09e+02  2.08e+02  2.01e+03\n"
     ]
    },
    {
     "name": "stdout",
     "output_type": "stream",
     "text": [
      " 176  6.09e+02  2.08e+02  2.01e+03\n"
     ]
    },
    {
     "name": "stdout",
     "output_type": "stream",
     "text": [
      " 177  6.09e+02  2.08e+02  2.01e+03\n"
     ]
    },
    {
     "name": "stdout",
     "output_type": "stream",
     "text": [
      " 178  6.09e+02  2.08e+02  2.01e+03\n"
     ]
    },
    {
     "name": "stdout",
     "output_type": "stream",
     "text": [
      " 179  6.09e+02  2.08e+02  2.01e+03\n"
     ]
    },
    {
     "name": "stdout",
     "output_type": "stream",
     "text": [
      " 180  6.09e+02  2.08e+02  2.01e+03\n"
     ]
    },
    {
     "name": "stdout",
     "output_type": "stream",
     "text": [
      " 181  6.09e+02  2.08e+02  2.01e+03\n"
     ]
    },
    {
     "name": "stdout",
     "output_type": "stream",
     "text": [
      " 182  6.09e+02  2.08e+02  2.01e+03\n"
     ]
    },
    {
     "name": "stdout",
     "output_type": "stream",
     "text": [
      " 183  6.09e+02  2.08e+02  2.01e+03\n"
     ]
    },
    {
     "name": "stdout",
     "output_type": "stream",
     "text": [
      " 184  6.09e+02  2.08e+02  2.01e+03\n"
     ]
    },
    {
     "name": "stdout",
     "output_type": "stream",
     "text": [
      " 185  6.09e+02  2.08e+02  2.01e+03\n"
     ]
    },
    {
     "name": "stdout",
     "output_type": "stream",
     "text": [
      " 186  6.09e+02  2.08e+02  2.01e+03\n"
     ]
    },
    {
     "name": "stdout",
     "output_type": "stream",
     "text": [
      " 187  6.09e+02  2.08e+02  2.01e+03\n"
     ]
    },
    {
     "name": "stdout",
     "output_type": "stream",
     "text": [
      " 188  6.09e+02  2.08e+02  2.01e+03\n"
     ]
    },
    {
     "name": "stdout",
     "output_type": "stream",
     "text": [
      " 189  6.08e+02  2.08e+02  2.00e+03\n"
     ]
    },
    {
     "name": "stdout",
     "output_type": "stream",
     "text": [
      " 190  6.08e+02  2.07e+02  2.00e+03\n"
     ]
    },
    {
     "name": "stdout",
     "output_type": "stream",
     "text": [
      " 191  6.08e+02  2.07e+02  2.00e+03\n"
     ]
    },
    {
     "name": "stdout",
     "output_type": "stream",
     "text": [
      " 192  6.08e+02  2.07e+02  2.00e+03\n"
     ]
    },
    {
     "name": "stdout",
     "output_type": "stream",
     "text": [
      " 193  6.08e+02  2.07e+02  2.00e+03\n"
     ]
    },
    {
     "name": "stdout",
     "output_type": "stream",
     "text": [
      " 194  6.08e+02  2.07e+02  2.00e+03\n"
     ]
    },
    {
     "name": "stdout",
     "output_type": "stream",
     "text": [
      " 195  6.08e+02  2.07e+02  2.00e+03\n"
     ]
    },
    {
     "name": "stdout",
     "output_type": "stream",
     "text": [
      " 196  6.08e+02  2.07e+02  2.00e+03\n"
     ]
    },
    {
     "name": "stdout",
     "output_type": "stream",
     "text": [
      " 197  6.08e+02  2.07e+02  2.00e+03\n"
     ]
    },
    {
     "name": "stdout",
     "output_type": "stream",
     "text": [
      " 198  6.08e+02  2.07e+02  2.00e+03\n"
     ]
    },
    {
     "name": "stdout",
     "output_type": "stream",
     "text": [
      " 199  6.08e+02  2.07e+02  2.00e+03\n",
      "----------------------------------\n",
      "ConvBPDNDictLearn_Consensus solve time: 141.65s\n"
     ]
    }
   ],
   "source": [
    "d = prlcnscdl.ConvBPDNDictLearn_Consensus(D0, sh, lmbda, opt)\n",
    "D1 = d.solve()\n",
    "print(\"ConvBPDNDictLearn_Consensus solve time: %.2fs\" %\n",
    "      d.timer.elapsed('solve'))"
   ]
  },
  {
   "cell_type": "markdown",
   "metadata": {},
   "source": [
    "Display initial and final dictionaries."
   ]
  },
  {
   "cell_type": "code",
   "execution_count": 7,
   "metadata": {
    "collapsed": false
   },
   "outputs": [
    {
     "data": {
      "image/png": "[encoded data removed]",
      "text/plain": [
       "<matplotlib.figure.Figure at 0x7f07169ad550>"
      ]
     },
     "metadata": {},
     "output_type": "display_data"
    }
   ],
   "source": [
    "D1 = D1.squeeze()\n",
    "fig = plot.figure(figsize=(14, 7))\n",
    "plot.subplot(1, 2, 1)\n",
    "plot.imview(util.tiledict(D0), title='D0', fig=fig)\n",
    "plot.subplot(1, 2, 2)\n",
    "plot.imview(util.tiledict(D1), title='D1', fig=fig)\n",
    "fig.show()"
   ]
  },
  {
   "cell_type": "markdown",
   "metadata": {},
   "source": [
    "Get iterations statistics from solver object and plot functional value"
   ]
  },
  {
   "cell_type": "code",
   "execution_count": 8,
   "metadata": {
    "collapsed": false
   },
   "outputs": [
    {
     "data": {
      "image/png": "[encoded data removed]",
      "text/plain": [
       "<matplotlib.figure.Figure at 0x7f07169a7ef0>"
      ]
     },
     "metadata": {},
     "output_type": "display_data"
    }
   ],
   "source": [
    "its = d.getitstat()\n",
    "plot.plot(its.ObjFun, xlbl='Iterations', ylbl='Functional')"
   ]
  }
 ],
 "metadata": {},
 "nbformat": 4,
 "nbformat_minor": 2
}
