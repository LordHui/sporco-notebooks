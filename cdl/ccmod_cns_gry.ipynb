{
 "cells": [
  {
   "cell_type": "markdown",
   "metadata": {},
   "source": [
    "Convolutional Constained MOD\n",
    "============================\n",
    "\n",
    "This example demonstrates the use of [ccmod.ConvCnstrMOD_Consensus](http://sporco.rtfd.org/en/latest/sporco.admm.ccmod.html#sporco.admm.ccmod.ConvCnstrMOD_Consensus) for computing a convolutional dictionary update via the convolutional constrained method of optimal directions problem [[42]](http://sporco.rtfd.org/en/latest/zreferences.html#sorel-2016-fast) [[15]](http://sporco.rtfd.org/en/latest/zreferences.html#garcia-2017-convolutional). This problem is mainly useful as a component within convolutional dictionary learning, but its use is demonstrated here since a user may wish to construct such objects as part of a custom convolutional dictionary learning algorithm, using [admm.dictlrn.DictLearn](http://sporco.rtfd.org/en/latest/sporco.admm.dictlrn.html#sporco.admm.dictlrn.DictLearn)."
   ]
  },
  {
   "cell_type": "code",
   "execution_count": 1,
   "metadata": {
    "collapsed": false
   },
   "outputs": [],
   "source": [
    "from __future__ import print_function\n",
    "from builtins import input\n",
    "from builtins import range\n",
    "\n",
    "import pyfftw   # See https://github.com/pyFFTW/pyFFTW/issues/40\n",
    "import numpy as np\n",
    "\n",
    "from sporco.admm import cbpdn\n",
    "from sporco.admm import ccmod\n",
    "from sporco import util\n",
    "from sporco import plot\n",
    "plot.config_notebook_plotting()"
   ]
  },
  {
   "cell_type": "markdown",
   "metadata": {},
   "source": [
    "Load training images."
   ]
  },
  {
   "cell_type": "code",
   "execution_count": 2,
   "metadata": {
    "collapsed": false
   },
   "outputs": [],
   "source": [
    "exim = util.ExampleImages(scaled=True, zoom=0.25, gray=True)\n",
    "S1 = exim.image('barbara.png', idxexp=np.s_[10:522, 100:612])\n",
    "S2 = exim.image('kodim23.png', idxexp=np.s_[:, 60:572])\n",
    "S3 = exim.image('monarch.png', idxexp=np.s_[:, 160:672])\n",
    "S4 = exim.image('sail.png', idxexp=np.s_[:, 210:722])\n",
    "S5 = exim.image('tulips.png', idxexp=np.s_[:, 30:542])\n",
    "S = np.dstack((S1, S2, S3, S4, S5))"
   ]
  },
  {
   "cell_type": "markdown",
   "metadata": {},
   "source": [
    "Highpass filter training images."
   ]
  },
  {
   "cell_type": "code",
   "execution_count": 3,
   "metadata": {
    "collapsed": false
   },
   "outputs": [],
   "source": [
    "npd = 16\n",
    "fltlmbd = 5\n",
    "sl, sh = util.tikhonov_filter(S, fltlmbd, npd)"
   ]
  },
  {
   "cell_type": "markdown",
   "metadata": {},
   "source": [
    "Load initial dictionary."
   ]
  },
  {
   "cell_type": "code",
   "execution_count": 4,
   "metadata": {
    "collapsed": false
   },
   "outputs": [],
   "source": [
    "D0 = util.convdicts()['G:12x12x36']"
   ]
  },
  {
   "cell_type": "markdown",
   "metadata": {},
   "source": [
    "Compute sparse representation on current dictionary."
   ]
  },
  {
   "cell_type": "code",
   "execution_count": 5,
   "metadata": {
    "collapsed": false
   },
   "outputs": [
    {
     "name": "stdout",
     "output_type": "stream",
     "text": [
      "Itn   Fnc       DFid      Regℓ1     r         s         ρ         \n",
      "----------------------------------------------------------------\n"
     ]
    },
    {
     "name": "stdout",
     "output_type": "stream",
     "text": [
      "   0  4.25e+02  2.62e+01  3.99e+03  9.06e-01  1.98e-01  6.00e+00\n"
     ]
    },
    {
     "name": "stdout",
     "output_type": "stream",
     "text": [
      "   1  3.42e+02  7.40e+01  2.68e+03  5.95e-01  2.83e-01  6.00e+00\n",
      "   2  3.10e+02  7.33e+01  2.37e+03  3.00e-01  2.50e-01  6.00e+00\n"
     ]
    },
    {
     "name": "stdout",
     "output_type": "stream",
     "text": [
      "   3  3.13e+02  6.71e+01  2.46e+03  2.24e-01  1.89e-01  4.65e+00\n",
      "   4  3.22e+02  6.06e+01  2.61e+03  1.97e-01  1.31e-01  3.58e+00\n"
     ]
    },
    {
     "name": "stdout",
     "output_type": "stream",
     "text": [
      "   5  3.08e+02  5.83e+01  2.50e+03  1.71e-01  9.66e-02  3.10e+00\n",
      "   6  2.81e+02  5.71e+01  2.24e+03  1.39e-01  7.93e-02  3.10e+00\n"
     ]
    },
    {
     "name": "stdout",
     "output_type": "stream",
     "text": [
      "   7  2.57e+02  5.71e+01  2.00e+03  1.14e-01  6.64e-02  3.10e+00\n",
      "   8  2.42e+02  5.74e+01  1.84e+03  9.44e-02  5.48e-02  3.10e+00\n"
     ]
    },
    {
     "name": "stdout",
     "output_type": "stream",
     "text": [
      "   9  2.32e+02  5.78e+01  1.74e+03  7.89e-02  4.66e-02  3.10e+00\n",
      "  10  2.25e+02  5.81e+01  1.67e+03  6.63e-02  4.09e-02  3.10e+00\n"
     ]
    },
    {
     "name": "stdout",
     "output_type": "stream",
     "text": [
      "  11  2.22e+02  5.83e+01  1.63e+03  6.02e-02  3.65e-02  2.79e+00\n",
      "  12  2.20e+02  5.82e+01  1.62e+03  5.53e-02  3.24e-02  2.53e+00\n"
     ]
    },
    {
     "name": "stdout",
     "output_type": "stream",
     "text": [
      "  13  2.19e+02  5.80e+01  1.61e+03  4.84e-02  2.87e-02  2.53e+00\n",
      "  14  2.17e+02  5.79e+01  1.59e+03  4.28e-02  2.57e-02  2.53e+00\n"
     ]
    },
    {
     "name": "stdout",
     "output_type": "stream",
     "text": [
      "  15  2.13e+02  5.78e+01  1.56e+03  3.81e-02  2.36e-02  2.53e+00\n",
      "  16  2.10e+02  5.78e+01  1.52e+03  3.63e-02  2.18e-02  2.28e+00\n"
     ]
    },
    {
     "name": "stdout",
     "output_type": "stream",
     "text": [
      "  17  2.08e+02  5.78e+01  1.50e+03  3.47e-02  1.97e-02  2.08e+00\n",
      "  18  2.06e+02  5.79e+01  1.48e+03  3.17e-02  1.78e-02  2.08e+00\n"
     ]
    },
    {
     "name": "stdout",
     "output_type": "stream",
     "text": [
      "  19  2.04e+02  5.80e+01  1.46e+03  2.91e-02  1.62e-02  2.08e+00\n",
      "  20  2.03e+02  5.80e+01  1.45e+03  2.67e-02  1.50e-02  2.08e+00\n"
     ]
    },
    {
     "name": "stdout",
     "output_type": "stream",
     "text": [
      "  21  2.01e+02  5.80e+01  1.43e+03  2.46e-02  1.40e-02  2.08e+00\n",
      "  22  2.00e+02  5.80e+01  1.42e+03  2.28e-02  1.30e-02  2.08e+00\n"
     ]
    },
    {
     "name": "stdout",
     "output_type": "stream",
     "text": [
      "  23  1.98e+02  5.80e+01  1.40e+03  2.12e-02  1.22e-02  2.08e+00\n",
      "  24  1.97e+02  5.80e+01  1.39e+03  1.98e-02  1.15e-02  2.08e+00\n"
     ]
    },
    {
     "name": "stdout",
     "output_type": "stream",
     "text": [
      "  25  1.96e+02  5.81e+01  1.37e+03  1.85e-02  1.08e-02  2.08e+00\n",
      "  26  1.94e+02  5.81e+01  1.36e+03  1.74e-02  1.02e-02  2.08e+00\n"
     ]
    },
    {
     "name": "stdout",
     "output_type": "stream",
     "text": [
      "  27  1.93e+02  5.81e+01  1.35e+03  1.63e-02  9.61e-03  2.08e+00\n",
      "  28  1.92e+02  5.82e+01  1.34e+03  1.54e-02  9.11e-03  2.08e+00\n"
     ]
    },
    {
     "name": "stdout",
     "output_type": "stream",
     "text": [
      "  29  1.91e+02  5.82e+01  1.33e+03  1.45e-02  8.66e-03  2.08e+00\n",
      "  30  1.90e+02  5.82e+01  1.32e+03  1.37e-02  8.22e-03  2.08e+00\n"
     ]
    },
    {
     "name": "stdout",
     "output_type": "stream",
     "text": [
      "  31  1.90e+02  5.83e+01  1.31e+03  1.30e-02  7.79e-03  2.08e+00\n",
      "  32  1.89e+02  5.83e+01  1.31e+03  1.23e-02  7.38e-03  2.08e+00\n"
     ]
    },
    {
     "name": "stdout",
     "output_type": "stream",
     "text": [
      "  33  1.88e+02  5.83e+01  1.30e+03  1.17e-02  7.00e-03  2.08e+00\n",
      "  34  1.88e+02  5.83e+01  1.30e+03  1.11e-02  6.66e-03  2.08e+00\n"
     ]
    },
    {
     "name": "stdout",
     "output_type": "stream",
     "text": [
      "  35  1.87e+02  5.83e+01  1.29e+03  1.06e-02  6.32e-03  2.08e+00\n",
      "  36  1.87e+02  5.84e+01  1.28e+03  1.00e-02  6.01e-03  2.08e+00\n"
     ]
    },
    {
     "name": "stdout",
     "output_type": "stream",
     "text": [
      "  37  1.86e+02  5.84e+01  1.28e+03  9.56e-03  5.71e-03  2.08e+00\n",
      "  38  1.86e+02  5.84e+01  1.27e+03  9.10e-03  5.45e-03  2.08e+00\n"
     ]
    },
    {
     "name": "stdout",
     "output_type": "stream",
     "text": [
      "  39  1.85e+02  5.84e+01  1.27e+03  8.66e-03  5.20e-03  2.08e+00\n",
      "  40  1.85e+02  5.85e+01  1.26e+03  8.61e-03  4.96e-03  1.90e+00\n"
     ]
    },
    {
     "name": "stdout",
     "output_type": "stream",
     "text": [
      "  41  1.85e+02  5.85e+01  1.26e+03  8.26e-03  4.70e-03  1.90e+00\n",
      "  42  1.84e+02  5.85e+01  1.26e+03  7.93e-03  4.42e-03  1.90e+00\n"
     ]
    },
    {
     "name": "stdout",
     "output_type": "stream",
     "text": [
      "  43  1.84e+02  5.85e+01  1.26e+03  7.59e-03  4.19e-03  1.90e+00\n",
      "  44  1.84e+02  5.85e+01  1.25e+03  7.26e-03  3.98e-03  1.90e+00\n"
     ]
    },
    {
     "name": "stdout",
     "output_type": "stream",
     "text": [
      "  45  1.83e+02  5.85e+01  1.25e+03  6.95e-03  3.79e-03  1.90e+00\n",
      "  46  1.83e+02  5.85e+01  1.25e+03  6.65e-03  3.61e-03  1.90e+00\n"
     ]
    },
    {
     "name": "stdout",
     "output_type": "stream",
     "text": [
      "  47  1.83e+02  5.85e+01  1.24e+03  6.36e-03  3.43e-03  1.90e+00\n",
      "  48  1.82e+02  5.86e+01  1.24e+03  6.09e-03  3.28e-03  1.90e+00\n"
     ]
    },
    {
     "name": "stdout",
     "output_type": "stream",
     "text": [
      "  49  1.82e+02  5.86e+01  1.24e+03  5.82e-03  3.14e-03  1.90e+00\n",
      "  50  1.82e+02  5.86e+01  1.23e+03  5.57e-03  3.01e-03  1.90e+00\n"
     ]
    },
    {
     "name": "stdout",
     "output_type": "stream",
     "text": [
      "  51  1.82e+02  5.86e+01  1.23e+03  5.33e-03  2.90e-03  1.90e+00\n",
      "  52  1.81e+02  5.86e+01  1.23e+03  5.11e-03  2.78e-03  1.90e+00\n"
     ]
    },
    {
     "name": "stdout",
     "output_type": "stream",
     "text": [
      "  53  1.81e+02  5.86e+01  1.22e+03  4.89e-03  2.67e-03  1.90e+00\n",
      "  54  1.81e+02  5.86e+01  1.22e+03  4.69e-03  2.56e-03  1.90e+00\n"
     ]
    },
    {
     "name": "stdout",
     "output_type": "stream",
     "text": [
      "  55  1.81e+02  5.86e+01  1.22e+03  4.50e-03  2.45e-03  1.90e+00\n",
      "  56  1.80e+02  5.86e+01  1.22e+03  4.31e-03  2.35e-03  1.90e+00\n"
     ]
    },
    {
     "name": "stdout",
     "output_type": "stream",
     "text": [
      "  57  1.80e+02  5.86e+01  1.22e+03  4.14e-03  2.25e-03  1.90e+00\n",
      "  58  1.80e+02  5.86e+01  1.21e+03  3.98e-03  2.16e-03  1.90e+00\n"
     ]
    },
    {
     "name": "stdout",
     "output_type": "stream",
     "text": [
      "  59  1.80e+02  5.86e+01  1.21e+03  3.83e-03  2.06e-03  1.90e+00\n",
      "  60  1.80e+02  5.87e+01  1.21e+03  3.67e-03  1.98e-03  1.90e+00\n"
     ]
    },
    {
     "name": "stdout",
     "output_type": "stream",
     "text": [
      "  61  1.80e+02  5.87e+01  1.21e+03  3.53e-03  1.90e-03  1.90e+00\n",
      "  62  1.79e+02  5.87e+01  1.21e+03  3.39e-03  1.84e-03  1.90e+00\n"
     ]
    },
    {
     "name": "stdout",
     "output_type": "stream",
     "text": [
      "  63  1.79e+02  5.87e+01  1.21e+03  3.26e-03  1.77e-03  1.90e+00\n",
      "  64  1.79e+02  5.87e+01  1.20e+03  3.14e-03  1.70e-03  1.90e+00\n"
     ]
    },
    {
     "name": "stdout",
     "output_type": "stream",
     "text": [
      "  65  1.79e+02  5.87e+01  1.20e+03  3.02e-03  1.63e-03  1.90e+00\n",
      "  66  1.79e+02  5.87e+01  1.20e+03  2.90e-03  1.56e-03  1.90e+00\n"
     ]
    },
    {
     "name": "stdout",
     "output_type": "stream",
     "text": [
      "  67  1.79e+02  5.87e+01  1.20e+03  2.79e-03  1.50e-03  1.90e+00\n",
      "  68  1.79e+02  5.87e+01  1.20e+03  2.69e-03  1.45e-03  1.90e+00\n"
     ]
    },
    {
     "name": "stdout",
     "output_type": "stream",
     "text": [
      "  69  1.78e+02  5.87e+01  1.20e+03  2.58e-03  1.40e-03  1.90e+00\n",
      "  70  1.78e+02  5.87e+01  1.20e+03  2.49e-03  1.35e-03  1.90e+00\n"
     ]
    },
    {
     "name": "stdout",
     "output_type": "stream",
     "text": [
      "  71  1.78e+02  5.87e+01  1.19e+03  2.40e-03  1.30e-03  1.90e+00\n",
      "  72  1.78e+02  5.87e+01  1.19e+03  2.31e-03  1.25e-03  1.90e+00\n"
     ]
    },
    {
     "name": "stdout",
     "output_type": "stream",
     "text": [
      "  73  1.78e+02  5.87e+01  1.19e+03  2.22e-03  1.20e-03  1.90e+00\n",
      "  74  1.78e+02  5.87e+01  1.19e+03  2.14e-03  1.16e-03  1.90e+00\n"
     ]
    },
    {
     "name": "stdout",
     "output_type": "stream",
     "text": [
      "  75  1.78e+02  5.87e+01  1.19e+03  2.07e-03  1.11e-03  1.90e+00\n",
      "  76  1.78e+02  5.87e+01  1.19e+03  1.99e-03  1.07e-03  1.90e+00\n"
     ]
    },
    {
     "name": "stdout",
     "output_type": "stream",
     "text": [
      "  77  1.78e+02  5.87e+01  1.19e+03  1.92e-03  1.03e-03  1.90e+00\n",
      "  78  1.77e+02  5.87e+01  1.19e+03  1.85e-03  9.91e-04  1.90e+00\n"
     ]
    },
    {
     "name": "stdout",
     "output_type": "stream",
     "text": [
      "  79  1.77e+02  5.87e+01  1.19e+03  1.78e-03  9.54e-04  1.90e+00\n",
      "  80  1.77e+02  5.87e+01  1.19e+03  1.72e-03  9.17e-04  1.90e+00\n"
     ]
    },
    {
     "name": "stdout",
     "output_type": "stream",
     "text": [
      "  81  1.77e+02  5.87e+01  1.19e+03  1.66e-03  8.82e-04  1.90e+00\n",
      "  82  1.77e+02  5.87e+01  1.18e+03  1.60e-03  8.48e-04  1.90e+00\n"
     ]
    },
    {
     "name": "stdout",
     "output_type": "stream",
     "text": [
      "  83  1.77e+02  5.87e+01  1.18e+03  1.54e-03  8.16e-04  1.90e+00\n",
      "  84  1.77e+02  5.87e+01  1.18e+03  1.49e-03  7.86e-04  1.90e+00\n"
     ]
    },
    {
     "name": "stdout",
     "output_type": "stream",
     "text": [
      "  85  1.77e+02  5.87e+01  1.18e+03  1.43e-03  7.58e-04  1.90e+00\n",
      "  86  1.77e+02  5.87e+01  1.18e+03  1.38e-03  7.33e-04  1.90e+00\n"
     ]
    },
    {
     "name": "stdout",
     "output_type": "stream",
     "text": [
      "  87  1.77e+02  5.88e+01  1.18e+03  1.34e-03  7.07e-04  1.90e+00\n",
      "  88  1.77e+02  5.88e+01  1.18e+03  1.29e-03  6.83e-04  1.90e+00\n"
     ]
    },
    {
     "name": "stdout",
     "output_type": "stream",
     "text": [
      "  89  1.77e+02  5.88e+01  1.18e+03  1.24e-03  6.59e-04  1.90e+00\n",
      "  90  1.77e+02  5.88e+01  1.18e+03  1.20e-03  6.37e-04  1.90e+00\n"
     ]
    },
    {
     "name": "stdout",
     "output_type": "stream",
     "text": [
      "  91  1.77e+02  5.88e+01  1.18e+03  1.16e-03  6.16e-04  1.90e+00\n",
      "  92  1.77e+02  5.88e+01  1.18e+03  1.12e-03  5.95e-04  1.90e+00\n"
     ]
    },
    {
     "name": "stdout",
     "output_type": "stream",
     "text": [
      "  93  1.77e+02  5.88e+01  1.18e+03  1.08e-03  5.74e-04  1.90e+00\n",
      "  94  1.77e+02  5.88e+01  1.18e+03  1.05e-03  5.54e-04  1.90e+00\n"
     ]
    },
    {
     "name": "stdout",
     "output_type": "stream",
     "text": [
      "  95  1.76e+02  5.88e+01  1.18e+03  1.01e-03  5.35e-04  1.90e+00\n",
      "  96  1.76e+02  5.88e+01  1.18e+03  9.78e-04  5.16e-04  1.90e+00\n",
      "----------------------------------------------------------------\n"
     ]
    }
   ],
   "source": [
    "lmbda = 0.1\n",
    "opt = cbpdn.ConvBPDN.Options({'Verbose': True, 'MaxMainIter': 100,\n",
    "                     'HighMemSolve': True})\n",
    "c = cbpdn.ConvBPDN(D0, sh, lmbda, opt)\n",
    "X = c.solve()"
   ]
  },
  {
   "cell_type": "markdown",
   "metadata": {},
   "source": [
    "Update dictionary for training image set."
   ]
  },
  {
   "cell_type": "code",
   "execution_count": 6,
   "metadata": {
    "collapsed": false
   },
   "outputs": [
    {
     "name": "stdout",
     "output_type": "stream",
     "text": [
      "Itn   DFid      Cnstr     r         s         \n",
      "--------------------------------------------\n"
     ]
    },
    {
     "name": "stdout",
     "output_type": "stream",
     "text": [
      "   0  5.83e+01  8.67e-07  9.62e-01  1.04e+00\n",
      "   1  5.66e+01  5.95e-07  4.94e-01  1.20e-01\n"
     ]
    },
    {
     "name": "stdout",
     "output_type": "stream",
     "text": [
      "   2  5.50e+01  9.44e-07  6.35e-02  1.03e-01\n",
      "   3  5.36e+01  8.56e-07  4.74e-02  8.73e-02\n"
     ]
    },
    {
     "name": "stdout",
     "output_type": "stream",
     "text": [
      "   4  5.26e+01  7.82e-07  3.64e-02  7.34e-02\n",
      "   5  5.20e+01  7.90e-07  2.89e-02  6.10e-02\n"
     ]
    },
    {
     "name": "stdout",
     "output_type": "stream",
     "text": [
      "   6  5.16e+01  7.48e-07  2.36e-02  5.01e-02\n",
      "   7  5.13e+01  6.26e-07  1.98e-02  4.09e-02\n"
     ]
    },
    {
     "name": "stdout",
     "output_type": "stream",
     "text": [
      "   8  5.11e+01  6.90e-07  1.68e-02  3.33e-02\n",
      "   9  5.10e+01  8.93e-07  1.43e-02  2.71e-02\n"
     ]
    },
    {
     "name": "stdout",
     "output_type": "stream",
     "text": [
      "  10  5.10e+01  9.27e-07  1.23e-02  2.22e-02\n"
     ]
    },
    {
     "name": "stdout",
     "output_type": "stream",
     "text": [
      "  11  5.09e+01  6.83e-07  1.05e-02  1.85e-02\n"
     ]
    },
    {
     "name": "stdout",
     "output_type": "stream",
     "text": [
      "  12  5.09e+01  9.28e-07  9.03e-03  1.57e-02\n"
     ]
    },
    {
     "name": "stdout",
     "output_type": "stream",
     "text": [
      "  13  5.08e+01  8.57e-07  7.72e-03  1.35e-02\n",
      "  14  5.08e+01  7.58e-07  6.59e-03  1.19e-02\n"
     ]
    },
    {
     "name": "stdout",
     "output_type": "stream",
     "text": [
      "  15  5.07e+01  7.79e-07  5.63e-03  1.05e-02\n",
      "  16  5.07e+01  9.40e-07  4.81e-03  9.41e-03\n"
     ]
    },
    {
     "name": "stdout",
     "output_type": "stream",
     "text": [
      "  17  5.07e+01  9.91e-07  4.13e-03  8.43e-03\n",
      "  18  5.07e+01  8.29e-07  3.56e-03  7.56e-03\n"
     ]
    },
    {
     "name": "stdout",
     "output_type": "stream",
     "text": [
      "  19  5.06e+01  8.67e-07  3.08e-03  6.76e-03\n",
      "  20  5.06e+01  8.68e-07  2.67e-03  6.04e-03\n"
     ]
    },
    {
     "name": "stdout",
     "output_type": "stream",
     "text": [
      "  21  5.06e+01  8.24e-07  2.33e-03  5.39e-03\n",
      "  22  5.06e+01  8.33e-07  2.05e-03  4.80e-03\n"
     ]
    },
    {
     "name": "stdout",
     "output_type": "stream",
     "text": [
      "  23  5.06e+01  8.61e-07  1.80e-03  4.27e-03\n"
     ]
    },
    {
     "name": "stdout",
     "output_type": "stream",
     "text": [
      "  24  5.06e+01  8.72e-07  1.59e-03  3.80e-03\n",
      "  25  5.06e+01  7.23e-07  1.41e-03  3.39e-03\n"
     ]
    },
    {
     "name": "stdout",
     "output_type": "stream",
     "text": [
      "  26  5.06e+01  8.88e-07  1.25e-03  3.04e-03\n",
      "  27  5.06e+01  8.15e-07  1.11e-03  2.72e-03\n"
     ]
    },
    {
     "name": "stdout",
     "output_type": "stream",
     "text": [
      "  28  5.06e+01  7.46e-07  9.86e-04  2.45e-03\n",
      "  29  5.06e+01  7.56e-07  8.80e-04  2.21e-03\n"
     ]
    },
    {
     "name": "stdout",
     "output_type": "stream",
     "text": [
      "  30  5.06e+01  8.87e-07  7.86e-04  2.00e-03\n",
      "  31  5.06e+01  7.44e-07  7.03e-04  1.81e-03\n"
     ]
    },
    {
     "name": "stdout",
     "output_type": "stream",
     "text": [
      "  32  5.06e+01  9.79e-07  6.31e-04  1.65e-03\n",
      "  33  5.06e+01  8.80e-07  5.68e-04  1.50e-03\n"
     ]
    },
    {
     "name": "stdout",
     "output_type": "stream",
     "text": [
      "  34  5.06e+01  7.90e-07  5.12e-04  1.37e-03\n",
      "  35  5.06e+01  7.26e-07  4.63e-04  1.25e-03\n"
     ]
    },
    {
     "name": "stdout",
     "output_type": "stream",
     "text": [
      "  36  5.06e+01  6.92e-07  4.20e-04  1.14e-03\n",
      "  37  5.06e+01  9.80e-07  3.82e-04  1.04e-03\n"
     ]
    },
    {
     "name": "stdout",
     "output_type": "stream",
     "text": [
      "  38  5.06e+01  8.40e-07  3.49e-04  9.55e-04\n",
      "--------------------------------------------\n",
      "ConvCnstrMOD_Consensus solve time: 6.64s\n"
     ]
    }
   ],
   "source": [
    "opt = ccmod.ConvCnstrMOD_Consensus.Options({'Verbose': True,\n",
    "            'MaxMainIter': 100, 'rho': 1e1})\n",
    "c = ccmod.ConvCnstrMOD_Consensus(X, sh, D0.shape, opt)\n",
    "c.solve()\n",
    "D1 = c.getdict().squeeze()\n",
    "print(\"ConvCnstrMOD_Consensus solve time: %.2fs\" % c.timer.elapsed('solve'))"
   ]
  },
  {
   "cell_type": "markdown",
   "metadata": {},
   "source": [
    "Display initial and final dictionaries."
   ]
  },
  {
   "cell_type": "code",
   "execution_count": 7,
   "metadata": {
    "collapsed": false
   },
   "outputs": [
    {
     "data": {
      "image/png": "[encoded data removed]",
      "text/plain": [
       "<matplotlib.figure.Figure at 0x7ffa4d6345c0>"
      ]
     },
     "metadata": {},
     "output_type": "display_data"
    }
   ],
   "source": [
    "fig = plot.figure(figsize=(14, 7))\n",
    "plot.subplot(1, 2, 1)\n",
    "plot.imview(util.tiledict(D0), fgrf=fig, title='D0')\n",
    "plot.subplot(1, 2, 2)\n",
    "plot.imview(util.tiledict(D1), fgrf=fig, title='D1')\n",
    "fig.show()"
   ]
  },
  {
   "cell_type": "markdown",
   "metadata": {},
   "source": [
    "Get iterations statistics from CCMOD solver object and plot functional value, ADMM primary and dual residuals, and automatically adjusted ADMM penalty parameter against the iteration number."
   ]
  },
  {
   "cell_type": "code",
   "execution_count": 8,
   "metadata": {
    "collapsed": false
   },
   "outputs": [
    {
     "data": {
      "image/png": "[encoded data removed]",
      "text/plain": [
       "<matplotlib.figure.Figure at 0x7ffa4cd05c88>"
      ]
     },
     "metadata": {},
     "output_type": "display_data"
    }
   ],
   "source": [
    "its = c.getitstat()\n",
    "fig = plot.figure(figsize=(20, 5))\n",
    "plot.subplot(1, 3, 1)\n",
    "plot.plot(its.DFid, fgrf=fig, xlbl='Iterations', ylbl='Functional')\n",
    "plot.subplot(1, 3, 2)\n",
    "plot.plot(np.vstack((its.PrimalRsdl, its.DualRsdl)).T, fgrf=fig,\n",
    "          ptyp='semilogy', xlbl='Iterations', ylbl='Residual',\n",
    "          lgnd=['Primal', 'Dual'])\n",
    "plot.subplot(1, 3, 3)\n",
    "plot.plot(its.Rho, fgrf=fig, xlbl='Iterations', ylbl='Penalty Parameter')\n",
    "fig.show()"
   ]
  }
 ],
 "metadata": {},
 "nbformat": 4,
 "nbformat_minor": 2
}
