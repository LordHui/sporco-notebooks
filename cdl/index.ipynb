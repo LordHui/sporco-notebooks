{
 "cells": [
  {
   "cell_type": "markdown",
   "metadata": {},
   "source": [
    "# Convolutional Dictionary Learning\n",
    "\n",
    "## Batch CDL\n",
    "\n",
    "-   [Learn a convolutional dictionary (consensus method, greyscale\n",
    "    images)](cbpdndl_cns_gry.ipynb)\n",
    "-   [Learn a convolutional dictionary (FISTA method, colour images,\n",
    "    multiscale colour dictionary)](cbpdndl_fista_clr.ipynb)\n",
    "-   [Learn a convolutional dictionary (parallel consensus method,\n",
    "    greyscale images)](cbpdndl_parcns_gry.ipynb)\n",
    "-   [Learn a convolutional dictionary (parallel consensus method, colour\n",
    "    images)](cbpdndl_parcns_clr.ipynb)\n",
    "-   [Learn a convolutional dictionary (consensus method, video\n",
    "    data)](cbpdndl_video.ipynb)\n",
    "-   [Learn a convolutional dictionary with spatial masking (consensus\n",
    "    method, greyscale images)](cbpdndl_md_gry.ipynb)\n",
    "-   [Learn a convolutional dictionary with spatial masking (consensus\n",
    "    method, colour images)](cbpdndl_md_clr.ipynb)\n",
    "-   [Learn a convolutional dictionary from colour images using custom\n",
    "    sparse coding and dictionary update](cbpdndl_jnt_clr.ipynb)\n",
    "-   [Compute a convolutional dictionary update via the convolutional\n",
    "    constrained MOD problem (consensus method, greyscale\n",
    "    images)](ccmod_cns_gry.ipynb)\n",
    "\n",
    "## Online CDL\n",
    "\n",
    "-   [Learn a convolutional dictionary (online method, greyscale\n",
    "    images)](onlinecdl_gry.ipynb)\n",
    "-   [Learn a convolutional dictionary with spatial masking (online\n",
    "    method, greyscale images)](onlinecdl_msk_gry.ipynb)\n",
    "-   [Learn a convolutional dictionary (online method, colour\n",
    "    images)](onlinecdl_clr.ipynb)\n",
    "-   [Learn a convolutional dictionary (online method, colour images,\n",
    "    cupy accelerated solver)](onlinecdl_clr_cupy.ipynb)"
   ]
  }
 ],
 "metadata": {},
 "nbformat": 4,
 "nbformat_minor": 2
}
