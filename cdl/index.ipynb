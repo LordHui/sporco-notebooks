{
 "cells": [
  {
   "cell_type": "markdown",
   "metadata": {},
   "source": [
    "## Convolutional Dictionary Learning"
   ]
  },
  {
   "cell_type": "markdown",
   "metadata": {},
   "source": [
    "- [Learn a convolutional dictionary (consensus method, greyscale images)](cbpdndl_cns_gry.ipynb)\n",
    "- [Learn a convolutional dictionary (FISTA method, colour images, multiscale colour dictionary)](cbpdndl_fista_clr.ipynb)\n",
    "- [Learn a convolutional dictionary (parallel consensus method, greyscale images)](cbpdndl_parcns_gry.ipynb)\n",
    "- [Learn a convolutional dictionary (parallel consensus method, colour images)](cbpdndl_parcns_clr.ipynb)\n",
    "- [Learn a convolutional dictionary (online method, greyscale images)](onlinecdl_gry.ipynb)\n",
    "- [Learn a convolutional dictionary with spatial masking (online method, greyscale images)](onlinecdl_msk_gry.ipynb)\n",
    "- [Learn a convolutional dictionary (online method, colour images)](onlinecdl_clr.ipynb)\n",
    "- [Learn a convolutional dictionary (online method, colour images, cupy accelerated solver)](onlinecdl_clr_cupy.ipynb)\n",
    "- [Learn a convolutional dictionary (consensus method, video data)](cbpdndl_video.ipynb)\n",
    "- [Learn a convolutional dictionary with spatial masking (consensus method, greyscale images)](cbpdndl_md_gry.ipynb)\n",
    "- [Learn a convolutional dictionary with spatial masking (consensus method, colour images)](cbpdndl_md_clr.ipynb)\n",
    "- [Learn a convolutional dictionary from colour images using custom sparse coding and dictionary update](cbpdndl_jnt_clr.ipynb)\n",
    "- [Compute a convolutional dictionary update via the convolutional constrained MOD problem (consensus method, greyscale images)](ccmod_cns_gry.ipynb)"
   ]
  }
 ],
 "metadata": {},
 "nbformat": 4,
 "nbformat_minor": 2
}
