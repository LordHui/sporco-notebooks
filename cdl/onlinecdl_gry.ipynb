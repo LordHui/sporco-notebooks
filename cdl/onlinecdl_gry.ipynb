{
 "cells": [
  {
   "cell_type": "markdown",
   "metadata": {},
   "source": [
    "Online Convolutional Dictionary Learning\n",
    "========================================\n",
    "\n",
    "This example demonstrates the use of [dictlrn.cbpdndl.ConvBPDNDictLearn](http://sporco.rtfd.org/en/latest/sporco.dictlrn.cbpdndl.html#sporco.dictlrn.cbpdndl.ConvBPDNDictLearn) for learning a convolutional dictionary from a set of training images. The dictionary is learned using the online dictionary learning algorithm proposed in [[21]](http://sporco.rtfd.org/en/latest/zreferences.html#liu-2018-first)."
   ]
  },
  {
   "cell_type": "code",
   "execution_count": 1,
   "metadata": {
    "collapsed": false
   },
   "outputs": [],
   "source": [
    "from __future__ import print_function\n",
    "from builtins import input\n",
    "from builtins import range\n",
    "\n",
    "import pyfftw   # See https://github.com/pyFFTW/pyFFTW/issues/40\n",
    "import numpy as np\n",
    "\n",
    "from sporco.dictlrn import onlinecdl\n",
    "from sporco import util\n",
    "from sporco import plot\n",
    "plot.config_notebook_plotting()"
   ]
  },
  {
   "cell_type": "markdown",
   "metadata": {},
   "source": [
    "Load training images."
   ]
  },
  {
   "cell_type": "code",
   "execution_count": 2,
   "metadata": {
    "collapsed": false
   },
   "outputs": [],
   "source": [
    "exim = util.ExampleImages(scaled=True, zoom=0.25, gray=True)\n",
    "S1 = exim.image('barbara.png', idxexp=np.s_[10:522, 100:612])\n",
    "S2 = exim.image('kodim23.png', idxexp=np.s_[:, 60:572])\n",
    "S3 = exim.image('monarch.png', idxexp=np.s_[:, 160:672])\n",
    "S4 = exim.image('sail.png', idxexp=np.s_[:, 210:722])\n",
    "S5 = exim.image('tulips.png', idxexp=np.s_[:, 30:542])\n",
    "S = np.dstack((S1, S2, S3, S4, S5))"
   ]
  },
  {
   "cell_type": "markdown",
   "metadata": {},
   "source": [
    "Highpass filter training images."
   ]
  },
  {
   "cell_type": "code",
   "execution_count": 3,
   "metadata": {
    "collapsed": false
   },
   "outputs": [],
   "source": [
    "npd = 16\n",
    "fltlmbd = 5\n",
    "sl, sh = util.tikhonov_filter(S, fltlmbd, npd)"
   ]
  },
  {
   "cell_type": "markdown",
   "metadata": {},
   "source": [
    "Construct initial dictionary."
   ]
  },
  {
   "cell_type": "code",
   "execution_count": 4,
   "metadata": {
    "collapsed": false
   },
   "outputs": [],
   "source": [
    "np.random.seed(12345)\n",
    "D0 = np.random.randn(8, 8, 64)"
   ]
  },
  {
   "cell_type": "markdown",
   "metadata": {},
   "source": [
    "Set regularization parameter and options for dictionary learning solver."
   ]
  },
  {
   "cell_type": "code",
   "execution_count": 5,
   "metadata": {
    "collapsed": false
   },
   "outputs": [],
   "source": [
    "lmbda = 0.2\n",
    "opt = onlinecdl.OnlineConvBPDNDictLearn.Options({\n",
    "    'Verbose': True, 'MaxMainIter': 50, 'AccurateDFid' : True,\n",
    "    'CBPDN': {'rho': 3.0, 'AutoRho': {'Enabled': False},\n",
    "              'RelaxParam': 1.0, 'RelStopTol': 1e-7, 'MaxMainIter': 50,\n",
    "              'FastSolve': False, 'DataType': np.float32},\n",
    "    'OCDL': {'ZeroMean': False, 'eta_a': 10.0, 'eta_b': 20.0,\n",
    "             'DataType': np.float32}})"
   ]
  },
  {
   "cell_type": "markdown",
   "metadata": {},
   "source": [
    "Create solver object and solve."
   ]
  },
  {
   "cell_type": "code",
   "execution_count": 6,
   "metadata": {
    "collapsed": false
   },
   "outputs": [
    {
     "name": "stdout",
     "output_type": "stream",
     "text": [
      "Itn   Fnc       DFid      Regℓ1     Cnstr     ρ         η       \n",
      "----------------------------------------------------------------\n"
     ]
    },
    {
     "name": "stdout",
     "output_type": "stream",
     "text": [
      "   0  7.22e+01  3.00e+01  2.11e+02  2.38e+01  3.00e+00  5.00e-01\n"
     ]
    },
    {
     "name": "stdout",
     "output_type": "stream",
     "text": [
      "   1  5.82e+01  2.70e+01  1.56e+02  1.55e+01  3.00e+00  4.76e-01\n"
     ]
    },
    {
     "name": "stdout",
     "output_type": "stream",
     "text": [
      "   2  6.56e+01  1.86e+01  2.35e+02  1.84e+01  3.00e+00  4.55e-01\n"
     ]
    },
    {
     "name": "stdout",
     "output_type": "stream",
     "text": [
      "   3  6.08e+01  1.79e+01  2.14e+02  1.75e+01  3.00e+00  4.35e-01\n"
     ]
    },
    {
     "name": "stdout",
     "output_type": "stream",
     "text": [
      "   4  5.54e+01  2.45e+01  1.55e+02  1.39e+01  3.00e+00  4.17e-01\n"
     ]
    },
    {
     "name": "stdout",
     "output_type": "stream",
     "text": [
      "   5  6.13e+01  3.13e+01  1.50e+02  1.33e+01  3.00e+00  4.00e-01\n"
     ]
    },
    {
     "name": "stdout",
     "output_type": "stream",
     "text": [
      "   6  5.99e+01  3.04e+01  1.47e+02  1.38e+01  3.00e+00  3.85e-01\n"
     ]
    },
    {
     "name": "stdout",
     "output_type": "stream",
     "text": [
      "   7  5.36e+01  2.34e+01  1.51e+02  1.23e+01  3.00e+00  3.70e-01\n"
     ]
    },
    {
     "name": "stdout",
     "output_type": "stream",
     "text": [
      "   8  5.25e+01  2.29e+01  1.48e+02  1.20e+01  3.00e+00  3.57e-01\n"
     ]
    },
    {
     "name": "stdout",
     "output_type": "stream",
     "text": [
      "   9  5.91e+01  2.99e+01  1.46e+02  1.25e+01  3.00e+00  3.45e-01\n"
     ]
    },
    {
     "name": "stdout",
     "output_type": "stream",
     "text": [
      "  10  5.97e+01  1.76e+01  2.10e+02  1.35e+01  3.00e+00  3.33e-01\n"
     ]
    },
    {
     "name": "stdout",
     "output_type": "stream",
     "text": [
      "  11  5.21e+01  2.24e+01  1.49e+02  1.09e+01  3.00e+00  3.23e-01\n"
     ]
    },
    {
     "name": "stdout",
     "output_type": "stream",
     "text": [
      "  12  5.79e+01  1.73e+01  2.03e+02  1.31e+01  3.00e+00  3.12e-01\n"
     ]
    },
    {
     "name": "stdout",
     "output_type": "stream",
     "text": [
      "  13  6.27e+01  2.54e+01  1.86e+02  1.20e+01  3.00e+00  3.03e-01\n"
     ]
    },
    {
     "name": "stdout",
     "output_type": "stream",
     "text": [
      "  14  5.17e+01  2.24e+01  1.47e+02  9.94e+00  3.00e+00  2.94e-01\n"
     ]
    },
    {
     "name": "stdout",
     "output_type": "stream",
     "text": [
      "  15  5.10e+01  2.20e+01  1.45e+02  9.85e+00  3.00e+00  2.86e-01\n"
     ]
    },
    {
     "name": "stdout",
     "output_type": "stream",
     "text": [
      "  16  2.53e+01  1.17e+01  6.79e+01  4.57e+00  3.00e+00  2.78e-01\n"
     ]
    },
    {
     "name": "stdout",
     "output_type": "stream",
     "text": [
      "  17  5.93e+01  3.02e+01  1.45e+02  9.69e+00  3.00e+00  2.70e-01\n"
     ]
    },
    {
     "name": "stdout",
     "output_type": "stream",
     "text": [
      "  18  5.06e+01  2.18e+01  1.44e+02  9.18e+00  3.00e+00  2.63e-01\n"
     ]
    },
    {
     "name": "stdout",
     "output_type": "stream",
     "text": [
      "  19  5.80e+01  1.73e+01  2.03e+02  1.09e+01  3.00e+00  2.56e-01\n"
     ]
    },
    {
     "name": "stdout",
     "output_type": "stream",
     "text": [
      "  20  2.50e+01  1.13e+01  6.80e+01  4.24e+00  3.00e+00  2.50e-01\n"
     ]
    },
    {
     "name": "stdout",
     "output_type": "stream",
     "text": [
      "  21  5.06e+01  2.19e+01  1.44e+02  8.57e+00  3.00e+00  2.44e-01\n"
     ]
    },
    {
     "name": "stdout",
     "output_type": "stream",
     "text": [
      "  22  5.01e+01  2.16e+01  1.42e+02  8.48e+00  3.00e+00  2.38e-01\n"
     ]
    },
    {
     "name": "stdout",
     "output_type": "stream",
     "text": [
      "  23  6.18e+01  2.55e+01  1.82e+02  9.09e+00  3.00e+00  2.33e-01\n"
     ]
    },
    {
     "name": "stdout",
     "output_type": "stream",
     "text": [
      "  24  2.46e+01  1.13e+01  6.68e+01  3.88e+00  3.00e+00  2.27e-01\n"
     ]
    },
    {
     "name": "stdout",
     "output_type": "stream",
     "text": [
      "  25  5.74e+01  1.71e+01  2.01e+02  9.59e+00  3.00e+00  2.22e-01\n"
     ]
    },
    {
     "name": "stdout",
     "output_type": "stream",
     "text": [
      "  26  5.94e+01  3.04e+01  1.45e+02  7.70e+00  3.00e+00  2.17e-01\n"
     ]
    },
    {
     "name": "stdout",
     "output_type": "stream",
     "text": [
      "  27  2.44e+01  1.11e+01  6.65e+01  3.69e+00  3.00e+00  2.13e-01\n"
     ]
    },
    {
     "name": "stdout",
     "output_type": "stream",
     "text": [
      "  28  5.86e+01  2.99e+01  1.43e+02  7.71e+00  3.00e+00  2.08e-01\n"
     ]
    },
    {
     "name": "stdout",
     "output_type": "stream",
     "text": [
      "  29  6.11e+01  2.49e+01  1.81e+02  8.15e+00  3.00e+00  2.04e-01\n"
     ]
    },
    {
     "name": "stdout",
     "output_type": "stream",
     "text": [
      "  30  6.04e+01  2.49e+01  1.78e+02  8.24e+00  3.00e+00  2.00e-01\n"
     ]
    },
    {
     "name": "stdout",
     "output_type": "stream",
     "text": [
      "  31  5.07e+01  2.20e+01  1.43e+02  6.87e+00  3.00e+00  1.96e-01\n"
     ]
    },
    {
     "name": "stdout",
     "output_type": "stream",
     "text": [
      "  32  5.72e+01  1.71e+01  2.00e+02  8.35e+00  3.00e+00  1.92e-01\n"
     ]
    },
    {
     "name": "stdout",
     "output_type": "stream",
     "text": [
      "  33  2.44e+01  1.11e+01  6.64e+01  3.28e+00  3.00e+00  1.89e-01\n"
     ]
    },
    {
     "name": "stdout",
     "output_type": "stream",
     "text": [
      "  34  5.05e+01  2.19e+01  1.43e+02  6.58e+00  3.00e+00  1.85e-01\n"
     ]
    },
    {
     "name": "stdout",
     "output_type": "stream",
     "text": [
      "  35  6.04e+01  2.50e+01  1.77e+02  7.49e+00  3.00e+00  1.82e-01\n"
     ]
    },
    {
     "name": "stdout",
     "output_type": "stream",
     "text": [
      "  36  2.41e+01  1.10e+01  6.58e+01  3.14e+00  3.00e+00  1.79e-01\n"
     ]
    },
    {
     "name": "stdout",
     "output_type": "stream",
     "text": [
      "  37  5.66e+01  1.69e+01  1.99e+02  7.68e+00  3.00e+00  1.75e-01\n"
     ]
    },
    {
     "name": "stdout",
     "output_type": "stream",
     "text": [
      "  38  5.56e+01  1.66e+01  1.95e+02  7.63e+00  3.00e+00  1.72e-01\n"
     ]
    },
    {
     "name": "stdout",
     "output_type": "stream",
     "text": [
      "  39  5.93e+01  3.05e+01  1.44e+02  6.08e+00  3.00e+00  1.69e-01\n"
     ]
    },
    {
     "name": "stdout",
     "output_type": "stream",
     "text": [
      "  40  6.04e+01  2.47e+01  1.78e+02  6.87e+00  3.00e+00  1.67e-01\n"
     ]
    },
    {
     "name": "stdout",
     "output_type": "stream",
     "text": [
      "  41  5.09e+01  2.21e+01  1.44e+02  5.78e+00  3.00e+00  1.64e-01\n"
     ]
    },
    {
     "name": "stdout",
     "output_type": "stream",
     "text": [
      "  42  5.88e+01  3.02e+01  1.43e+02  5.95e+00  3.00e+00  1.61e-01\n"
     ]
    },
    {
     "name": "stdout",
     "output_type": "stream",
     "text": [
      "  43  2.43e+01  1.11e+01  6.57e+01  2.81e+00  3.00e+00  1.59e-01\n"
     ]
    },
    {
     "name": "stdout",
     "output_type": "stream",
     "text": [
      "  44  5.82e+01  2.99e+01  1.41e+02  5.96e+00  3.00e+00  1.56e-01\n"
     ]
    },
    {
     "name": "stdout",
     "output_type": "stream",
     "text": [
      "  45  6.02e+01  2.48e+01  1.77e+02  6.39e+00  3.00e+00  1.54e-01\n"
     ]
    },
    {
     "name": "stdout",
     "output_type": "stream",
     "text": [
      "  46  5.77e+01  2.96e+01  1.41e+02  5.88e+00  3.00e+00  1.52e-01\n"
     ]
    },
    {
     "name": "stdout",
     "output_type": "stream",
     "text": [
      "  47  5.99e+01  2.47e+01  1.76e+02  6.27e+00  3.00e+00  1.49e-01\n"
     ]
    },
    {
     "name": "stdout",
     "output_type": "stream",
     "text": [
      "  48  5.95e+01  2.46e+01  1.74e+02  6.25e+00  3.00e+00  1.47e-01\n"
     ]
    },
    {
     "name": "stdout",
     "output_type": "stream",
     "text": [
      "  49  5.92e+01  2.45e+01  1.73e+02  6.22e+00  3.00e+00  1.45e-01\n",
      "----------------------------------------------------------------\n",
      "OnlineConvBPDNDictLearn solve time: 157.21s\n"
     ]
    }
   ],
   "source": [
    "d = onlinecdl.OnlineConvBPDNDictLearn(D0, sh[..., [0]], lmbda, opt)\n",
    "\n",
    "for it in range(opt['MaxMainIter']):\n",
    "    img_index = np.random.randint(0, sh.shape[-1])\n",
    "    d.solve(sh[..., [img_index]])\n",
    "\n",
    "d.display_end()\n",
    "D1 = d.getdict()\n",
    "print(\"OnlineConvBPDNDictLearn solve time: %.2fs\" % d.timer.elapsed('solve'))"
   ]
  },
  {
   "cell_type": "markdown",
   "metadata": {},
   "source": [
    "Display initial and final dictionaries."
   ]
  },
  {
   "cell_type": "code",
   "execution_count": 7,
   "metadata": {
    "collapsed": false
   },
   "outputs": [
    {
     "data": {
      "image/png": "[encoded data removed]",
      "text/plain": [
       "<matplotlib.figure.Figure at 0x7f08ec23a278>"
      ]
     },
     "metadata": {},
     "output_type": "display_data"
    }
   ],
   "source": [
    "D1 = D1.squeeze()\n",
    "fig = plot.figure(figsize=(14, 7))\n",
    "plot.subplot(1, 2, 1)\n",
    "plot.imview(util.tiledict(D0), title='D0', fig=fig)\n",
    "plot.subplot(1, 2, 2)\n",
    "plot.imview(util.tiledict(D1), title='D1', fig=fig)\n",
    "fig.show()"
   ]
  },
  {
   "cell_type": "markdown",
   "metadata": {},
   "source": [
    "Get iterations statistics from solver object and plot functional value."
   ]
  },
  {
   "cell_type": "code",
   "execution_count": 8,
   "metadata": {
    "collapsed": false
   },
   "outputs": [
    {
     "data": {
      "image/png": "[encoded data removed]",
      "text/plain": [
       "<matplotlib.figure.Figure at 0x7f08ea8dcef0>"
      ]
     },
     "metadata": {},
     "output_type": "display_data"
    }
   ],
   "source": [
    "its = d.getitstat()\n",
    "fig = plot.figure(figsize=(7, 7))\n",
    "plot.plot(its.ObjFun, xlbl='Iterations', ylbl='Functional', fig=fig)\n",
    "fig.show()"
   ]
  }
 ],
 "metadata": {},
 "nbformat": 4,
 "nbformat_minor": 2
}
