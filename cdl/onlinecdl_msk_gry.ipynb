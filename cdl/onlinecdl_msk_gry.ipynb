{
 "cells": [
  {
   "cell_type": "markdown",
   "metadata": {},
   "source": [
    "Online Convolutional Dictionary Learning with Spatial Mask\n",
    "==========================================================\n",
    "\n",
    "This example demonstrates the use of [dictlrn.onlinecdl.OnlineConvBPDNMaskDictLearn](http://sporco.rtfd.org/en/latest/modules/sporco.dictlrn.onlinecdl.html#sporco.dictlrn.onlinecdl.OnlineConvBPDNMaskDictLearn) for learning a convolutional dictionary from a set of training images. The dictionary is learned using the online dictionary learning algorithm proposed in [[24]](http://sporco.rtfd.org/en/latest/zreferences.html#liu-2018-first)."
   ]
  },
  {
   "cell_type": "code",
   "execution_count": 1,
   "metadata": {
    "collapsed": false
   },
   "outputs": [],
   "source": [
    "from __future__ import print_function\n",
    "from builtins import input\n",
    "from builtins import range\n",
    "\n",
    "import pyfftw   # See https://github.com/pyFFTW/pyFFTW/issues/40\n",
    "import numpy as np\n",
    "\n",
    "from sporco.dictlrn import onlinecdl\n",
    "from sporco import util\n",
    "from sporco import cuda\n",
    "from sporco import plot\n",
    "plot.config_notebook_plotting()"
   ]
  },
  {
   "cell_type": "markdown",
   "metadata": {},
   "source": [
    "Load training images."
   ]
  },
  {
   "cell_type": "code",
   "execution_count": 2,
   "metadata": {
    "collapsed": false
   },
   "outputs": [],
   "source": [
    "exim = util.ExampleImages(scaled=True, zoom=0.5, gray=True)\n",
    "S1 = exim.image('barbara.png', idxexp=np.s_[10:522, 100:612])\n",
    "S2 = exim.image('kodim23.png', idxexp=np.s_[:, 60:572])\n",
    "S3 = exim.image('monarch.png', idxexp=np.s_[:, 160:672])\n",
    "S4 = exim.image('sail.png', idxexp=np.s_[:, 210:722])\n",
    "S5 = exim.image('tulips.png', idxexp=np.s_[:, 30:542])\n",
    "S = np.dstack((S1, S2, S3, S4, S5))"
   ]
  },
  {
   "cell_type": "markdown",
   "metadata": {},
   "source": [
    "Highpass filter training images."
   ]
  },
  {
   "cell_type": "code",
   "execution_count": 3,
   "metadata": {
    "collapsed": false
   },
   "outputs": [],
   "source": [
    "npd = 16\n",
    "fltlmbd = 5\n",
    "sl, sh = util.tikhonov_filter(S, fltlmbd, npd)"
   ]
  },
  {
   "cell_type": "markdown",
   "metadata": {},
   "source": [
    "Create random mask and apply to highpass filtered training image set."
   ]
  },
  {
   "cell_type": "code",
   "execution_count": 4,
   "metadata": {
    "collapsed": false
   },
   "outputs": [],
   "source": [
    "np.random.seed(12345)\n",
    "frc = 0.25\n",
    "W = util.rndmask(S.shape, frc, dtype=np.float32)\n",
    "shw = W * sh"
   ]
  },
  {
   "cell_type": "markdown",
   "metadata": {},
   "source": [
    "Construct initial dictionary."
   ]
  },
  {
   "cell_type": "code",
   "execution_count": 5,
   "metadata": {
    "collapsed": false
   },
   "outputs": [],
   "source": [
    "D0 = np.random.randn(8, 8, 32)"
   ]
  },
  {
   "cell_type": "markdown",
   "metadata": {},
   "source": [
    "Set regularization parameter and options for dictionary learning solver."
   ]
  },
  {
   "cell_type": "code",
   "execution_count": 6,
   "metadata": {
    "collapsed": false
   },
   "outputs": [],
   "source": [
    "lmbda = 0.1\n",
    "opt = onlinecdl.OnlineConvBPDNMaskDictLearn.Options({\n",
    "                'Verbose': True, 'ZeroMean': False, 'eta_a': 10.0,\n",
    "                'eta_b': 20.0, 'DataType': np.float32,\n",
    "                'CBPDN': {'rho': 3.0, 'AutoRho': {'Enabled': False},\n",
    "                    'RelaxParam': 1.8, 'RelStopTol': 1e-4, 'MaxMainIter': 100,\n",
    "                    'FastSolve': False, 'DataType': np.float32}})\n",
    "if cuda.device_count() > 0:\n",
    "    opt['CUDA_CBPDN'] = True"
   ]
  },
  {
   "cell_type": "markdown",
   "metadata": {},
   "source": [
    "Create solver object and solve."
   ]
  },
  {
   "cell_type": "code",
   "execution_count": 7,
   "metadata": {
    "collapsed": false
   },
   "outputs": [
    {
     "name": "stdout",
     "output_type": "stream",
     "text": [
      "Itn   X r       X s       X ρ       D cnstr   D dlt     D η     \n",
      "----------------------------------------------------------------\n"
     ]
    },
    {
     "name": "stdout",
     "output_type": "stream",
     "text": [
      "   0  0.00e+00  0.00e+00  0.00e+00  3.76e+01  2.25e+00  5.00e-01\n"
     ]
    },
    {
     "name": "stdout",
     "output_type": "stream",
     "text": [
      "   1  0.00e+00  0.00e+00  0.00e+00  3.30e+01  1.54e+00  4.76e-01\n"
     ]
    },
    {
     "name": "stdout",
     "output_type": "stream",
     "text": [
      "   2  0.00e+00  0.00e+00  0.00e+00  2.86e+01  9.84e-01  4.55e-01\n"
     ]
    },
    {
     "name": "stdout",
     "output_type": "stream",
     "text": [
      "   3  0.00e+00  0.00e+00  0.00e+00  2.73e+01  6.88e-01  4.35e-01\n"
     ]
    },
    {
     "name": "stdout",
     "output_type": "stream",
     "text": [
      "   4  0.00e+00  0.00e+00  0.00e+00  1.20e+01  7.51e-01  4.17e-01\n"
     ]
    },
    {
     "name": "stdout",
     "output_type": "stream",
     "text": [
      "   5  0.00e+00  0.00e+00  0.00e+00  2.57e+01  9.13e-01  4.00e-01\n"
     ]
    },
    {
     "name": "stdout",
     "output_type": "stream",
     "text": [
      "   6  0.00e+00  0.00e+00  0.00e+00  2.44e+01  1.40e+00  3.85e-01\n"
     ]
    },
    {
     "name": "stdout",
     "output_type": "stream",
     "text": [
      "   7  0.00e+00  0.00e+00  0.00e+00  1.06e+01  6.21e-01  3.70e-01\n"
     ]
    },
    {
     "name": "stdout",
     "output_type": "stream",
     "text": [
      "   8  0.00e+00  0.00e+00  0.00e+00  2.21e+01  5.61e-01  3.57e-01\n"
     ]
    },
    {
     "name": "stdout",
     "output_type": "stream",
     "text": [
      "   9  0.00e+00  0.00e+00  0.00e+00  2.13e+01  3.93e-01  3.45e-01\n"
     ]
    },
    {
     "name": "stdout",
     "output_type": "stream",
     "text": [
      "  10  0.00e+00  0.00e+00  0.00e+00  9.48e+00  4.84e-01  3.33e-01\n"
     ]
    },
    {
     "name": "stdout",
     "output_type": "stream",
     "text": [
      "  11  0.00e+00  0.00e+00  0.00e+00  2.04e+01  7.20e-01  3.23e-01\n"
     ]
    },
    {
     "name": "stdout",
     "output_type": "stream",
     "text": [
      "  12  0.00e+00  0.00e+00  0.00e+00  1.91e+01  4.91e-01  3.12e-01\n"
     ]
    },
    {
     "name": "stdout",
     "output_type": "stream",
     "text": [
      "  13  0.00e+00  0.00e+00  0.00e+00  2.15e+01  7.37e-01  3.03e-01\n"
     ]
    },
    {
     "name": "stdout",
     "output_type": "stream",
     "text": [
      "  14  0.00e+00  0.00e+00  0.00e+00  2.06e+01  4.73e-01  2.94e-01\n"
     ]
    },
    {
     "name": "stdout",
     "output_type": "stream",
     "text": [
      "  15  0.00e+00  0.00e+00  0.00e+00  2.01e+01  3.70e-01  2.86e-01\n"
     ]
    },
    {
     "name": "stdout",
     "output_type": "stream",
     "text": [
      "  16  0.00e+00  0.00e+00  0.00e+00  1.96e+01  3.07e-01  2.78e-01\n"
     ]
    },
    {
     "name": "stdout",
     "output_type": "stream",
     "text": [
      "  17  0.00e+00  0.00e+00  0.00e+00  1.61e+01  6.49e-01  2.70e-01\n"
     ]
    },
    {
     "name": "stdout",
     "output_type": "stream",
     "text": [
      "  18  0.00e+00  0.00e+00  0.00e+00  1.63e+01  6.22e-01  2.63e-01\n"
     ]
    },
    {
     "name": "stdout",
     "output_type": "stream",
     "text": [
      "  19  0.00e+00  0.00e+00  0.00e+00  1.59e+01  9.32e-01  2.56e-01\n"
     ]
    },
    {
     "name": "stdout",
     "output_type": "stream",
     "text": [
      "  20  0.00e+00  0.00e+00  0.00e+00  1.78e+01  5.28e-01  2.50e-01\n"
     ]
    },
    {
     "name": "stdout",
     "output_type": "stream",
     "text": [
      "  21  0.00e+00  0.00e+00  0.00e+00  1.53e+01  5.71e-01  2.44e-01\n"
     ]
    },
    {
     "name": "stdout",
     "output_type": "stream",
     "text": [
      "  22  0.00e+00  0.00e+00  0.00e+00  1.51e+01  3.99e-01  2.38e-01\n"
     ]
    },
    {
     "name": "stdout",
     "output_type": "stream",
     "text": [
      "  23  0.00e+00  0.00e+00  0.00e+00  1.49e+01  3.25e-01  2.33e-01\n"
     ]
    },
    {
     "name": "stdout",
     "output_type": "stream",
     "text": [
      "  24  0.00e+00  0.00e+00  0.00e+00  6.45e+00  3.78e-01  2.27e-01\n"
     ]
    },
    {
     "name": "stdout",
     "output_type": "stream",
     "text": [
      "  25  0.00e+00  0.00e+00  0.00e+00  1.33e+01  4.30e-01  2.22e-01\n"
     ]
    },
    {
     "name": "stdout",
     "output_type": "stream",
     "text": [
      "  26  0.00e+00  0.00e+00  0.00e+00  1.54e+01  4.88e-01  2.17e-01\n"
     ]
    },
    {
     "name": "stdout",
     "output_type": "stream",
     "text": [
      "  27  0.00e+00  0.00e+00  0.00e+00  1.30e+01  7.25e-01  2.13e-01\n"
     ]
    },
    {
     "name": "stdout",
     "output_type": "stream",
     "text": [
      "  28  0.00e+00  0.00e+00  0.00e+00  1.24e+01  3.59e-01  2.08e-01\n"
     ]
    },
    {
     "name": "stdout",
     "output_type": "stream",
     "text": [
      "  29  0.00e+00  0.00e+00  0.00e+00  1.23e+01  5.27e-01  2.04e-01\n"
     ]
    },
    {
     "name": "stdout",
     "output_type": "stream",
     "text": [
      "  30  0.00e+00  0.00e+00  0.00e+00  1.20e+01  2.99e-01  2.00e-01\n"
     ]
    },
    {
     "name": "stdout",
     "output_type": "stream",
     "text": [
      "  31  0.00e+00  0.00e+00  0.00e+00  5.54e+00  3.26e-01  1.96e-01\n"
     ]
    },
    {
     "name": "stdout",
     "output_type": "stream",
     "text": [
      "  32  0.00e+00  0.00e+00  0.00e+00  1.23e+01  5.03e-01  1.92e-01\n"
     ]
    },
    {
     "name": "stdout",
     "output_type": "stream",
     "text": [
      "  33  0.00e+00  0.00e+00  0.00e+00  5.39e+00  2.82e-01  1.89e-01\n"
     ]
    },
    {
     "name": "stdout",
     "output_type": "stream",
     "text": [
      "  34  0.00e+00  0.00e+00  0.00e+00  5.35e+00  2.31e-01  1.85e-01\n"
     ]
    },
    {
     "name": "stdout",
     "output_type": "stream",
     "text": [
      "  35  0.00e+00  0.00e+00  0.00e+00  1.09e+01  5.09e-01  1.82e-01\n"
     ]
    },
    {
     "name": "stdout",
     "output_type": "stream",
     "text": [
      "  36  0.00e+00  0.00e+00  0.00e+00  5.18e+00  2.24e-01  1.79e-01\n"
     ]
    },
    {
     "name": "stdout",
     "output_type": "stream",
     "text": [
      "  37  0.00e+00  0.00e+00  0.00e+00  5.13e+00  1.96e-01  1.75e-01\n"
     ]
    },
    {
     "name": "stdout",
     "output_type": "stream",
     "text": [
      "  38  0.00e+00  0.00e+00  0.00e+00  1.11e+01  4.57e-01  1.72e-01\n"
     ]
    },
    {
     "name": "stdout",
     "output_type": "stream",
     "text": [
      "  39  0.00e+00  0.00e+00  0.00e+00  4.98e+00  2.14e-01  1.69e-01\n"
     ]
    },
    {
     "name": "stdout",
     "output_type": "stream",
     "text": [
      "  40  0.00e+00  0.00e+00  0.00e+00  1.08e+01  3.41e-01  1.67e-01\n"
     ]
    },
    {
     "name": "stdout",
     "output_type": "stream",
     "text": [
      "  41  0.00e+00  0.00e+00  0.00e+00  1.15e+01  3.96e-01  1.64e-01\n"
     ]
    },
    {
     "name": "stdout",
     "output_type": "stream",
     "text": [
      "  42  0.00e+00  0.00e+00  0.00e+00  9.77e+00  4.79e-01  1.61e-01\n"
     ]
    },
    {
     "name": "stdout",
     "output_type": "stream",
     "text": [
      "  43  0.00e+00  0.00e+00  0.00e+00  1.12e+01  3.34e-01  1.59e-01\n"
     ]
    },
    {
     "name": "stdout",
     "output_type": "stream",
     "text": [
      "  44  0.00e+00  0.00e+00  0.00e+00  1.11e+01  2.69e-01  1.56e-01\n"
     ]
    },
    {
     "name": "stdout",
     "output_type": "stream",
     "text": [
      "  45  0.00e+00  0.00e+00  0.00e+00  9.97e+00  4.20e-01  1.54e-01\n"
     ]
    },
    {
     "name": "stdout",
     "output_type": "stream",
     "text": [
      "  46  0.00e+00  0.00e+00  0.00e+00  9.07e+00  3.21e-01  1.52e-01\n"
     ]
    },
    {
     "name": "stdout",
     "output_type": "stream",
     "text": [
      "  47  0.00e+00  0.00e+00  0.00e+00  8.98e+00  2.30e-01  1.49e-01\n"
     ]
    },
    {
     "name": "stdout",
     "output_type": "stream",
     "text": [
      "  48  0.00e+00  0.00e+00  0.00e+00  9.60e+00  3.43e-01  1.47e-01\n"
     ]
    },
    {
     "name": "stdout",
     "output_type": "stream",
     "text": [
      "  49  0.00e+00  0.00e+00  0.00e+00  8.72e+00  2.41e-01  1.45e-01\n",
      "----------------------------------------------------------------\n",
      "OnlineConvBPDNMaskDictLearn solve time: 16.72s\n"
     ]
    }
   ],
   "source": [
    "d = onlinecdl.OnlineConvBPDNMaskDictLearn(D0, lmbda, opt)\n",
    "\n",
    "iter = 50\n",
    "d.display_start()\n",
    "for it in range(iter):\n",
    "    img_index = np.random.randint(0, sh.shape[-1])\n",
    "    d.solve(shw[..., [img_index]], W[..., [img_index]])\n",
    "\n",
    "d.display_end()\n",
    "D1 = d.getdict()\n",
    "print(\"OnlineConvBPDNMaskDictLearn solve time: %.2fs\" %\n",
    "      d.timer.elapsed('solve'))"
   ]
  },
  {
   "cell_type": "markdown",
   "metadata": {},
   "source": [
    "Display initial and final dictionaries."
   ]
  },
  {
   "cell_type": "code",
   "execution_count": 8,
   "metadata": {
    "collapsed": false
   },
   "outputs": [
    {
     "data": {
      "image/png": "[encoded data removed]",
      "text/plain": [
       "<matplotlib.figure.Figure at 0x7fe9bd938828>"
      ]
     },
     "metadata": {},
     "output_type": "display_data"
    }
   ],
   "source": [
    "D1 = D1.squeeze()\n",
    "fig = plot.figure(figsize=(14, 7))\n",
    "plot.subplot(1, 2, 1)\n",
    "plot.imview(util.tiledict(D0), title='D0', fig=fig)\n",
    "plot.subplot(1, 2, 2)\n",
    "plot.imview(util.tiledict(D1), title='D1', fig=fig)\n",
    "fig.show()"
   ]
  },
  {
   "cell_type": "markdown",
   "metadata": {},
   "source": [
    "Get iterations statistics from solver object and plot functional value."
   ]
  },
  {
   "cell_type": "code",
   "execution_count": 9,
   "metadata": {
    "collapsed": false
   },
   "outputs": [
    {
     "data": {
      "image/png": "[encoded data removed]",
      "text/plain": [
       "<matplotlib.figure.Figure at 0x7fe9b60a1278>"
      ]
     },
     "metadata": {},
     "output_type": "display_data"
    }
   ],
   "source": [
    "its = d.getitstat()\n",
    "fig = plot.figure(figsize=(7, 7))\n",
    "plot.plot(np.vstack((its.DeltaD, its.Eta)).T, xlbl='Iterations',\n",
    "          lgnd=('Delta D', 'Eta'), fig=fig)\n",
    "fig.show()"
   ]
  }
 ],
 "metadata": {},
 "nbformat": 4,
 "nbformat_minor": 2
}
