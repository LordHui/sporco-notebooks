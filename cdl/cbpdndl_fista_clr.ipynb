{
 "cells": [
  {
   "cell_type": "markdown",
   "metadata": {},
   "source": [
    "Convolutional Dictionary Learning\n",
    "=================================\n",
    "\n",
    "This example demonstrates the use of [fista.cbpdndl.ConvBPDNDictLearn](http://sporco.rtfd.org/en/latest/sporco.fista.cbpdndl.html#sporco.fista.cbpdndl.ConvBPDNDictLearn) for learning a convolutional dictionary from a set of colour training images [[30]](http://sporco.rtfd.org/en/latest/zreferences.html#wohlberg-2016-convolutional), using FISTA solvers for both sparse coding [[8]](http://sporco.rtfd.org/en/latest/zreferences.html#chalasani-2013-fast) [[32]](http://sporco.rtfd.org/en/latest/zreferences.html#wohlberg-2016-efficient) and dictionary update steps [[15]](http://sporco.rtfd.org/en/latest/zreferences.html#garcia-2017-convolutional)."
   ]
  },
  {
   "cell_type": "code",
   "execution_count": 1,
   "metadata": {
    "collapsed": false
   },
   "outputs": [],
   "source": [
    "from __future__ import print_function\n",
    "from builtins import input\n",
    "from builtins import range\n",
    "\n",
    "import numpy as np\n",
    "\n",
    "\n",
    "from sporco.fista import cbpdndl\n",
    "from sporco import util\n",
    "from sporco import plot\n",
    "plot.config_notebook_plotting()"
   ]
  },
  {
   "cell_type": "markdown",
   "metadata": {},
   "source": [
    "Load training images."
   ]
  },
  {
   "cell_type": "code",
   "execution_count": 2,
   "metadata": {
    "collapsed": false
   },
   "outputs": [],
   "source": [
    "exim = util.ExampleImages(scaled=True, zoom=0.5)\n",
    "img1 = exim.image('barbara.png', idxexp=np.s_[10:522, 100:612])\n",
    "img2 = exim.image('kodim23.png', idxexp=np.s_[:, 60:572])\n",
    "img3 = exim.image('monarch.png', idxexp=np.s_[:, 160:672])\n",
    "S = np.stack((img1, img2, img3), axis=3)"
   ]
  },
  {
   "cell_type": "markdown",
   "metadata": {},
   "source": [
    "Highpass filter training images."
   ]
  },
  {
   "cell_type": "code",
   "execution_count": 3,
   "metadata": {
    "collapsed": false
   },
   "outputs": [],
   "source": [
    "npd = 16\n",
    "fltlmbd = 5\n",
    "sl, sh = util.tikhonov_filter(S, fltlmbd, npd)"
   ]
  },
  {
   "cell_type": "markdown",
   "metadata": {},
   "source": [
    "Construct initial dictionary."
   ]
  },
  {
   "cell_type": "code",
   "execution_count": 4,
   "metadata": {
    "collapsed": false
   },
   "outputs": [],
   "source": [
    "np.random.seed(12345)\n",
    "D0 = np.random.randn(16, 16, 3, 96)"
   ]
  },
  {
   "cell_type": "markdown",
   "metadata": {},
   "source": [
    "Set regularization parameter and options for dictionary learning solver. Note the multi-scale dictionary filter sizes."
   ]
  },
  {
   "cell_type": "code",
   "execution_count": 5,
   "metadata": {
    "collapsed": false
   },
   "outputs": [],
   "source": [
    "lmbda = 0.2\n",
    "L_sc = 360.0\n",
    "L_du = 50.0\n",
    "dsz = ((8, 8, 3, 32), (12, 12, 3, 32), (16, 16, 3, 32))\n",
    "opt = cbpdndl.ConvBPDNDictLearn.Options({'Verbose': True,\n",
    "                'MaxMainIter': 200, 'DictSize': dsz,\n",
    "                'CBPDN': {'BackTrack': {'Enabled': True }, 'L': L_sc},\n",
    "                'CCMOD': {'BackTrack': {'Enabled': True }, 'L': L_du } })"
   ]
  },
  {
   "cell_type": "markdown",
   "metadata": {},
   "source": [
    "Create solver object and solve."
   ]
  },
  {
   "cell_type": "code",
   "execution_count": 6,
   "metadata": {
    "collapsed": false
   },
   "outputs": [
    {
     "name": "stdout",
     "output_type": "stream",
     "text": [
      "L xstep in cbpdndl:  1800.0\n",
      "L dstep in cbpdndl:  50.0\n",
      "Itn   Fnc       DFid      ℓ1        Cnstr     F_X       Q_X       It_X      L_X       F_D       Q_D       It_D      L_D       \n",
      "----------------------------------------------------------------------------------------------------------------------------\n"
     ]
    },
    {
     "name": "stdout",
     "output_type": "stream",
     "text": [
      "   0  1.91e+03  1.90e+03  3.23e+01  1.95e-06  0.00e+00  0.00e+00  0.00e+00  1.80e+03  0.00e+00  0.00e+00  0.00e+00  5.00e+01\n"
     ]
    },
    {
     "name": "stdout",
     "output_type": "stream",
     "text": [
      "   1  1.90e+03  1.89e+03  6.60e+01  1.76e-06  6.25e+07  6.30e+07  1.00e+00  1.80e+03  6.25e+07  6.25e+07  1.00e+00  5.00e+01\n"
     ]
    },
    {
     "name": "stdout",
     "output_type": "stream",
     "text": [
      "   2  1.89e+03  1.87e+03  1.12e+02  1.94e-06  6.19e+07  6.25e+07  1.00e+00  1.80e+03  6.18e+07  6.20e+07  1.00e+00  5.00e+01\n"
     ]
    },
    {
     "name": "stdout",
     "output_type": "stream",
     "text": [
      "   3  1.88e+03  1.84e+03  1.76e+02  1.93e-06  6.10e+07  6.17e+07  1.00e+00  1.80e+03  6.08e+07  6.11e+07  1.00e+00  5.00e+01\n"
     ]
    },
    {
     "name": "stdout",
     "output_type": "stream",
     "text": [
      "   4  1.85e+03  1.80e+03  2.67e+02  2.26e-06  5.96e+07  6.05e+07  1.00e+00  1.80e+03  5.90e+07  5.96e+07  1.00e+00  5.00e+01\n"
     ]
    },
    {
     "name": "stdout",
     "output_type": "stream",
     "text": [
      "   5  1.80e+03  1.72e+03  4.04e+02  2.19e-06  5.71e+07  5.85e+07  1.00e+00  1.80e+03  5.60e+07  5.69e+07  1.00e+00  5.00e+01\n"
     ]
    },
    {
     "name": "stdout",
     "output_type": "stream",
     "text": [
      "   6  1.72e+03  1.60e+03  6.06e+02  1.97e-06  5.29e+07  5.50e+07  1.00e+00  1.80e+03  5.12e+07  5.23e+07  1.00e+00  5.00e+01\n"
     ]
    },
    {
     "name": "stdout",
     "output_type": "stream",
     "text": [
      "   7  1.59e+03  1.42e+03  8.79e+02  2.23e-06  4.69e+07  4.95e+07  1.00e+00  1.80e+03  4.52e+07  4.59e+07  1.00e+00  5.00e+01\n"
     ]
    },
    {
     "name": "stdout",
     "output_type": "stream",
     "text": [
      "   8  1.47e+03  1.23e+03  1.19e+03  2.36e-06  4.07e+07  4.27e+07  1.00e+00  1.80e+03  3.95e+07  3.97e+07  1.00e+00  5.00e+01\n"
     ]
    },
    {
     "name": "stdout",
     "output_type": "stream",
     "text": [
      "   9  1.38e+03  1.08e+03  1.49e+03  2.46e-06  3.57e+07  3.69e+07  1.00e+00  1.80e+03  3.49e+07  3.51e+07  1.00e+00  5.00e+01\n"
     ]
    },
    {
     "name": "stdout",
     "output_type": "stream",
     "text": [
      "  10  1.32e+03  9.69e+02  1.74e+03  2.01e-06  3.21e+07  3.28e+07  1.00e+00  1.80e+03  3.15e+07  3.16e+07  1.00e+00  5.00e+01\n"
     ]
    },
    {
     "name": "stdout",
     "output_type": "stream",
     "text": [
      "  11  1.27e+03  8.86e+02  1.93e+03  2.25e-06  2.93e+07  2.98e+07  1.00e+00  1.80e+03  2.89e+07  2.90e+07  1.00e+00  5.00e+01\n"
     ]
    },
    {
     "name": "stdout",
     "output_type": "stream",
     "text": [
      "  12  1.24e+03  8.22e+02  2.07e+03  2.01e-06  2.72e+07  2.75e+07  1.00e+00  1.80e+03  2.69e+07  2.69e+07  1.00e+00  5.00e+01\n"
     ]
    },
    {
     "name": "stdout",
     "output_type": "stream",
     "text": [
      "  13  1.21e+03  7.72e+02  2.18e+03  2.01e-06  2.55e+07  2.58e+07  1.00e+00  1.80e+03  2.53e+07  2.54e+07  1.00e+00  5.00e+01\n"
     ]
    },
    {
     "name": "stdout",
     "output_type": "stream",
     "text": [
      "  14  1.18e+03  7.31e+02  2.27e+03  2.09e-06  2.42e+07  2.44e+07  1.00e+00  1.80e+03  2.40e+07  2.41e+07  1.00e+00  5.00e+01\n"
     ]
    },
    {
     "name": "stdout",
     "output_type": "stream",
     "text": [
      "  15  1.16e+03  6.95e+02  2.33e+03  1.97e-06  2.30e+07  2.32e+07  1.00e+00  1.80e+03  2.29e+07  2.29e+07  1.00e+00  5.00e+01\n"
     ]
    },
    {
     "name": "stdout",
     "output_type": "stream",
     "text": [
      "  16  1.14e+03  6.64e+02  2.39e+03  2.19e-06  2.19e+07  2.21e+07  1.00e+00  1.80e+03  2.19e+07  2.19e+07  1.00e+00  5.00e+01\n"
     ]
    },
    {
     "name": "stdout",
     "output_type": "stream",
     "text": [
      "  17  1.12e+03  6.35e+02  2.44e+03  1.97e-06  2.10e+07  2.12e+07  1.00e+00  1.80e+03  2.09e+07  2.09e+07  1.00e+00  5.00e+01\n"
     ]
    },
    {
     "name": "stdout",
     "output_type": "stream",
     "text": [
      "  18  1.10e+03  6.08e+02  2.48e+03  2.11e-06  2.01e+07  2.03e+07  1.00e+00  1.80e+03  2.01e+07  2.01e+07  1.00e+00  5.00e+01\n"
     ]
    },
    {
     "name": "stdout",
     "output_type": "stream",
     "text": [
      "  19  1.09e+03  5.84e+02  2.52e+03  2.10e-06  1.93e+07  1.95e+07  1.00e+00  1.80e+03  1.93e+07  1.93e+07  1.00e+00  5.00e+01\n"
     ]
    },
    {
     "name": "stdout",
     "output_type": "stream",
     "text": [
      "  20  1.07e+03  5.62e+02  2.56e+03  2.19e-06  1.86e+07  1.87e+07  1.00e+00  1.80e+03  1.86e+07  1.86e+07  1.00e+00  5.00e+01\n"
     ]
    },
    {
     "name": "stdout",
     "output_type": "stream",
     "text": [
      "  21  1.06e+03  5.42e+02  2.59e+03  2.12e-06  1.79e+07  1.81e+07  1.00e+00  1.80e+03  1.79e+07  1.79e+07  1.00e+00  5.00e+01\n"
     ]
    },
    {
     "name": "stdout",
     "output_type": "stream",
     "text": [
      "  22  1.05e+03  5.24e+02  2.62e+03  1.78e-06  1.73e+07  1.75e+07  1.00e+00  1.80e+03  1.73e+07  1.73e+07  3.00e+01  9.89e+03\n"
     ]
    },
    {
     "name": "stdout",
     "output_type": "stream",
     "text": [
      "  23  1.04e+03  5.08e+02  2.65e+03  2.01e-06  1.68e+07  1.69e+07  1.00e+00  1.80e+03  1.68e+07  1.68e+07  3.00e+00  1.42e+04\n"
     ]
    },
    {
     "name": "stdout",
     "output_type": "stream",
     "text": [
      "  24  1.03e+03  4.94e+02  2.67e+03  1.90e-06  1.64e+07  1.64e+07  1.00e+00  1.80e+03  1.64e+07  1.64e+07  2.00e+00  1.71e+04\n"
     ]
    },
    {
     "name": "stdout",
     "output_type": "stream",
     "text": [
      "  25  1.02e+03  4.81e+02  2.69e+03  1.93e-06  1.59e+07  1.60e+07  1.00e+00  1.80e+03  1.59e+07  1.59e+07  2.00e+00  2.05e+04\n"
     ]
    },
    {
     "name": "stdout",
     "output_type": "stream",
     "text": [
      "  26  1.01e+03  4.70e+02  2.70e+03  1.84e-06  1.56e+07  1.56e+07  1.00e+00  1.80e+03  1.56e+07  1.56e+07  2.00e+00  2.46e+04\n"
     ]
    },
    {
     "name": "stdout",
     "output_type": "stream",
     "text": [
      "  27  1.00e+03  4.60e+02  2.71e+03  1.98e-06  1.52e+07  1.53e+07  1.00e+00  1.80e+03  1.52e+07  1.52e+07  3.00e+00  3.54e+04\n"
     ]
    },
    {
     "name": "stdout",
     "output_type": "stream",
     "text": [
      "  28  9.94e+02  4.50e+02  2.72e+03  1.85e-06  1.49e+07  1.50e+07  1.00e+00  1.80e+03  1.49e+07  1.49e+07  2.00e+00  4.25e+04\n"
     ]
    },
    {
     "name": "stdout",
     "output_type": "stream",
     "text": [
      "  29  9.87e+02  4.42e+02  2.73e+03  2.00e-06  1.46e+07  1.47e+07  1.00e+00  1.80e+03  1.46e+07  1.46e+07  2.00e+00  5.10e+04\n"
     ]
    },
    {
     "name": "stdout",
     "output_type": "stream",
     "text": [
      "  30  9.81e+02  4.34e+02  2.73e+03  1.97e-06  1.44e+07  1.44e+07  1.00e+00  1.80e+03  1.44e+07  1.44e+07  2.00e+00  6.12e+04\n"
     ]
    },
    {
     "name": "stdout",
     "output_type": "stream",
     "text": [
      "  31  9.74e+02  4.27e+02  2.74e+03  1.97e-06  1.41e+07  1.42e+07  1.00e+00  1.80e+03  1.42e+07  1.42e+07  2.00e+00  7.35e+04\n"
     ]
    },
    {
     "name": "stdout",
     "output_type": "stream",
     "text": [
      "  32  9.68e+02  4.20e+02  2.74e+03  1.78e-06  1.39e+07  1.40e+07  1.00e+00  1.80e+03  1.39e+07  1.39e+07  2.00e+00  8.82e+04\n"
     ]
    },
    {
     "name": "stdout",
     "output_type": "stream",
     "text": [
      "  33  9.62e+02  4.14e+02  2.74e+03  1.87e-06  1.37e+07  1.38e+07  1.00e+00  1.80e+03  1.37e+07  1.37e+07  2.00e+00  1.06e+05\n"
     ]
    },
    {
     "name": "stdout",
     "output_type": "stream",
     "text": [
      "  34  9.56e+02  4.09e+02  2.74e+03  1.67e-06  1.35e+07  1.36e+07  1.00e+00  1.80e+03  1.35e+07  1.35e+07  2.00e+00  1.27e+05\n"
     ]
    },
    {
     "name": "stdout",
     "output_type": "stream",
     "text": [
      "  35  9.51e+02  4.04e+02  2.74e+03  1.92e-06  1.34e+07  1.34e+07  1.00e+00  1.80e+03  1.34e+07  1.34e+07  1.00e+00  1.27e+05\n"
     ]
    },
    {
     "name": "stdout",
     "output_type": "stream",
     "text": [
      "  36  9.46e+02  3.99e+02  2.74e+03  1.67e-06  1.32e+07  1.32e+07  1.00e+00  1.80e+03  1.32e+07  1.32e+07  2.00e+00  1.52e+05\n"
     ]
    },
    {
     "name": "stdout",
     "output_type": "stream",
     "text": [
      "  37  9.41e+02  3.94e+02  2.73e+03  1.86e-06  1.31e+07  1.31e+07  1.00e+00  1.80e+03  1.31e+07  1.31e+07  2.00e+00  1.83e+05\n"
     ]
    },
    {
     "name": "stdout",
     "output_type": "stream",
     "text": [
      "  38  9.36e+02  3.90e+02  2.73e+03  2.09e-06  1.29e+07  1.30e+07  1.00e+00  1.80e+03  1.29e+07  1.29e+07  2.00e+00  2.19e+05\n"
     ]
    },
    {
     "name": "stdout",
     "output_type": "stream",
     "text": [
      "  39  9.32e+02  3.86e+02  2.73e+03  1.77e-06  1.28e+07  1.28e+07  1.00e+00  1.80e+03  1.28e+07  1.28e+07  2.00e+00  2.63e+05\n"
     ]
    },
    {
     "name": "stdout",
     "output_type": "stream",
     "text": [
      "  40  9.28e+02  3.83e+02  2.73e+03  1.94e-06  1.27e+07  1.27e+07  1.00e+00  1.80e+03  1.27e+07  1.27e+07  1.00e+00  2.63e+05\n"
     ]
    },
    {
     "name": "stdout",
     "output_type": "stream",
     "text": [
      "  41  9.24e+02  3.79e+02  2.72e+03  1.92e-06  1.25e+07  1.26e+07  1.00e+00  1.80e+03  1.26e+07  1.26e+07  2.00e+00  3.16e+05\n"
     ]
    },
    {
     "name": "stdout",
     "output_type": "stream",
     "text": [
      "  42  9.20e+02  3.76e+02  2.72e+03  1.79e-06  1.24e+07  1.25e+07  1.00e+00  1.80e+03  1.24e+07  1.24e+07  2.00e+00  3.79e+05\n"
     ]
    },
    {
     "name": "stdout",
     "output_type": "stream",
     "text": [
      "  43  9.16e+02  3.73e+02  2.71e+03  2.01e-06  1.23e+07  1.24e+07  1.00e+00  1.80e+03  1.23e+07  1.23e+07  2.00e+00  4.55e+05\n"
     ]
    },
    {
     "name": "stdout",
     "output_type": "stream",
     "text": [
      "  44  9.12e+02  3.70e+02  2.71e+03  1.85e-06  1.22e+07  1.23e+07  1.00e+00  1.80e+03  1.23e+07  1.23e+07  1.00e+00  4.55e+05\n"
     ]
    },
    {
     "name": "stdout",
     "output_type": "stream",
     "text": [
      "  45  9.09e+02  3.67e+02  2.71e+03  1.67e-06  1.22e+07  1.22e+07  1.00e+00  1.80e+03  1.22e+07  1.22e+07  2.00e+00  5.46e+05\n"
     ]
    },
    {
     "name": "stdout",
     "output_type": "stream",
     "text": [
      "  46  9.05e+02  3.65e+02  2.70e+03  1.62e-06  1.21e+07  1.21e+07  1.00e+00  1.80e+03  1.21e+07  1.21e+07  2.00e+00  6.55e+05\n"
     ]
    },
    {
     "name": "stdout",
     "output_type": "stream",
     "text": [
      "  47  9.02e+02  3.62e+02  2.70e+03  2.05e-06  1.20e+07  1.20e+07  1.00e+00  1.80e+03  1.20e+07  1.20e+07  1.00e+00  6.55e+05\n"
     ]
    },
    {
     "name": "stdout",
     "output_type": "stream",
     "text": [
      "  48  8.99e+02  3.60e+02  2.70e+03  1.87e-06  1.19e+07  1.19e+07  1.00e+00  1.80e+03  1.19e+07  1.19e+07  2.00e+00  7.86e+05\n"
     ]
    },
    {
     "name": "stdout",
     "output_type": "stream",
     "text": [
      "  49  8.96e+02  3.58e+02  2.69e+03  1.73e-06  1.18e+07  1.19e+07  1.00e+00  1.80e+03  1.18e+07  1.18e+07  1.00e+00  7.86e+05\n"
     ]
    },
    {
     "name": "stdout",
     "output_type": "stream",
     "text": [
      "  50  8.93e+02  3.56e+02  2.69e+03  1.68e-06  1.18e+07  1.18e+07  1.00e+00  1.80e+03  1.18e+07  1.18e+07  2.00e+00  9.44e+05\n"
     ]
    },
    {
     "name": "stdout",
     "output_type": "stream",
     "text": [
      "  51  8.91e+02  3.54e+02  2.69e+03  1.53e-06  1.17e+07  1.17e+07  1.00e+00  1.80e+03  1.17e+07  1.17e+07  2.00e+00  1.13e+06\n"
     ]
    },
    {
     "name": "stdout",
     "output_type": "stream",
     "text": [
      "  52  8.88e+02  3.52e+02  2.68e+03  1.65e-06  1.16e+07  1.17e+07  1.00e+00  1.80e+03  1.16e+07  1.16e+07  1.00e+00  1.13e+06\n"
     ]
    },
    {
     "name": "stdout",
     "output_type": "stream",
     "text": [
      "  53  8.85e+02  3.50e+02  2.68e+03  1.57e-06  1.16e+07  1.16e+07  1.00e+00  1.80e+03  1.16e+07  1.16e+07  2.00e+00  1.36e+06\n"
     ]
    },
    {
     "name": "stdout",
     "output_type": "stream",
     "text": [
      "  54  8.83e+02  3.48e+02  2.68e+03  1.53e-06  1.15e+07  1.15e+07  1.00e+00  1.80e+03  1.15e+07  1.15e+07  2.00e+00  1.63e+06\n"
     ]
    },
    {
     "name": "stdout",
     "output_type": "stream",
     "text": [
      "  55  8.81e+02  3.46e+02  2.67e+03  1.58e-06  1.15e+07  1.15e+07  1.00e+00  1.80e+03  1.15e+07  1.15e+07  1.00e+00  1.63e+06\n"
     ]
    },
    {
     "name": "stdout",
     "output_type": "stream",
     "text": [
      "  56  8.78e+02  3.45e+02  2.67e+03  1.77e-06  1.14e+07  1.14e+07  1.00e+00  1.80e+03  1.14e+07  1.14e+07  1.00e+00  1.63e+06\n"
     ]
    },
    {
     "name": "stdout",
     "output_type": "stream",
     "text": [
      "  57  8.76e+02  3.43e+02  2.67e+03  1.61e-06  1.13e+07  1.14e+07  1.00e+00  1.80e+03  1.13e+07  1.13e+07  2.00e+00  1.96e+06\n"
     ]
    },
    {
     "name": "stdout",
     "output_type": "stream",
     "text": [
      "  58  8.74e+02  3.41e+02  2.66e+03  1.50e-06  1.13e+07  1.13e+07  1.00e+00  1.80e+03  1.13e+07  1.13e+07  1.00e+00  1.96e+06\n"
     ]
    },
    {
     "name": "stdout",
     "output_type": "stream",
     "text": [
      "  59  8.72e+02  3.40e+02  2.66e+03  1.46e-06  1.12e+07  1.13e+07  1.00e+00  1.80e+03  1.12e+07  1.12e+07  2.00e+00  2.35e+06\n"
     ]
    },
    {
     "name": "stdout",
     "output_type": "stream",
     "text": [
      "  60  8.70e+02  3.39e+02  2.66e+03  1.61e-06  1.12e+07  1.12e+07  1.00e+00  1.80e+03  1.12e+07  1.12e+07  1.00e+00  2.35e+06\n"
     ]
    },
    {
     "name": "stdout",
     "output_type": "stream",
     "text": [
      "  61  8.68e+02  3.37e+02  2.65e+03  1.62e-06  1.12e+07  1.12e+07  1.00e+00  1.80e+03  1.12e+07  1.12e+07  2.00e+00  2.82e+06\n"
     ]
    },
    {
     "name": "stdout",
     "output_type": "stream",
     "text": [
      "  62  8.66e+02  3.36e+02  2.65e+03  1.60e-06  1.11e+07  1.11e+07  1.00e+00  1.80e+03  1.11e+07  1.11e+07  1.00e+00  2.82e+06\n"
     ]
    },
    {
     "name": "stdout",
     "output_type": "stream",
     "text": [
      "  63  8.64e+02  3.35e+02  2.65e+03  1.44e-06  1.11e+07  1.11e+07  1.00e+00  1.80e+03  1.11e+07  1.11e+07  2.00e+00  3.38e+06\n"
     ]
    },
    {
     "name": "stdout",
     "output_type": "stream",
     "text": [
      "  64  8.63e+02  3.33e+02  2.65e+03  1.58e-06  1.10e+07  1.10e+07  1.00e+00  1.80e+03  1.10e+07  1.10e+07  1.00e+00  3.38e+06\n"
     ]
    },
    {
     "name": "stdout",
     "output_type": "stream",
     "text": [
      "  65  8.61e+02  3.32e+02  2.64e+03  1.69e-06  1.10e+07  1.10e+07  1.00e+00  1.80e+03  1.10e+07  1.10e+07  1.00e+00  3.38e+06\n"
     ]
    },
    {
     "name": "stdout",
     "output_type": "stream",
     "text": [
      "  66  8.59e+02  3.31e+02  2.64e+03  1.36e-06  1.09e+07  1.10e+07  1.00e+00  1.80e+03  1.10e+07  1.10e+07  2.00e+00  4.06e+06\n"
     ]
    },
    {
     "name": "stdout",
     "output_type": "stream",
     "text": [
      "  67  8.58e+02  3.30e+02  2.64e+03  1.31e-06  1.09e+07  1.09e+07  1.00e+00  1.80e+03  1.09e+07  1.09e+07  1.00e+00  4.06e+06\n"
     ]
    },
    {
     "name": "stdout",
     "output_type": "stream",
     "text": [
      "  68  8.56e+02  3.29e+02  2.64e+03  1.22e-06  1.09e+07  1.09e+07  1.00e+00  1.80e+03  1.09e+07  1.09e+07  1.00e+00  4.06e+06\n"
     ]
    },
    {
     "name": "stdout",
     "output_type": "stream",
     "text": [
      "  69  8.55e+02  3.28e+02  2.63e+03  1.43e-06  1.08e+07  1.09e+07  1.00e+00  1.80e+03  1.08e+07  1.08e+07  2.00e+00  4.87e+06\n"
     ]
    },
    {
     "name": "stdout",
     "output_type": "stream",
     "text": [
      "  70  8.53e+02  3.27e+02  2.63e+03  1.46e-06  1.08e+07  1.08e+07  1.00e+00  1.80e+03  1.08e+07  1.08e+07  2.00e+00  5.84e+06\n"
     ]
    },
    {
     "name": "stdout",
     "output_type": "stream",
     "text": [
      "  71  8.52e+02  3.26e+02  2.63e+03  1.33e-06  1.08e+07  1.08e+07  1.00e+00  1.80e+03  1.08e+07  1.08e+07  1.00e+00  5.84e+06\n"
     ]
    },
    {
     "name": "stdout",
     "output_type": "stream",
     "text": [
      "  72  8.50e+02  3.25e+02  2.63e+03  1.44e-06  1.07e+07  1.08e+07  1.00e+00  1.80e+03  1.07e+07  1.07e+07  1.00e+00  5.84e+06\n"
     ]
    },
    {
     "name": "stdout",
     "output_type": "stream",
     "text": [
      "  73  8.49e+02  3.24e+02  2.63e+03  1.47e-06  1.07e+07  1.07e+07  1.00e+00  1.80e+03  1.07e+07  1.07e+07  1.00e+00  5.84e+06\n"
     ]
    },
    {
     "name": "stdout",
     "output_type": "stream",
     "text": [
      "  74  8.48e+02  3.23e+02  2.62e+03  1.22e-06  1.07e+07  1.07e+07  1.00e+00  1.80e+03  1.07e+07  1.07e+07  2.00e+00  7.01e+06\n"
     ]
    },
    {
     "name": "stdout",
     "output_type": "stream",
     "text": [
      "  75  8.46e+02  3.22e+02  2.62e+03  1.41e-06  1.07e+07  1.07e+07  1.00e+00  1.80e+03  1.07e+07  1.07e+07  1.00e+00  7.01e+06\n"
     ]
    },
    {
     "name": "stdout",
     "output_type": "stream",
     "text": [
      "  76  8.45e+02  3.21e+02  2.62e+03  1.31e-06  1.06e+07  1.06e+07  1.00e+00  1.80e+03  1.06e+07  1.06e+07  1.00e+00  7.01e+06\n"
     ]
    },
    {
     "name": "stdout",
     "output_type": "stream",
     "text": [
      "  77  8.44e+02  3.20e+02  2.62e+03  1.31e-06  1.06e+07  1.06e+07  1.00e+00  1.80e+03  1.06e+07  1.06e+07  1.00e+00  7.01e+06\n"
     ]
    },
    {
     "name": "stdout",
     "output_type": "stream",
     "text": [
      "  78  8.43e+02  3.20e+02  2.62e+03  1.32e-06  1.06e+07  1.06e+07  1.00e+00  1.80e+03  1.06e+07  1.06e+07  2.00e+00  8.41e+06\n"
     ]
    },
    {
     "name": "stdout",
     "output_type": "stream",
     "text": [
      "  79  8.42e+02  3.19e+02  2.61e+03  9.82e-07  1.06e+07  1.06e+07  1.00e+00  1.80e+03  1.06e+07  1.06e+07  1.00e+00  8.41e+06\n"
     ]
    },
    {
     "name": "stdout",
     "output_type": "stream",
     "text": [
      "  80  8.40e+02  3.18e+02  2.61e+03  1.18e-06  1.05e+07  1.05e+07  1.00e+00  1.80e+03  1.05e+07  1.05e+07  2.00e+00  1.01e+07\n"
     ]
    },
    {
     "name": "stdout",
     "output_type": "stream",
     "text": [
      "  81  8.39e+02  3.17e+02  2.61e+03  1.26e-06  1.05e+07  1.05e+07  1.00e+00  1.80e+03  1.05e+07  1.05e+07  1.00e+00  1.01e+07\n"
     ]
    },
    {
     "name": "stdout",
     "output_type": "stream",
     "text": [
      "  82  8.38e+02  3.17e+02  2.61e+03  1.28e-06  1.05e+07  1.05e+07  1.00e+00  1.80e+03  1.05e+07  1.05e+07  1.00e+00  1.01e+07\n"
     ]
    },
    {
     "name": "stdout",
     "output_type": "stream",
     "text": [
      "  83  8.37e+02  3.16e+02  2.61e+03  9.49e-07  1.05e+07  1.05e+07  1.00e+00  1.80e+03  1.05e+07  1.05e+07  1.00e+00  1.01e+07\n"
     ]
    },
    {
     "name": "stdout",
     "output_type": "stream",
     "text": [
      "  84  8.36e+02  3.15e+02  2.60e+03  1.06e-06  1.04e+07  1.04e+07  1.00e+00  1.80e+03  1.04e+07  1.04e+07  1.00e+00  1.01e+07\n"
     ]
    },
    {
     "name": "stdout",
     "output_type": "stream",
     "text": [
      "  85  8.35e+02  3.15e+02  2.60e+03  1.09e-06  1.04e+07  1.04e+07  1.00e+00  1.80e+03  1.04e+07  1.04e+07  1.00e+00  1.01e+07\n"
     ]
    },
    {
     "name": "stdout",
     "output_type": "stream",
     "text": [
      "  86  8.34e+02  3.14e+02  2.60e+03  1.19e-06  1.04e+07  1.04e+07  1.00e+00  1.80e+03  1.04e+07  1.04e+07  1.00e+00  1.01e+07\n"
     ]
    },
    {
     "name": "stdout",
     "output_type": "stream",
     "text": [
      "  87  8.33e+02  3.14e+02  2.60e+03  1.10e-06  1.04e+07  1.04e+07  1.00e+00  1.80e+03  1.04e+07  1.04e+07  1.00e+00  1.01e+07\n"
     ]
    },
    {
     "name": "stdout",
     "output_type": "stream",
     "text": [
      "  88  8.32e+02  3.13e+02  2.60e+03  1.07e-06  1.04e+07  1.04e+07  1.00e+00  1.80e+03  1.04e+07  1.04e+07  1.00e+00  1.01e+07\n"
     ]
    },
    {
     "name": "stdout",
     "output_type": "stream",
     "text": [
      "  89  8.32e+02  3.12e+02  2.60e+03  1.12e-06  1.03e+07  1.03e+07  1.00e+00  1.80e+03  1.03e+07  1.03e+07  1.00e+00  1.01e+07\n"
     ]
    },
    {
     "name": "stdout",
     "output_type": "stream",
     "text": [
      "  90  8.31e+02  3.12e+02  2.59e+03  1.06e-06  1.03e+07  1.03e+07  1.00e+00  1.80e+03  1.03e+07  1.03e+07  1.00e+00  1.01e+07\n"
     ]
    },
    {
     "name": "stdout",
     "output_type": "stream",
     "text": [
      "  91  8.30e+02  3.11e+02  2.59e+03  1.04e-06  1.03e+07  1.03e+07  1.00e+00  1.80e+03  1.03e+07  1.03e+07  1.00e+00  1.01e+07\n"
     ]
    },
    {
     "name": "stdout",
     "output_type": "stream",
     "text": [
      "  92  8.29e+02  3.11e+02  2.59e+03  1.23e-06  1.03e+07  1.03e+07  1.00e+00  1.80e+03  1.03e+07  1.03e+07  1.00e+00  1.01e+07\n"
     ]
    },
    {
     "name": "stdout",
     "output_type": "stream",
     "text": [
      "  93  8.28e+02  3.10e+02  2.59e+03  9.38e-07  1.03e+07  1.03e+07  1.00e+00  1.80e+03  1.03e+07  1.03e+07  1.00e+00  1.01e+07\n"
     ]
    },
    {
     "name": "stdout",
     "output_type": "stream",
     "text": [
      "  94  8.27e+02  3.10e+02  2.59e+03  1.04e-06  1.03e+07  1.03e+07  1.00e+00  1.80e+03  1.03e+07  1.03e+07  1.00e+00  1.01e+07\n"
     ]
    },
    {
     "name": "stdout",
     "output_type": "stream",
     "text": [
      "  95  8.27e+02  3.09e+02  2.59e+03  9.07e-07  1.02e+07  1.02e+07  1.00e+00  1.80e+03  1.02e+07  1.02e+07  1.00e+00  1.01e+07\n"
     ]
    },
    {
     "name": "stdout",
     "output_type": "stream",
     "text": [
      "  96  8.26e+02  3.09e+02  2.59e+03  1.09e-06  1.02e+07  1.02e+07  1.00e+00  1.80e+03  1.02e+07  1.02e+07  1.00e+00  1.01e+07\n"
     ]
    },
    {
     "name": "stdout",
     "output_type": "stream",
     "text": [
      "  97  8.25e+02  3.08e+02  2.58e+03  8.98e-07  1.02e+07  1.02e+07  1.00e+00  1.80e+03  1.02e+07  1.02e+07  1.00e+00  1.01e+07\n"
     ]
    },
    {
     "name": "stdout",
     "output_type": "stream",
     "text": [
      "  98  8.25e+02  3.08e+02  2.58e+03  8.90e-07  1.02e+07  1.02e+07  1.00e+00  1.80e+03  1.02e+07  1.02e+07  1.00e+00  1.01e+07\n"
     ]
    },
    {
     "name": "stdout",
     "output_type": "stream",
     "text": [
      "  99  8.24e+02  3.08e+02  2.58e+03  1.02e-06  1.02e+07  1.02e+07  1.00e+00  1.80e+03  1.02e+07  1.02e+07  1.00e+00  1.01e+07\n"
     ]
    },
    {
     "name": "stdout",
     "output_type": "stream",
     "text": [
      " 100  8.23e+02  3.07e+02  2.58e+03  1.03e-06  1.02e+07  1.02e+07  1.00e+00  1.80e+03  1.02e+07  1.02e+07  1.00e+00  1.01e+07\n"
     ]
    },
    {
     "name": "stdout",
     "output_type": "stream",
     "text": [
      " 101  8.22e+02  3.07e+02  2.58e+03  1.04e-06  1.01e+07  1.02e+07  1.00e+00  1.80e+03  1.01e+07  1.01e+07  1.00e+00  1.01e+07\n"
     ]
    },
    {
     "name": "stdout",
     "output_type": "stream",
     "text": [
      " 102  8.22e+02  3.06e+02  2.58e+03  1.07e-06  1.01e+07  1.01e+07  1.00e+00  1.80e+03  1.01e+07  1.01e+07  1.00e+00  1.01e+07\n"
     ]
    },
    {
     "name": "stdout",
     "output_type": "stream",
     "text": [
      " 103  8.21e+02  3.06e+02  2.58e+03  8.92e-07  1.01e+07  1.01e+07  1.00e+00  1.80e+03  1.01e+07  1.01e+07  1.00e+00  1.01e+07\n"
     ]
    },
    {
     "name": "stdout",
     "output_type": "stream",
     "text": [
      " 104  8.21e+02  3.06e+02  2.58e+03  9.59e-07  1.01e+07  1.01e+07  1.00e+00  1.80e+03  1.01e+07  1.01e+07  1.00e+00  1.01e+07\n"
     ]
    },
    {
     "name": "stdout",
     "output_type": "stream",
     "text": [
      " 105  8.20e+02  3.05e+02  2.57e+03  8.73e-07  1.01e+07  1.01e+07  1.00e+00  1.80e+03  1.01e+07  1.01e+07  1.00e+00  1.01e+07\n"
     ]
    },
    {
     "name": "stdout",
     "output_type": "stream",
     "text": [
      " 106  8.19e+02  3.05e+02  2.57e+03  8.93e-07  1.01e+07  1.01e+07  1.00e+00  1.80e+03  1.01e+07  1.01e+07  1.00e+00  1.01e+07\n"
     ]
    },
    {
     "name": "stdout",
     "output_type": "stream",
     "text": [
      " 107  8.19e+02  3.04e+02  2.57e+03  1.13e-06  1.01e+07  1.01e+07  1.00e+00  1.80e+03  1.01e+07  1.01e+07  1.00e+00  1.01e+07\n"
     ]
    },
    {
     "name": "stdout",
     "output_type": "stream",
     "text": [
      " 108  8.18e+02  3.04e+02  2.57e+03  9.39e-07  1.01e+07  1.01e+07  1.00e+00  1.80e+03  1.01e+07  1.01e+07  1.00e+00  1.01e+07\n"
     ]
    },
    {
     "name": "stdout",
     "output_type": "stream",
     "text": [
      " 109  8.18e+02  3.04e+02  2.57e+03  8.68e-07  1.01e+07  1.01e+07  1.00e+00  1.80e+03  1.01e+07  1.01e+07  1.00e+00  1.01e+07\n"
     ]
    },
    {
     "name": "stdout",
     "output_type": "stream",
     "text": [
      " 110  8.17e+02  3.03e+02  2.57e+03  8.80e-07  1.00e+07  1.00e+07  1.00e+00  1.80e+03  1.00e+07  1.00e+07  1.00e+00  1.01e+07\n"
     ]
    },
    {
     "name": "stdout",
     "output_type": "stream",
     "text": [
      " 111  8.17e+02  3.03e+02  2.57e+03  1.06e-06  1.00e+07  1.00e+07  1.00e+00  1.80e+03  1.00e+07  1.00e+07  1.00e+00  1.01e+07\n"
     ]
    },
    {
     "name": "stdout",
     "output_type": "stream",
     "text": [
      " 112  8.16e+02  3.03e+02  2.57e+03  9.50e-07  1.00e+07  1.00e+07  1.00e+00  1.80e+03  1.00e+07  1.00e+07  1.00e+00  1.01e+07\n"
     ]
    },
    {
     "name": "stdout",
     "output_type": "stream",
     "text": [
      " 113  8.16e+02  3.03e+02  2.56e+03  1.09e-06  1.00e+07  1.00e+07  1.00e+00  1.80e+03  1.00e+07  1.00e+07  1.00e+00  1.01e+07\n"
     ]
    },
    {
     "name": "stdout",
     "output_type": "stream",
     "text": [
      " 114  8.15e+02  3.02e+02  2.56e+03  9.02e-07  1.00e+07  1.00e+07  1.00e+00  1.80e+03  1.00e+07  1.00e+07  1.00e+00  1.01e+07\n"
     ]
    },
    {
     "name": "stdout",
     "output_type": "stream",
     "text": [
      " 115  8.15e+02  3.02e+02  2.56e+03  8.88e-07  1.00e+07  1.00e+07  1.00e+00  1.80e+03  1.00e+07  1.00e+07  1.00e+00  1.01e+07\n"
     ]
    },
    {
     "name": "stdout",
     "output_type": "stream",
     "text": [
      " 116  8.14e+02  3.02e+02  2.56e+03  8.55e-07  9.99e+06  9.99e+06  1.00e+00  1.80e+03  9.99e+06  9.99e+06  1.00e+00  1.01e+07\n"
     ]
    },
    {
     "name": "stdout",
     "output_type": "stream",
     "text": [
      " 117  8.14e+02  3.02e+02  2.56e+03  8.81e-07  9.98e+06  9.98e+06  1.00e+00  1.80e+03  9.98e+06  9.98e+06  1.00e+00  1.01e+07\n"
     ]
    },
    {
     "name": "stdout",
     "output_type": "stream",
     "text": [
      " 118  8.13e+02  3.01e+02  2.56e+03  1.07e-06  9.97e+06  9.98e+06  1.00e+00  1.80e+03  9.97e+06  9.97e+06  1.00e+00  1.01e+07\n"
     ]
    },
    {
     "name": "stdout",
     "output_type": "stream",
     "text": [
      " 119  8.13e+02  3.01e+02  2.56e+03  7.88e-07  9.96e+06  9.97e+06  1.00e+00  1.80e+03  9.96e+06  9.96e+06  1.00e+00  1.01e+07\n"
     ]
    },
    {
     "name": "stdout",
     "output_type": "stream",
     "text": [
      " 120  8.12e+02  3.01e+02  2.56e+03  9.77e-07  9.96e+06  9.96e+06  1.00e+00  1.80e+03  9.96e+06  9.96e+06  1.00e+00  1.01e+07\n"
     ]
    },
    {
     "name": "stdout",
     "output_type": "stream",
     "text": [
      " 121  8.12e+02  3.01e+02  2.56e+03  9.39e-07  9.95e+06  9.95e+06  1.00e+00  1.80e+03  9.95e+06  9.95e+06  1.00e+00  1.01e+07\n"
     ]
    },
    {
     "name": "stdout",
     "output_type": "stream",
     "text": [
      " 122  8.11e+02  3.00e+02  2.55e+03  1.01e-06  9.94e+06  9.95e+06  1.00e+00  1.80e+03  9.94e+06  9.94e+06  1.00e+00  1.01e+07\n"
     ]
    },
    {
     "name": "stdout",
     "output_type": "stream",
     "text": [
      " 123  8.11e+02  3.00e+02  2.55e+03  8.20e-07  9.94e+06  9.94e+06  1.00e+00  1.80e+03  9.94e+06  9.94e+06  1.00e+00  1.01e+07\n"
     ]
    },
    {
     "name": "stdout",
     "output_type": "stream",
     "text": [
      " 124  8.10e+02  3.00e+02  2.55e+03  9.54e-07  9.93e+06  9.93e+06  1.00e+00  1.80e+03  9.93e+06  9.93e+06  1.00e+00  1.01e+07\n"
     ]
    },
    {
     "name": "stdout",
     "output_type": "stream",
     "text": [
      " 125  8.10e+02  3.00e+02  2.55e+03  1.02e-06  9.92e+06  9.93e+06  1.00e+00  1.80e+03  9.92e+06  9.92e+06  1.00e+00  1.01e+07\n"
     ]
    },
    {
     "name": "stdout",
     "output_type": "stream",
     "text": [
      " 126  8.10e+02  3.00e+02  2.55e+03  9.64e-07  9.92e+06  9.92e+06  1.00e+00  1.80e+03  9.92e+06  9.92e+06  1.00e+00  1.01e+07\n"
     ]
    },
    {
     "name": "stdout",
     "output_type": "stream",
     "text": [
      " 127  8.09e+02  2.99e+02  2.55e+03  9.61e-07  9.91e+06  9.91e+06  1.00e+00  1.80e+03  9.91e+06  9.91e+06  1.00e+00  1.01e+07\n"
     ]
    },
    {
     "name": "stdout",
     "output_type": "stream",
     "text": [
      " 128  8.09e+02  2.99e+02  2.55e+03  9.29e-07  9.90e+06  9.91e+06  1.00e+00  1.80e+03  9.90e+06  9.90e+06  1.00e+00  1.01e+07\n"
     ]
    },
    {
     "name": "stdout",
     "output_type": "stream",
     "text": [
      " 129  8.08e+02  2.99e+02  2.55e+03  9.26e-07  9.90e+06  9.90e+06  1.00e+00  1.80e+03  9.90e+06  9.90e+06  1.00e+00  1.01e+07\n"
     ]
    },
    {
     "name": "stdout",
     "output_type": "stream",
     "text": [
      " 130  8.08e+02  2.99e+02  2.55e+03  9.97e-07  9.89e+06  9.90e+06  1.00e+00  1.80e+03  9.89e+06  9.89e+06  1.00e+00  1.01e+07\n"
     ]
    },
    {
     "name": "stdout",
     "output_type": "stream",
     "text": [
      " 131  8.08e+02  2.99e+02  2.54e+03  9.77e-07  9.89e+06  9.89e+06  1.00e+00  1.80e+03  9.89e+06  9.89e+06  1.00e+00  1.01e+07\n"
     ]
    },
    {
     "name": "stdout",
     "output_type": "stream",
     "text": [
      " 132  8.07e+02  2.99e+02  2.54e+03  1.04e-06  9.88e+06  9.88e+06  1.00e+00  1.80e+03  9.88e+06  9.88e+06  1.00e+00  1.01e+07\n"
     ]
    },
    {
     "name": "stdout",
     "output_type": "stream",
     "text": [
      " 133  8.07e+02  2.98e+02  2.54e+03  8.50e-07  9.88e+06  9.88e+06  1.00e+00  1.80e+03  9.88e+06  9.88e+06  1.00e+00  1.01e+07\n"
     ]
    },
    {
     "name": "stdout",
     "output_type": "stream",
     "text": [
      " 134  8.07e+02  2.98e+02  2.54e+03  8.72e-07  9.87e+06  9.87e+06  1.00e+00  1.80e+03  9.87e+06  9.87e+06  1.00e+00  1.01e+07\n"
     ]
    },
    {
     "name": "stdout",
     "output_type": "stream",
     "text": [
      " 135  8.06e+02  2.98e+02  2.54e+03  9.32e-07  9.87e+06  9.87e+06  1.00e+00  1.80e+03  9.87e+06  9.87e+06  1.00e+00  1.01e+07\n"
     ]
    },
    {
     "name": "stdout",
     "output_type": "stream",
     "text": [
      " 136  8.06e+02  2.98e+02  2.54e+03  9.69e-07  9.86e+06  9.86e+06  1.00e+00  1.80e+03  9.86e+06  9.86e+06  1.00e+00  1.01e+07\n"
     ]
    },
    {
     "name": "stdout",
     "output_type": "stream",
     "text": [
      " 137  8.06e+02  2.98e+02  2.54e+03  1.00e-06  9.86e+06  9.86e+06  1.00e+00  1.80e+03  9.86e+06  9.86e+06  1.00e+00  1.01e+07\n"
     ]
    },
    {
     "name": "stdout",
     "output_type": "stream",
     "text": [
      " 138  8.05e+02  2.98e+02  2.54e+03  1.06e-06  9.85e+06  9.85e+06  1.00e+00  1.80e+03  9.85e+06  9.85e+06  1.00e+00  1.01e+07\n"
     ]
    },
    {
     "name": "stdout",
     "output_type": "stream",
     "text": [
      " 139  8.05e+02  2.98e+02  2.54e+03  1.01e-06  9.85e+06  9.85e+06  1.00e+00  1.80e+03  9.85e+06  9.85e+06  1.00e+00  1.01e+07\n"
     ]
    },
    {
     "name": "stdout",
     "output_type": "stream",
     "text": [
      " 140  8.05e+02  2.97e+02  2.54e+03  9.55e-07  9.84e+06  9.84e+06  1.00e+00  1.80e+03  9.84e+06  9.84e+06  1.00e+00  1.01e+07\n"
     ]
    },
    {
     "name": "stdout",
     "output_type": "stream",
     "text": [
      " 141  8.04e+02  2.97e+02  2.54e+03  8.79e-07  9.84e+06  9.84e+06  1.00e+00  1.80e+03  9.84e+06  9.84e+06  1.00e+00  1.01e+07\n"
     ]
    },
    {
     "name": "stdout",
     "output_type": "stream",
     "text": [
      " 142  8.04e+02  2.97e+02  2.54e+03  8.85e-07  9.83e+06  9.83e+06  1.00e+00  1.80e+03  9.83e+06  9.83e+06  1.00e+00  1.01e+07\n"
     ]
    },
    {
     "name": "stdout",
     "output_type": "stream",
     "text": [
      " 143  8.04e+02  2.97e+02  2.53e+03  9.46e-07  9.83e+06  9.83e+06  1.00e+00  1.80e+03  9.83e+06  9.83e+06  1.00e+00  1.01e+07\n"
     ]
    },
    {
     "name": "stdout",
     "output_type": "stream",
     "text": [
      " 144  8.04e+02  2.97e+02  2.53e+03  1.07e-06  9.82e+06  9.83e+06  1.00e+00  1.80e+03  9.82e+06  9.82e+06  1.00e+00  1.01e+07\n"
     ]
    },
    {
     "name": "stdout",
     "output_type": "stream",
     "text": [
      " 145  8.03e+02  2.97e+02  2.53e+03  1.10e-06  9.82e+06  9.82e+06  1.00e+00  1.80e+03  9.82e+06  9.82e+06  1.00e+00  1.01e+07\n"
     ]
    },
    {
     "name": "stdout",
     "output_type": "stream",
     "text": [
      " 146  8.03e+02  2.97e+02  2.53e+03  9.90e-07  9.82e+06  9.82e+06  1.00e+00  1.80e+03  9.82e+06  9.82e+06  1.00e+00  1.01e+07\n"
     ]
    },
    {
     "name": "stdout",
     "output_type": "stream",
     "text": [
      " 147  8.03e+02  2.97e+02  2.53e+03  9.03e-07  9.81e+06  9.81e+06  1.00e+00  1.80e+03  9.81e+06  9.81e+06  1.00e+00  1.01e+07\n"
     ]
    },
    {
     "name": "stdout",
     "output_type": "stream",
     "text": [
      " 148  8.02e+02  2.96e+02  2.53e+03  8.34e-07  9.81e+06  9.81e+06  1.00e+00  1.80e+03  9.81e+06  9.81e+06  1.00e+00  1.01e+07\n"
     ]
    },
    {
     "name": "stdout",
     "output_type": "stream",
     "text": [
      " 149  8.02e+02  2.96e+02  2.53e+03  8.67e-07  9.81e+06  9.81e+06  1.00e+00  1.80e+03  9.81e+06  9.81e+06  1.00e+00  1.01e+07\n"
     ]
    },
    {
     "name": "stdout",
     "output_type": "stream",
     "text": [
      " 150  8.02e+02  2.96e+02  2.53e+03  8.57e-07  9.80e+06  9.80e+06  1.00e+00  1.80e+03  9.80e+06  9.80e+06  1.00e+00  1.01e+07\n"
     ]
    },
    {
     "name": "stdout",
     "output_type": "stream",
     "text": [
      " 151  8.02e+02  2.96e+02  2.53e+03  9.87e-07  9.80e+06  9.80e+06  1.00e+00  1.80e+03  9.80e+06  9.80e+06  1.00e+00  1.01e+07\n"
     ]
    },
    {
     "name": "stdout",
     "output_type": "stream",
     "text": [
      " 152  8.01e+02  2.96e+02  2.53e+03  8.58e-07  9.80e+06  9.80e+06  1.00e+00  1.80e+03  9.80e+06  9.80e+06  1.00e+00  1.01e+07\n"
     ]
    },
    {
     "name": "stdout",
     "output_type": "stream",
     "text": [
      " 153  8.01e+02  2.96e+02  2.53e+03  8.23e-07  9.79e+06  9.80e+06  1.00e+00  1.80e+03  9.79e+06  9.79e+06  1.00e+00  1.01e+07\n"
     ]
    },
    {
     "name": "stdout",
     "output_type": "stream",
     "text": [
      " 154  8.01e+02  2.96e+02  2.53e+03  9.66e-07  9.79e+06  9.79e+06  1.00e+00  1.80e+03  9.79e+06  9.79e+06  1.00e+00  1.01e+07\n"
     ]
    },
    {
     "name": "stdout",
     "output_type": "stream",
     "text": [
      " 155  8.01e+02  2.96e+02  2.52e+03  1.01e-06  9.79e+06  9.79e+06  1.00e+00  1.80e+03  9.79e+06  9.79e+06  1.00e+00  1.01e+07\n"
     ]
    },
    {
     "name": "stdout",
     "output_type": "stream",
     "text": [
      " 156  8.01e+02  2.96e+02  2.52e+03  8.24e-07  9.79e+06  9.79e+06  1.00e+00  1.80e+03  9.79e+06  9.79e+06  1.00e+00  1.01e+07\n"
     ]
    },
    {
     "name": "stdout",
     "output_type": "stream",
     "text": [
      " 157  8.00e+02  2.96e+02  2.52e+03  1.04e-06  9.78e+06  9.79e+06  1.00e+00  1.80e+03  9.78e+06  9.78e+06  1.00e+00  1.01e+07\n"
     ]
    },
    {
     "name": "stdout",
     "output_type": "stream",
     "text": [
      " 158  8.00e+02  2.96e+02  2.52e+03  1.11e-06  9.78e+06  9.78e+06  1.00e+00  1.80e+03  9.78e+06  9.78e+06  1.00e+00  1.01e+07\n"
     ]
    },
    {
     "name": "stdout",
     "output_type": "stream",
     "text": [
      " 159  8.00e+02  2.96e+02  2.52e+03  8.16e-07  9.78e+06  9.78e+06  1.00e+00  1.80e+03  9.78e+06  9.78e+06  1.00e+00  1.01e+07\n"
     ]
    },
    {
     "name": "stdout",
     "output_type": "stream",
     "text": [
      " 160  8.00e+02  2.95e+02  2.52e+03  7.63e-07  9.78e+06  9.78e+06  1.00e+00  1.80e+03  9.78e+06  9.78e+06  1.00e+00  1.01e+07\n"
     ]
    },
    {
     "name": "stdout",
     "output_type": "stream",
     "text": [
      " 161  7.99e+02  2.95e+02  2.52e+03  8.85e-07  9.77e+06  9.78e+06  1.00e+00  1.80e+03  9.77e+06  9.77e+06  1.00e+00  1.01e+07\n"
     ]
    },
    {
     "name": "stdout",
     "output_type": "stream",
     "text": [
      " 162  7.99e+02  2.95e+02  2.52e+03  9.07e-07  9.77e+06  9.77e+06  1.00e+00  1.80e+03  9.77e+06  9.77e+06  1.00e+00  1.01e+07\n"
     ]
    },
    {
     "name": "stdout",
     "output_type": "stream",
     "text": [
      " 163  7.99e+02  2.95e+02  2.52e+03  9.50e-07  9.77e+06  9.77e+06  1.00e+00  1.80e+03  9.77e+06  9.77e+06  1.00e+00  1.01e+07\n"
     ]
    },
    {
     "name": "stdout",
     "output_type": "stream",
     "text": [
      " 164  7.99e+02  2.95e+02  2.52e+03  8.94e-07  9.77e+06  9.77e+06  1.00e+00  1.80e+03  9.77e+06  9.77e+06  1.00e+00  1.01e+07\n"
     ]
    },
    {
     "name": "stdout",
     "output_type": "stream",
     "text": [
      " 165  7.99e+02  2.95e+02  2.52e+03  1.03e-06  9.77e+06  9.77e+06  1.00e+00  1.80e+03  9.77e+06  9.77e+06  1.00e+00  1.01e+07\n"
     ]
    },
    {
     "name": "stdout",
     "output_type": "stream",
     "text": [
      " 166  7.98e+02  2.95e+02  2.52e+03  1.02e-06  9.76e+06  9.77e+06  1.00e+00  1.80e+03  9.76e+06  9.76e+06  1.00e+00  1.01e+07\n"
     ]
    },
    {
     "name": "stdout",
     "output_type": "stream",
     "text": [
      " 167  7.98e+02  2.95e+02  2.52e+03  9.82e-07  9.76e+06  9.76e+06  1.00e+00  1.80e+03  9.76e+06  9.76e+06  1.00e+00  1.01e+07\n"
     ]
    },
    {
     "name": "stdout",
     "output_type": "stream",
     "text": [
      " 168  7.98e+02  2.95e+02  2.52e+03  1.05e-06  9.76e+06  9.76e+06  1.00e+00  1.80e+03  9.76e+06  9.76e+06  1.00e+00  1.01e+07\n"
     ]
    },
    {
     "name": "stdout",
     "output_type": "stream",
     "text": [
      " 169  7.98e+02  2.95e+02  2.51e+03  8.78e-07  9.76e+06  9.76e+06  1.00e+00  1.80e+03  9.76e+06  9.76e+06  1.00e+00  1.01e+07\n"
     ]
    },
    {
     "name": "stdout",
     "output_type": "stream",
     "text": [
      " 170  7.98e+02  2.95e+02  2.51e+03  1.00e-06  9.76e+06  9.76e+06  1.00e+00  1.80e+03  9.76e+06  9.76e+06  1.00e+00  1.01e+07\n"
     ]
    },
    {
     "name": "stdout",
     "output_type": "stream",
     "text": [
      " 171  7.97e+02  2.95e+02  2.51e+03  9.27e-07  9.76e+06  9.76e+06  1.00e+00  1.80e+03  9.76e+06  9.76e+06  1.00e+00  1.01e+07\n"
     ]
    },
    {
     "name": "stdout",
     "output_type": "stream",
     "text": [
      " 172  7.97e+02  2.95e+02  2.51e+03  1.01e-06  9.76e+06  9.76e+06  1.00e+00  1.80e+03  9.76e+06  9.76e+06  1.00e+00  1.01e+07\n"
     ]
    },
    {
     "name": "stdout",
     "output_type": "stream",
     "text": [
      " 173  7.97e+02  2.95e+02  2.51e+03  9.25e-07  9.75e+06  9.75e+06  1.00e+00  1.80e+03  9.75e+06  9.75e+06  1.00e+00  1.01e+07\n"
     ]
    },
    {
     "name": "stdout",
     "output_type": "stream",
     "text": [
      " 174  7.97e+02  2.95e+02  2.51e+03  8.63e-07  9.75e+06  9.75e+06  1.00e+00  1.80e+03  9.75e+06  9.75e+06  1.00e+00  1.01e+07\n"
     ]
    },
    {
     "name": "stdout",
     "output_type": "stream",
     "text": [
      " 175  7.97e+02  2.95e+02  2.51e+03  9.87e-07  9.75e+06  9.75e+06  1.00e+00  1.80e+03  9.75e+06  9.75e+06  1.00e+00  1.01e+07\n"
     ]
    },
    {
     "name": "stdout",
     "output_type": "stream",
     "text": [
      " 176  7.97e+02  2.95e+02  2.51e+03  8.52e-07  9.75e+06  9.75e+06  1.00e+00  1.80e+03  9.75e+06  9.75e+06  1.00e+00  1.01e+07\n"
     ]
    },
    {
     "name": "stdout",
     "output_type": "stream",
     "text": [
      " 177  7.96e+02  2.95e+02  2.51e+03  9.56e-07  9.75e+06  9.75e+06  1.00e+00  1.80e+03  9.75e+06  9.75e+06  1.00e+00  1.01e+07\n"
     ]
    },
    {
     "name": "stdout",
     "output_type": "stream",
     "text": [
      " 178  7.96e+02  2.95e+02  2.51e+03  9.94e-07  9.75e+06  9.75e+06  1.00e+00  1.80e+03  9.75e+06  9.75e+06  1.00e+00  1.01e+07\n"
     ]
    },
    {
     "name": "stdout",
     "output_type": "stream",
     "text": [
      " 179  7.96e+02  2.94e+02  2.51e+03  8.72e-07  9.75e+06  9.75e+06  1.00e+00  1.80e+03  9.75e+06  9.75e+06  1.00e+00  1.01e+07\n"
     ]
    },
    {
     "name": "stdout",
     "output_type": "stream",
     "text": [
      " 180  7.96e+02  2.94e+02  2.51e+03  9.01e-07  9.74e+06  9.75e+06  1.00e+00  1.80e+03  9.74e+06  9.74e+06  1.00e+00  1.01e+07\n"
     ]
    },
    {
     "name": "stdout",
     "output_type": "stream",
     "text": [
      " 181  7.96e+02  2.94e+02  2.51e+03  8.77e-07  9.74e+06  9.74e+06  1.00e+00  1.80e+03  9.74e+06  9.74e+06  1.00e+00  1.01e+07\n"
     ]
    },
    {
     "name": "stdout",
     "output_type": "stream",
     "text": [
      " 182  7.96e+02  2.94e+02  2.51e+03  8.87e-07  9.74e+06  9.74e+06  1.00e+00  1.80e+03  9.74e+06  9.74e+06  1.00e+00  1.01e+07\n"
     ]
    },
    {
     "name": "stdout",
     "output_type": "stream",
     "text": [
      " 183  7.95e+02  2.94e+02  2.51e+03  9.89e-07  9.74e+06  9.74e+06  1.00e+00  1.80e+03  9.74e+06  9.74e+06  1.00e+00  1.01e+07\n"
     ]
    },
    {
     "name": "stdout",
     "output_type": "stream",
     "text": [
      " 184  7.95e+02  2.94e+02  2.50e+03  9.74e-07  9.74e+06  9.74e+06  1.00e+00  1.80e+03  9.74e+06  9.74e+06  1.00e+00  1.01e+07\n"
     ]
    },
    {
     "name": "stdout",
     "output_type": "stream",
     "text": [
      " 185  7.95e+02  2.94e+02  2.50e+03  9.78e-07  9.74e+06  9.74e+06  1.00e+00  1.80e+03  9.74e+06  9.74e+06  1.00e+00  1.01e+07\n"
     ]
    },
    {
     "name": "stdout",
     "output_type": "stream",
     "text": [
      " 186  7.95e+02  2.94e+02  2.50e+03  1.08e-06  9.74e+06  9.74e+06  1.00e+00  1.80e+03  9.74e+06  9.74e+06  1.00e+00  1.01e+07\n"
     ]
    },
    {
     "name": "stdout",
     "output_type": "stream",
     "text": [
      " 187  7.95e+02  2.94e+02  2.50e+03  8.55e-07  9.74e+06  9.74e+06  1.00e+00  1.80e+03  9.74e+06  9.74e+06  1.00e+00  1.01e+07\n"
     ]
    },
    {
     "name": "stdout",
     "output_type": "stream",
     "text": [
      " 188  7.95e+02  2.94e+02  2.50e+03  1.06e-06  9.74e+06  9.74e+06  1.00e+00  1.80e+03  9.74e+06  9.74e+06  1.00e+00  1.01e+07\n"
     ]
    },
    {
     "name": "stdout",
     "output_type": "stream",
     "text": [
      " 189  7.95e+02  2.94e+02  2.50e+03  7.52e-07  9.73e+06  9.74e+06  1.00e+00  1.80e+03  9.73e+06  9.73e+06  1.00e+00  1.01e+07\n"
     ]
    },
    {
     "name": "stdout",
     "output_type": "stream",
     "text": [
      " 190  7.94e+02  2.94e+02  2.50e+03  8.64e-07  9.73e+06  9.73e+06  1.00e+00  1.80e+03  9.73e+06  9.73e+06  1.00e+00  1.01e+07\n"
     ]
    },
    {
     "name": "stdout",
     "output_type": "stream",
     "text": [
      " 191  7.94e+02  2.94e+02  2.50e+03  9.40e-07  9.73e+06  9.73e+06  1.00e+00  1.80e+03  9.73e+06  9.73e+06  1.00e+00  1.01e+07\n"
     ]
    },
    {
     "name": "stdout",
     "output_type": "stream",
     "text": [
      " 192  7.94e+02  2.94e+02  2.50e+03  9.06e-07  9.73e+06  9.73e+06  1.00e+00  1.80e+03  9.73e+06  9.73e+06  1.00e+00  1.01e+07\n"
     ]
    },
    {
     "name": "stdout",
     "output_type": "stream",
     "text": [
      " 193  7.94e+02  2.94e+02  2.50e+03  8.91e-07  9.73e+06  9.73e+06  1.00e+00  1.80e+03  9.73e+06  9.73e+06  1.00e+00  1.01e+07\n"
     ]
    },
    {
     "name": "stdout",
     "output_type": "stream",
     "text": [
      " 194  7.94e+02  2.94e+02  2.50e+03  9.42e-07  9.73e+06  9.73e+06  1.00e+00  1.80e+03  9.73e+06  9.73e+06  1.00e+00  1.01e+07\n"
     ]
    },
    {
     "name": "stdout",
     "output_type": "stream",
     "text": [
      " 195  7.94e+02  2.94e+02  2.50e+03  9.83e-07  9.73e+06  9.73e+06  1.00e+00  1.80e+03  9.73e+06  9.73e+06  1.00e+00  1.01e+07\n"
     ]
    },
    {
     "name": "stdout",
     "output_type": "stream",
     "text": [
      " 196  7.94e+02  2.94e+02  2.50e+03  1.09e-06  9.73e+06  9.73e+06  1.00e+00  1.80e+03  9.73e+06  9.73e+06  1.00e+00  1.01e+07\n"
     ]
    },
    {
     "name": "stdout",
     "output_type": "stream",
     "text": [
      " 197  7.94e+02  2.94e+02  2.50e+03  9.20e-07  9.73e+06  9.73e+06  1.00e+00  1.80e+03  9.73e+06  9.73e+06  1.00e+00  1.01e+07\n"
     ]
    },
    {
     "name": "stdout",
     "output_type": "stream",
     "text": [
      " 198  7.93e+02  2.94e+02  2.50e+03  7.95e-07  9.73e+06  9.73e+06  1.00e+00  1.80e+03  9.73e+06  9.73e+06  1.00e+00  1.01e+07\n"
     ]
    },
    {
     "name": "stdout",
     "output_type": "stream",
     "text": [
      " 199  7.93e+02  2.94e+02  2.50e+03  8.27e-07  9.72e+06  9.73e+06  1.00e+00  1.80e+03  9.72e+06  9.72e+06  1.00e+00  1.01e+07\n",
      "----------------------------------------------------------------------------------------------------------------------------\n",
      "ConvBPDNDictLearn solve time: 456.68s\n"
     ]
    }
   ],
   "source": [
    "d = cbpdndl.ConvBPDNDictLearn(D0, sh, lmbda, opt)\n",
    "D1 = d.solve()\n",
    "print(\"ConvBPDNDictLearn solve time: %.2fs\" % d.timer.elapsed('solve'))"
   ]
  },
  {
   "cell_type": "markdown",
   "metadata": {},
   "source": [
    "Display initial and final dictionaries."
   ]
  },
  {
   "cell_type": "code",
   "execution_count": 7,
   "metadata": {
    "collapsed": false
   },
   "outputs": [
    {
     "data": {
      "image/png": "[encoded data removed]",
      "text/plain": [
       "<matplotlib.figure.Figure at 0x7fe155365be0>"
      ]
     },
     "metadata": {},
     "output_type": "display_data"
    }
   ],
   "source": [
    "D1 = D1.squeeze()\n",
    "fig = plot.figure(figsize=(14, 7))\n",
    "plot.subplot(1, 2, 1)\n",
    "plot.imview(util.tiledict(D0), fgrf=fig, title='D0')\n",
    "plot.subplot(1, 2, 2)\n",
    "plot.imview(util.tiledict(D1, dsz), fgrf=fig, title='D1')\n",
    "fig.show()"
   ]
  },
  {
   "cell_type": "markdown",
   "metadata": {},
   "source": [
    "Get iterations statistics from solver object and plot functional value, residuals, and automatically adjusted gradient step parameters against the iteration number."
   ]
  },
  {
   "cell_type": "code",
   "execution_count": 8,
   "metadata": {
    "collapsed": false
   },
   "outputs": [
    {
     "data": {
      "image/png": "[encoded data removed]",
      "text/plain": [
       "<matplotlib.figure.Figure at 0x7fe155300160>"
      ]
     },
     "metadata": {},
     "output_type": "display_data"
    }
   ],
   "source": [
    "its = d.getitstat()\n",
    "fig = plot.figure(figsize=(20, 5))\n",
    "plot.subplot(1, 3, 1)\n",
    "plot.plot(its.ObjFun, fgrf=fig, xlbl='Iterations', ylbl='Functional')\n",
    "plot.subplot(1, 3, 2)\n",
    "plot.plot(np.vstack((its.X_Rsdl, its.D_Rsdl)).T,\n",
    "          fgrf=fig, ptyp='semilogy', xlbl='Iterations', ylbl='Residual',\n",
    "          lgnd=['X', 'D'])\n",
    "plot.subplot(1, 3, 3)\n",
    "plot.plot(np.vstack((its.X_L, its.D_L)).T, fgrf=fig, xlbl='Iterations',\n",
    "          ylbl='Inverse of Gradient Step Parameter', ptyp='semilogy',\n",
    "          lgnd=['$\\L_X$', '$\\L_D$'])\n",
    "fig.show()"
   ]
  }
 ],
 "metadata": {},
 "nbformat": 4,
 "nbformat_minor": 2
}
