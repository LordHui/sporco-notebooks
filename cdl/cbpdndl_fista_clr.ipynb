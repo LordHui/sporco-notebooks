{
 "cells": [
  {
   "cell_type": "markdown",
   "metadata": {},
   "source": [
    "Convolutional Dictionary Learning\n",
    "=================================\n",
    "\n",
    "This example demonstrates the use of [cbpdndl.ConvBPDNDictLearn](http://sporco.rtfd.org/en/latest/modules/sporco.dictlrn.cbpdndl.html#sporco.dictlrn.cbpdndl.ConvBPDNDictLearn) for learning a convolutional dictionary from a set of colour training images [[34]](http://sporco.rtfd.org/en/latest/zreferences.html#wohlberg-2016-convolutional), using FISTA solvers for both sparse coding [[9]](http://sporco.rtfd.org/en/latest/zreferences.html#chalasani-2013-fast) [[36]](http://sporco.rtfd.org/en/latest/zreferences.html#wohlberg-2016-efficient) and dictionary update steps [[18]](http://sporco.rtfd.org/en/latest/zreferences.html#garcia-2018-convolutional1)."
   ]
  },
  {
   "cell_type": "code",
   "execution_count": 1,
   "metadata": {
    "collapsed": false
   },
   "outputs": [],
   "source": [
    "from __future__ import print_function\n",
    "from builtins import input\n",
    "from builtins import range\n",
    "\n",
    "import pyfftw   # See https://github.com/pyFFTW/pyFFTW/issues/40\n",
    "import numpy as np\n",
    "\n",
    "from sporco.dictlrn import cbpdndl\n",
    "from sporco import util\n",
    "from sporco import plot\n",
    "plot.config_notebook_plotting()"
   ]
  },
  {
   "cell_type": "markdown",
   "metadata": {},
   "source": [
    "Load training images."
   ]
  },
  {
   "cell_type": "code",
   "execution_count": 2,
   "metadata": {
    "collapsed": false
   },
   "outputs": [],
   "source": [
    "exim = util.ExampleImages(scaled=True, zoom=0.5)\n",
    "img1 = exim.image('barbara.png', idxexp=np.s_[10:522, 100:612])\n",
    "img2 = exim.image('kodim23.png', idxexp=np.s_[:, 60:572])\n",
    "img3 = exim.image('monarch.png', idxexp=np.s_[:, 160:672])\n",
    "S = np.stack((img1, img2, img3), axis=3)"
   ]
  },
  {
   "cell_type": "markdown",
   "metadata": {},
   "source": [
    "Highpass filter training images."
   ]
  },
  {
   "cell_type": "code",
   "execution_count": 3,
   "metadata": {
    "collapsed": false
   },
   "outputs": [],
   "source": [
    "npd = 16\n",
    "fltlmbd = 5\n",
    "sl, sh = util.tikhonov_filter(S, fltlmbd, npd)"
   ]
  },
  {
   "cell_type": "markdown",
   "metadata": {},
   "source": [
    "Construct initial dictionary."
   ]
  },
  {
   "cell_type": "code",
   "execution_count": 4,
   "metadata": {
    "collapsed": false
   },
   "outputs": [],
   "source": [
    "np.random.seed(12345)\n",
    "D0 = np.random.randn(16, 16, 3, 96)"
   ]
  },
  {
   "cell_type": "markdown",
   "metadata": {},
   "source": [
    "Set regularization parameter and options for dictionary learning solver. Note the multi-scale dictionary filter sizes."
   ]
  },
  {
   "cell_type": "code",
   "execution_count": 5,
   "metadata": {
    "collapsed": false
   },
   "outputs": [],
   "source": [
    "lmbda = 0.2\n",
    "L_sc = 360.0\n",
    "L_du = 50.0\n",
    "dsz = ((8, 8, 3, 32), (12, 12, 3, 32), (16, 16, 3, 32))\n",
    "opt = cbpdndl.ConvBPDNDictLearn.Options({\n",
    "                'Verbose': True, 'MaxMainIter': 200, 'DictSize': dsz,\n",
    "                'CBPDN': {'BackTrack': {'Enabled': True }, 'L': L_sc},\n",
    "                'CCMOD': {'BackTrack': {'Enabled': True }, 'L': L_du}},\n",
    "                xmethod='fista', dmethod='fista')"
   ]
  },
  {
   "cell_type": "markdown",
   "metadata": {},
   "source": [
    "Create solver object and solve."
   ]
  },
  {
   "cell_type": "code",
   "execution_count": 6,
   "metadata": {
    "collapsed": false
   },
   "outputs": [
    {
     "name": "stdout",
     "output_type": "stream",
     "text": [
      "Itn   Fnc       DFid      ℓ1        Cnstr     F_X       Q_X       It_X  L_X       F_D       Q_D       It_D  L_D     \n",
      "--------------------------------------------------------------------------------------------------------------------\n"
     ]
    },
    {
     "name": "stdout",
     "output_type": "stream",
     "text": [
      "   0  1.89e+03  1.85e+03  1.62e+02  2.01e-06  6.14e+07  6.18e+07     1  3.60e+02  6.13e+07  6.13e+07     1  5.00e+01\n"
     ]
    },
    {
     "name": "stdout",
     "output_type": "stream",
     "text": [
      "   1  1.85e+03  1.78e+03  3.55e+02  2.05e-06  5.90e+07  5.95e+07     1  3.60e+02  5.83e+07  5.86e+07     1  5.00e+01\n"
     ]
    },
    {
     "name": "stdout",
     "output_type": "stream",
     "text": [
      "   2  1.77e+03  1.63e+03  6.81e+02  2.27e-06  5.42e+07  5.49e+07     1  3.60e+02  5.21e+07  5.29e+07     1  5.00e+01\n"
     ]
    },
    {
     "name": "stdout",
     "output_type": "stream",
     "text": [
      "   3  1.60e+03  1.36e+03  1.21e+03  2.07e-06  4.51e+07  4.61e+07     1  3.60e+02  4.19e+07  4.28e+07     1  5.00e+01\n"
     ]
    },
    {
     "name": "stdout",
     "output_type": "stream",
     "text": [
      "   4  1.42e+03  1.06e+03  1.77e+03  2.88e-06  3.52e+07  3.58e+07     1  3.60e+02  3.31e+07  3.35e+07     1  5.00e+01\n"
     ]
    },
    {
     "name": "stdout",
     "output_type": "stream",
     "text": [
      "   5  1.30e+03  8.74e+02  2.12e+03  2.30e-06  2.89e+07  2.93e+07     1  3.60e+02  2.76e+07  2.79e+07     1  5.00e+01\n"
     ]
    },
    {
     "name": "stdout",
     "output_type": "stream",
     "text": [
      "   6  1.22e+03  7.56e+02  2.32e+03  2.01e-06  2.50e+07  2.53e+07     1  3.60e+02  2.41e+07  2.43e+07     1  5.00e+01\n"
     ]
    },
    {
     "name": "stdout",
     "output_type": "stream",
     "text": [
      "   7  1.16e+03  6.75e+02  2.44e+03  2.09e-06  2.23e+07  2.26e+07     1  3.60e+02  2.17e+07  2.18e+07     1  5.00e+01\n"
     ]
    },
    {
     "name": "stdout",
     "output_type": "stream",
     "text": [
      "   8  1.12e+03  6.12e+02  2.52e+03  2.08e-06  2.03e+07  2.05e+07     1  3.60e+02  1.98e+07  1.99e+07     1  5.00e+01\n"
     ]
    },
    {
     "name": "stdout",
     "output_type": "stream",
     "text": [
      "   9  1.08e+03  5.62e+02  2.59e+03  2.37e-06  1.86e+07  1.88e+07     1  3.60e+02  1.83e+07  1.83e+07     1  5.00e+01\n"
     ]
    },
    {
     "name": "stdout",
     "output_type": "stream",
     "text": [
      "  10  1.05e+03  5.20e+02  2.65e+03  2.01e-06  1.72e+07  1.74e+07     1  3.60e+02  1.70e+07  1.70e+07     1  5.00e+01\n"
     ]
    },
    {
     "name": "stdout",
     "output_type": "stream",
     "text": [
      "  11  1.03e+03  4.87e+02  2.70e+03  2.14e-06  1.61e+07  1.62e+07     1  3.60e+02  1.60e+07  1.60e+07     1  5.00e+01\n"
     ]
    },
    {
     "name": "stdout",
     "output_type": "stream",
     "text": [
      "  12  1.01e+03  4.60e+02  2.73e+03  2.02e-06  1.52e+07  1.53e+07     1  3.60e+02  1.51e+07  1.51e+07     1  5.00e+01\n"
     ]
    },
    {
     "name": "stdout",
     "output_type": "stream",
     "text": [
      "  13  9.88e+02  4.37e+02  2.75e+03  2.43e-06  1.45e+07  1.46e+07     1  3.60e+02  1.44e+07  1.44e+07     1  5.00e+01\n"
     ]
    },
    {
     "name": "stdout",
     "output_type": "stream",
     "text": [
      "  14  9.72e+02  4.18e+02  2.77e+03  2.29e-06  1.38e+07  1.39e+07     1  3.60e+02  1.38e+07  1.38e+07     1  5.00e+01\n"
     ]
    },
    {
     "name": "stdout",
     "output_type": "stream",
     "text": [
      "  15  9.57e+02  4.01e+02  2.78e+03  2.30e-06  1.33e+07  1.34e+07     1  3.60e+02  1.32e+07  1.32e+07     1  5.00e+01\n"
     ]
    },
    {
     "name": "stdout",
     "output_type": "stream",
     "text": [
      "  16  9.43e+02  3.86e+02  2.78e+03  2.17e-06  1.28e+07  1.29e+07     1  3.60e+02  1.27e+07  1.27e+07     1  5.00e+01\n"
     ]
    },
    {
     "name": "stdout",
     "output_type": "stream",
     "text": [
      "  17  9.30e+02  3.73e+02  2.79e+03  2.25e-06  1.23e+07  1.24e+07     1  3.60e+02  1.23e+07  1.23e+07     1  5.00e+01\n"
     ]
    },
    {
     "name": "stdout",
     "output_type": "stream",
     "text": [
      "  18  9.17e+02  3.60e+02  2.79e+03  2.08e-06  1.19e+07  1.20e+07     1  3.60e+02  1.19e+07  1.19e+07     1  5.00e+01\n"
     ]
    },
    {
     "name": "stdout",
     "output_type": "stream",
     "text": [
      "  19  9.06e+02  3.49e+02  2.79e+03  2.08e-06  1.15e+07  1.16e+07     1  3.60e+02  1.15e+07  1.15e+07     1  5.00e+01\n"
     ]
    },
    {
     "name": "stdout",
     "output_type": "stream",
     "text": [
      "  20  8.95e+02  3.38e+02  2.78e+03  2.26e-06  1.12e+07  1.13e+07     1  3.60e+02  1.12e+07  1.12e+07     1  5.00e+01\n"
     ]
    },
    {
     "name": "stdout",
     "output_type": "stream",
     "text": [
      "  21  8.85e+02  3.29e+02  2.78e+03  1.98e-06  1.09e+07  1.10e+07     1  3.60e+02  1.09e+07  1.09e+07     1  5.00e+01\n"
     ]
    },
    {
     "name": "stdout",
     "output_type": "stream",
     "text": [
      "  22  8.75e+02  3.20e+02  2.78e+03  2.12e-06  1.06e+07  1.07e+07     1  3.60e+02  1.06e+07  1.06e+07     1  5.00e+01\n"
     ]
    },
    {
     "name": "stdout",
     "output_type": "stream",
     "text": [
      "  23  8.66e+02  3.12e+02  2.77e+03  2.11e-06  1.03e+07  1.04e+07     1  3.60e+02  1.03e+07  1.03e+07     1  5.00e+01\n"
     ]
    },
    {
     "name": "stdout",
     "output_type": "stream",
     "text": [
      "  24  8.58e+02  3.05e+02  2.76e+03  2.02e-06  1.01e+07  1.02e+07     1  3.60e+02  1.01e+07  1.01e+07     1  5.00e+01\n"
     ]
    },
    {
     "name": "stdout",
     "output_type": "stream",
     "text": [
      "  25  8.50e+02  2.99e+02  2.76e+03  1.92e-06  9.89e+06  9.94e+06     1  3.60e+02  9.88e+06  9.88e+06     1  5.00e+01\n"
     ]
    },
    {
     "name": "stdout",
     "output_type": "stream",
     "text": [
      "  26  8.43e+02  2.93e+02  2.75e+03  2.20e-06  9.70e+06  9.75e+06     1  3.60e+02  9.69e+06  9.69e+06     1  5.00e+01\n"
     ]
    },
    {
     "name": "stdout",
     "output_type": "stream",
     "text": [
      "  27  8.36e+02  2.88e+02  2.74e+03  1.85e-06  9.53e+06  9.58e+06     1  3.60e+02  9.52e+06  9.52e+06     1  5.00e+01\n"
     ]
    },
    {
     "name": "stdout",
     "output_type": "stream",
     "text": [
      "  28  8.30e+02  2.83e+02  2.73e+03  2.13e-06  9.37e+06  9.43e+06     1  3.60e+02  9.37e+06  9.37e+06     1  5.00e+01\n"
     ]
    },
    {
     "name": "stdout",
     "output_type": "stream",
     "text": [
      "  29  8.23e+02  2.79e+02  2.72e+03  1.84e-06  9.24e+06  9.29e+06     1  3.60e+02  9.23e+06  9.23e+06     1  5.00e+01\n"
     ]
    },
    {
     "name": "stdout",
     "output_type": "stream",
     "text": [
      "  30  8.18e+02  2.75e+02  2.71e+03  2.31e-06  9.11e+06  9.16e+06     1  3.60e+02  9.11e+06  9.11e+06     1  5.00e+01\n"
     ]
    },
    {
     "name": "stdout",
     "output_type": "stream",
     "text": [
      "  31  8.12e+02  2.72e+02  2.70e+03  2.30e-06  9.00e+06  9.04e+06     1  3.60e+02  9.00e+06  9.00e+06     1  5.00e+01\n"
     ]
    },
    {
     "name": "stdout",
     "output_type": "stream",
     "text": [
      "  32  8.07e+02  2.69e+02  2.69e+03  2.32e-06  8.90e+06  8.94e+06     1  3.60e+02  8.89e+06  8.89e+06     1  5.00e+01\n"
     ]
    },
    {
     "name": "stdout",
     "output_type": "stream",
     "text": [
      "  33  8.02e+02  2.66e+02  2.68e+03  2.24e-06  8.80e+06  8.84e+06     1  3.60e+02  8.80e+06  8.80e+06     1  5.00e+01\n"
     ]
    },
    {
     "name": "stdout",
     "output_type": "stream",
     "text": [
      "  34  7.97e+02  2.63e+02  2.67e+03  2.66e-06  8.72e+06  8.76e+06     1  3.60e+02  8.71e+06  8.71e+06     1  5.00e+01\n"
     ]
    },
    {
     "name": "stdout",
     "output_type": "stream",
     "text": [
      "  35  7.93e+02  2.61e+02  2.66e+03  2.32e-06  8.64e+06  8.67e+06     1  3.60e+02  8.63e+06  8.63e+06     1  5.00e+01\n"
     ]
    },
    {
     "name": "stdout",
     "output_type": "stream",
     "text": [
      "  36  7.89e+02  2.59e+02  2.65e+03  2.22e-06  8.56e+06  8.60e+06     1  3.60e+02  8.56e+06  8.56e+06     1  5.00e+01\n"
     ]
    },
    {
     "name": "stdout",
     "output_type": "stream",
     "text": [
      "  37  7.85e+02  2.57e+02  2.64e+03  2.11e-06  8.49e+06  8.53e+06     1  3.60e+02  8.49e+06  8.49e+06     1  5.00e+01\n"
     ]
    },
    {
     "name": "stdout",
     "output_type": "stream",
     "text": [
      "  38  7.81e+02  2.55e+02  2.63e+03  2.06e-06  8.43e+06  8.46e+06     1  3.60e+02  8.42e+06  8.42e+06     1  5.00e+01\n"
     ]
    },
    {
     "name": "stdout",
     "output_type": "stream",
     "text": [
      "  39  7.77e+02  2.53e+02  2.62e+03  2.21e-06  8.36e+06  8.39e+06     1  3.60e+02  8.36e+06  8.36e+06     1  5.00e+01\n"
     ]
    },
    {
     "name": "stdout",
     "output_type": "stream",
     "text": [
      "  40  7.73e+02  2.51e+02  2.61e+03  1.80e-06  8.31e+06  8.34e+06     1  3.60e+02  8.30e+06  8.30e+06     1  5.00e+01\n"
     ]
    },
    {
     "name": "stdout",
     "output_type": "stream",
     "text": [
      "  41  7.70e+02  2.49e+02  2.60e+03  2.11e-06  8.25e+06  8.28e+06     1  3.60e+02  8.25e+06  8.25e+06     1  5.00e+01\n"
     ]
    },
    {
     "name": "stdout",
     "output_type": "stream",
     "text": [
      "  42  7.67e+02  2.48e+02  2.60e+03  2.08e-06  8.20e+06  8.23e+06     1  3.60e+02  8.20e+06  8.20e+06     1  5.00e+01\n"
     ]
    },
    {
     "name": "stdout",
     "output_type": "stream",
     "text": [
      "  43  7.64e+02  2.46e+02  2.59e+03  2.14e-06  8.15e+06  8.18e+06     1  3.60e+02  8.15e+06  8.15e+06     1  5.00e+01\n"
     ]
    },
    {
     "name": "stdout",
     "output_type": "stream",
     "text": [
      "  44  7.61e+02  2.45e+02  2.58e+03  2.18e-06  8.10e+06  8.13e+06     1  3.60e+02  8.10e+06  8.10e+06     1  5.00e+01\n"
     ]
    },
    {
     "name": "stdout",
     "output_type": "stream",
     "text": [
      "  45  7.58e+02  2.43e+02  2.57e+03  2.74e-06  8.06e+06  8.08e+06     1  3.60e+02  8.06e+06  8.06e+06     1  5.00e+01\n"
     ]
    },
    {
     "name": "stdout",
     "output_type": "stream",
     "text": [
      "  46  7.55e+02  2.42e+02  2.57e+03  2.40e-06  8.02e+06  8.04e+06     1  3.60e+02  8.02e+06  8.02e+06     1  5.00e+01\n"
     ]
    },
    {
     "name": "stdout",
     "output_type": "stream",
     "text": [
      "  47  7.53e+02  2.41e+02  2.56e+03  2.13e-06  7.98e+06  8.00e+06     1  3.60e+02  7.98e+06  7.98e+06     1  5.00e+01\n"
     ]
    },
    {
     "name": "stdout",
     "output_type": "stream",
     "text": [
      "  48  7.50e+02  2.40e+02  2.55e+03  1.93e-06  7.94e+06  7.96e+06     1  3.60e+02  7.94e+06  7.94e+06     1  5.00e+01\n"
     ]
    },
    {
     "name": "stdout",
     "output_type": "stream",
     "text": [
      "  49  7.48e+02  2.39e+02  2.54e+03  2.42e-06  7.90e+06  7.92e+06     1  3.60e+02  7.90e+06  7.90e+06     1  5.00e+01\n"
     ]
    },
    {
     "name": "stdout",
     "output_type": "stream",
     "text": [
      "  50  7.45e+02  2.38e+02  2.54e+03  2.00e-06  7.87e+06  7.89e+06     1  3.60e+02  7.87e+06  7.87e+06     1  5.00e+01\n"
     ]
    },
    {
     "name": "stdout",
     "output_type": "stream",
     "text": [
      "  51  7.43e+02  2.37e+02  2.53e+03  1.98e-06  7.84e+06  7.85e+06     1  3.60e+02  7.84e+06  7.84e+06     1  5.00e+01\n"
     ]
    },
    {
     "name": "stdout",
     "output_type": "stream",
     "text": [
      "  52  7.41e+02  2.36e+02  2.53e+03  2.16e-06  7.81e+06  7.82e+06     1  3.60e+02  7.80e+06  7.80e+06     1  5.00e+01\n"
     ]
    },
    {
     "name": "stdout",
     "output_type": "stream",
     "text": [
      "  53  7.39e+02  2.35e+02  2.52e+03  2.03e-06  7.77e+06  7.79e+06     1  3.60e+02  7.77e+06  7.77e+06     1  5.00e+01\n"
     ]
    },
    {
     "name": "stdout",
     "output_type": "stream",
     "text": [
      "  54  7.37e+02  2.34e+02  2.51e+03  2.51e-06  7.75e+06  7.76e+06     1  3.60e+02  7.74e+06  7.74e+06     1  5.00e+01\n"
     ]
    },
    {
     "name": "stdout",
     "output_type": "stream",
     "text": [
      "  55  7.35e+02  2.33e+02  2.51e+03  2.41e-06  7.72e+06  7.73e+06     1  3.60e+02  7.72e+06  7.72e+06     1  5.00e+01\n"
     ]
    },
    {
     "name": "stdout",
     "output_type": "stream",
     "text": [
      "  56  7.33e+02  2.32e+02  2.50e+03  2.17e-06  7.69e+06  7.71e+06     1  3.60e+02  7.69e+06  7.69e+06     1  5.00e+01\n"
     ]
    },
    {
     "name": "stdout",
     "output_type": "stream",
     "text": [
      "  57  7.31e+02  2.32e+02  2.50e+03  2.17e-06  7.67e+06  7.68e+06     1  3.60e+02  7.66e+06  7.66e+06     1  5.00e+01\n"
     ]
    },
    {
     "name": "stdout",
     "output_type": "stream",
     "text": [
      "  58  7.29e+02  2.31e+02  2.49e+03  2.11e-06  7.64e+06  7.65e+06     1  3.60e+02  7.64e+06  7.64e+06     1  5.00e+01\n"
     ]
    },
    {
     "name": "stdout",
     "output_type": "stream",
     "text": [
      "  59  7.27e+02  2.30e+02  2.49e+03  2.05e-06  7.62e+06  7.63e+06     1  3.60e+02  7.62e+06  7.62e+06     1  5.00e+01\n"
     ]
    },
    {
     "name": "stdout",
     "output_type": "stream",
     "text": [
      "  60  7.26e+02  2.29e+02  2.48e+03  2.08e-06  7.59e+06  7.61e+06     1  3.60e+02  7.59e+06  7.59e+06     1  5.00e+01\n"
     ]
    },
    {
     "name": "stdout",
     "output_type": "stream",
     "text": [
      "  61  7.24e+02  2.29e+02  2.48e+03  2.48e-06  7.57e+06  7.58e+06     1  3.60e+02  7.57e+06  7.57e+06     1  5.00e+01\n"
     ]
    },
    {
     "name": "stdout",
     "output_type": "stream",
     "text": [
      "  62  7.22e+02  2.28e+02  2.47e+03  2.29e-06  7.55e+06  7.56e+06     1  3.60e+02  7.55e+06  7.55e+06     1  5.00e+01\n"
     ]
    },
    {
     "name": "stdout",
     "output_type": "stream",
     "text": [
      "  63  7.21e+02  2.27e+02  2.47e+03  2.14e-06  7.53e+06  7.54e+06     1  3.60e+02  7.53e+06  7.53e+06     1  5.00e+01\n"
     ]
    },
    {
     "name": "stdout",
     "output_type": "stream",
     "text": [
      "  64  7.19e+02  2.27e+02  2.46e+03  2.15e-06  7.51e+06  7.52e+06     1  3.60e+02  7.51e+06  7.51e+06     1  5.00e+01\n"
     ]
    },
    {
     "name": "stdout",
     "output_type": "stream",
     "text": [
      "  65  7.18e+02  2.26e+02  2.46e+03  2.02e-06  7.49e+06  7.50e+06     1  3.60e+02  7.49e+06  7.49e+06     1  5.00e+01\n"
     ]
    },
    {
     "name": "stdout",
     "output_type": "stream",
     "text": [
      "  66  7.16e+02  2.26e+02  2.45e+03  2.20e-06  7.47e+06  7.48e+06     1  3.60e+02  7.47e+06  7.47e+06     1  5.00e+01\n"
     ]
    },
    {
     "name": "stdout",
     "output_type": "stream",
     "text": [
      "  67  7.15e+02  2.25e+02  2.45e+03  2.29e-06  7.45e+06  7.46e+06     1  3.60e+02  7.45e+06  7.45e+06     1  5.00e+01\n"
     ]
    },
    {
     "name": "stdout",
     "output_type": "stream",
     "text": [
      "  68  7.13e+02  2.25e+02  2.44e+03  2.02e-06  7.44e+06  7.45e+06     1  3.60e+02  7.44e+06  7.44e+06     1  5.00e+01\n"
     ]
    },
    {
     "name": "stdout",
     "output_type": "stream",
     "text": [
      "  69  7.12e+02  2.24e+02  2.44e+03  2.14e-06  7.42e+06  7.43e+06     1  3.60e+02  7.42e+06  7.42e+06     1  5.00e+01\n"
     ]
    },
    {
     "name": "stdout",
     "output_type": "stream",
     "text": [
      "  70  7.11e+02  2.24e+02  2.44e+03  2.04e-06  7.40e+06  7.41e+06     1  3.60e+02  7.40e+06  7.40e+06     1  5.00e+01\n"
     ]
    },
    {
     "name": "stdout",
     "output_type": "stream",
     "text": [
      "  71  7.09e+02  2.23e+02  2.43e+03  2.02e-06  7.39e+06  7.40e+06     1  3.60e+02  7.39e+06  7.39e+06     1  5.00e+01\n"
     ]
    },
    {
     "name": "stdout",
     "output_type": "stream",
     "text": [
      "  72  7.08e+02  2.23e+02  2.43e+03  2.44e-06  7.37e+06  7.38e+06     1  3.60e+02  7.37e+06  7.37e+06     1  5.00e+01\n"
     ]
    },
    {
     "name": "stdout",
     "output_type": "stream",
     "text": [
      "  73  7.07e+02  2.22e+02  2.42e+03  2.49e-06  7.35e+06  7.36e+06     1  3.60e+02  7.35e+06  7.35e+06     1  5.00e+01\n"
     ]
    },
    {
     "name": "stdout",
     "output_type": "stream",
     "text": [
      "  74  7.06e+02  2.22e+02  2.42e+03  2.05e-06  7.34e+06  7.35e+06     1  3.60e+02  7.34e+06  7.34e+06     1  5.00e+01\n"
     ]
    },
    {
     "name": "stdout",
     "output_type": "stream",
     "text": [
      "  75  7.05e+02  2.21e+02  2.42e+03  2.21e-06  7.32e+06  7.33e+06     1  3.60e+02  7.32e+06  7.32e+06     1  5.00e+01\n"
     ]
    },
    {
     "name": "stdout",
     "output_type": "stream",
     "text": [
      "  76  7.04e+02  2.21e+02  2.41e+03  2.01e-06  7.31e+06  7.32e+06     1  3.60e+02  7.31e+06  7.31e+06     1  5.00e+01\n"
     ]
    },
    {
     "name": "stdout",
     "output_type": "stream",
     "text": [
      "  77  7.02e+02  2.20e+02  2.41e+03  2.18e-06  7.29e+06  7.30e+06     1  3.60e+02  7.29e+06  7.29e+06     1  5.00e+01\n"
     ]
    },
    {
     "name": "stdout",
     "output_type": "stream",
     "text": [
      "  78  7.01e+02  2.20e+02  2.41e+03  2.07e-06  7.28e+06  7.29e+06     1  3.60e+02  7.28e+06  7.28e+06     1  5.00e+01\n"
     ]
    },
    {
     "name": "stdout",
     "output_type": "stream",
     "text": [
      "  79  7.00e+02  2.20e+02  2.40e+03  2.06e-06  7.27e+06  7.28e+06     1  3.60e+02  7.27e+06  7.27e+06     1  5.00e+01\n"
     ]
    },
    {
     "name": "stdout",
     "output_type": "stream",
     "text": [
      "  80  6.99e+02  2.19e+02  2.40e+03  1.92e-06  7.26e+06  7.26e+06     1  3.60e+02  7.25e+06  7.25e+06     1  5.00e+01\n"
     ]
    },
    {
     "name": "stdout",
     "output_type": "stream",
     "text": [
      "  81  6.98e+02  2.19e+02  2.40e+03  2.06e-06  7.24e+06  7.25e+06     1  3.60e+02  7.24e+06  7.24e+06     1  5.00e+01\n"
     ]
    },
    {
     "name": "stdout",
     "output_type": "stream",
     "text": [
      "  82  6.97e+02  2.18e+02  2.39e+03  2.42e-06  7.23e+06  7.24e+06     1  3.60e+02  7.23e+06  7.23e+06     1  5.00e+01\n"
     ]
    },
    {
     "name": "stdout",
     "output_type": "stream",
     "text": [
      "  83  6.96e+02  2.18e+02  2.39e+03  2.16e-06  7.22e+06  7.23e+06     1  3.60e+02  7.22e+06  7.22e+06     1  5.00e+01\n"
     ]
    },
    {
     "name": "stdout",
     "output_type": "stream",
     "text": [
      "  84  6.95e+02  2.18e+02  2.39e+03  2.16e-06  7.21e+06  7.22e+06     1  3.60e+02  7.21e+06  7.21e+06     1  5.00e+01\n"
     ]
    },
    {
     "name": "stdout",
     "output_type": "stream",
     "text": [
      "  85  6.94e+02  2.17e+02  2.38e+03  2.47e-06  7.20e+06  7.21e+06     1  3.60e+02  7.20e+06  7.20e+06     1  5.00e+01\n"
     ]
    },
    {
     "name": "stdout",
     "output_type": "stream",
     "text": [
      "  86  6.93e+02  2.17e+02  2.38e+03  2.20e-06  7.19e+06  7.20e+06     1  3.60e+02  7.19e+06  7.19e+06     1  5.00e+01\n"
     ]
    },
    {
     "name": "stdout",
     "output_type": "stream",
     "text": [
      "  87  6.92e+02  2.17e+02  2.38e+03  2.47e-06  7.18e+06  7.19e+06     1  3.60e+02  7.18e+06  7.18e+06     1  5.00e+01\n"
     ]
    },
    {
     "name": "stdout",
     "output_type": "stream",
     "text": [
      "  88  6.92e+02  2.17e+02  2.37e+03  2.47e-06  7.17e+06  7.18e+06     1  3.60e+02  7.17e+06  7.17e+06     1  5.00e+01\n"
     ]
    },
    {
     "name": "stdout",
     "output_type": "stream",
     "text": [
      "  89  6.91e+02  2.16e+02  2.37e+03  1.80e-06  7.16e+06  7.17e+06     1  3.60e+02  7.16e+06  7.16e+06     1  5.00e+01\n"
     ]
    },
    {
     "name": "stdout",
     "output_type": "stream",
     "text": [
      "  90  6.90e+02  2.16e+02  2.37e+03  2.15e-06  7.15e+06  7.16e+06     1  3.60e+02  7.15e+06  7.15e+06     1  5.00e+01\n"
     ]
    },
    {
     "name": "stdout",
     "output_type": "stream",
     "text": [
      "  91  6.89e+02  2.16e+02  2.37e+03  2.37e-06  7.14e+06  7.15e+06     1  3.60e+02  7.14e+06  7.14e+06     1  5.00e+01\n"
     ]
    },
    {
     "name": "stdout",
     "output_type": "stream",
     "text": [
      "  92  6.88e+02  2.16e+02  2.36e+03  2.46e-06  7.13e+06  7.14e+06     1  3.60e+02  7.13e+06  7.13e+06     1  5.00e+01\n"
     ]
    },
    {
     "name": "stdout",
     "output_type": "stream",
     "text": [
      "  93  6.87e+02  2.15e+02  2.36e+03  2.32e-06  7.13e+06  7.13e+06     1  3.60e+02  7.12e+06  7.12e+06     1  5.00e+01\n"
     ]
    },
    {
     "name": "stdout",
     "output_type": "stream",
     "text": [
      "  94  6.87e+02  2.15e+02  2.36e+03  2.14e-06  7.12e+06  7.12e+06     1  3.60e+02  7.12e+06  7.12e+06     1  5.00e+01\n"
     ]
    },
    {
     "name": "stdout",
     "output_type": "stream",
     "text": [
      "  95  6.86e+02  2.15e+02  2.36e+03  2.60e-06  7.11e+06  7.11e+06     1  3.60e+02  7.11e+06  7.11e+06     1  5.00e+01\n"
     ]
    },
    {
     "name": "stdout",
     "output_type": "stream",
     "text": [
      "  96  6.85e+02  2.14e+02  2.35e+03  2.25e-06  7.10e+06  7.10e+06     1  3.60e+02  7.10e+06  7.10e+06     1  5.00e+01\n"
     ]
    },
    {
     "name": "stdout",
     "output_type": "stream",
     "text": [
      "  97  6.84e+02  2.14e+02  2.35e+03  2.29e-06  7.09e+06  7.10e+06     1  3.60e+02  7.09e+06  7.09e+06     1  5.00e+01\n"
     ]
    },
    {
     "name": "stdout",
     "output_type": "stream",
     "text": [
      "  98  6.84e+02  2.14e+02  2.35e+03  2.36e-06  7.08e+06  7.09e+06     1  3.60e+02  7.08e+06  7.08e+06     1  5.00e+01\n"
     ]
    },
    {
     "name": "stdout",
     "output_type": "stream",
     "text": [
      "  99  6.83e+02  2.14e+02  2.35e+03  2.21e-06  7.08e+06  7.08e+06     1  3.60e+02  7.08e+06  7.08e+06     1  5.00e+01\n"
     ]
    },
    {
     "name": "stdout",
     "output_type": "stream",
     "text": [
      " 100  6.82e+02  2.14e+02  2.34e+03  2.46e-06  7.07e+06  7.08e+06     1  3.60e+02  7.07e+06  7.07e+06     1  5.00e+01\n"
     ]
    },
    {
     "name": "stdout",
     "output_type": "stream",
     "text": [
      " 101  6.81e+02  2.13e+02  2.34e+03  1.91e-06  7.06e+06  7.07e+06     1  3.60e+02  7.06e+06  7.06e+06     1  5.00e+01\n"
     ]
    },
    {
     "name": "stdout",
     "output_type": "stream",
     "text": [
      " 102  6.81e+02  2.13e+02  2.34e+03  2.07e-06  7.06e+06  7.06e+06     1  3.60e+02  7.06e+06  7.06e+06     1  5.00e+01\n"
     ]
    },
    {
     "name": "stdout",
     "output_type": "stream",
     "text": [
      " 103  6.80e+02  2.13e+02  2.34e+03  2.32e-06  7.05e+06  7.05e+06     1  3.60e+02  7.05e+06  7.05e+06     1  5.00e+01\n"
     ]
    },
    {
     "name": "stdout",
     "output_type": "stream",
     "text": [
      " 104  6.79e+02  2.13e+02  2.33e+03  2.08e-06  7.04e+06  7.05e+06     1  3.60e+02  7.04e+06  7.04e+06     1  5.00e+01\n"
     ]
    },
    {
     "name": "stdout",
     "output_type": "stream",
     "text": [
      " 105  6.79e+02  2.13e+02  2.33e+03  2.23e-06  7.04e+06  7.04e+06     1  3.60e+02  7.04e+06  7.04e+06     1  5.00e+01\n"
     ]
    },
    {
     "name": "stdout",
     "output_type": "stream",
     "text": [
      " 106  6.78e+02  2.12e+02  2.33e+03  2.08e-06  7.03e+06  7.03e+06     1  3.60e+02  7.03e+06  7.03e+06     1  5.00e+01\n"
     ]
    },
    {
     "name": "stdout",
     "output_type": "stream",
     "text": [
      " 107  6.77e+02  2.12e+02  2.33e+03  2.06e-06  7.02e+06  7.03e+06     1  3.60e+02  7.02e+06  7.02e+06     1  5.00e+01\n"
     ]
    },
    {
     "name": "stdout",
     "output_type": "stream",
     "text": [
      " 108  6.77e+02  2.12e+02  2.32e+03  2.46e-06  7.02e+06  7.02e+06     1  3.60e+02  7.02e+06  7.02e+06     1  5.00e+01\n"
     ]
    },
    {
     "name": "stdout",
     "output_type": "stream",
     "text": [
      " 109  6.76e+02  2.12e+02  2.32e+03  2.34e-06  7.01e+06  7.01e+06     1  3.60e+02  7.01e+06  7.01e+06     1  5.00e+01\n"
     ]
    },
    {
     "name": "stdout",
     "output_type": "stream",
     "text": [
      " 110  6.76e+02  2.12e+02  2.32e+03  2.03e-06  7.00e+06  7.01e+06     1  3.60e+02  7.00e+06  7.00e+06     1  5.00e+01\n"
     ]
    },
    {
     "name": "stdout",
     "output_type": "stream",
     "text": [
      " 111  6.75e+02  2.11e+02  2.32e+03  2.66e-06  7.00e+06  7.00e+06     1  3.60e+02  7.00e+06  7.00e+06     1  5.00e+01\n"
     ]
    },
    {
     "name": "stdout",
     "output_type": "stream",
     "text": [
      " 112  6.74e+02  2.11e+02  2.32e+03  2.17e-06  6.99e+06  6.99e+06     1  3.60e+02  6.99e+06  6.99e+06     1  5.00e+01\n"
     ]
    },
    {
     "name": "stdout",
     "output_type": "stream",
     "text": [
      " 113  6.74e+02  2.11e+02  2.31e+03  2.02e-06  6.98e+06  6.99e+06     1  3.60e+02  6.98e+06  6.98e+06     1  5.00e+01\n"
     ]
    },
    {
     "name": "stdout",
     "output_type": "stream",
     "text": [
      " 114  6.73e+02  2.11e+02  2.31e+03  2.08e-06  6.98e+06  6.98e+06     1  3.60e+02  6.98e+06  6.98e+06     1  5.00e+01\n"
     ]
    },
    {
     "name": "stdout",
     "output_type": "stream",
     "text": [
      " 115  6.73e+02  2.11e+02  2.31e+03  2.22e-06  6.97e+06  6.98e+06     1  3.60e+02  6.97e+06  6.97e+06     1  5.00e+01\n"
     ]
    },
    {
     "name": "stdout",
     "output_type": "stream",
     "text": [
      " 116  6.72e+02  2.11e+02  2.31e+03  2.06e-06  6.97e+06  6.97e+06     1  3.60e+02  6.97e+06  6.97e+06     1  5.00e+01\n"
     ]
    },
    {
     "name": "stdout",
     "output_type": "stream",
     "text": [
      " 117  6.71e+02  2.10e+02  2.31e+03  2.42e-06  6.96e+06  6.97e+06     1  3.60e+02  6.96e+06  6.96e+06     1  5.00e+01\n"
     ]
    },
    {
     "name": "stdout",
     "output_type": "stream",
     "text": [
      " 118  6.71e+02  2.10e+02  2.30e+03  2.25e-06  6.96e+06  6.96e+06     1  3.60e+02  6.96e+06  6.96e+06     1  5.00e+01\n"
     ]
    },
    {
     "name": "stdout",
     "output_type": "stream",
     "text": [
      " 119  6.70e+02  2.10e+02  2.30e+03  1.95e-06  6.95e+06  6.96e+06     1  3.60e+02  6.95e+06  6.95e+06     1  5.00e+01\n"
     ]
    },
    {
     "name": "stdout",
     "output_type": "stream",
     "text": [
      " 120  6.70e+02  2.10e+02  2.30e+03  2.12e-06  6.95e+06  6.95e+06     1  3.60e+02  6.95e+06  6.95e+06     2  6.00e+01\n"
     ]
    },
    {
     "name": "stdout",
     "output_type": "stream",
     "text": [
      " 121  6.69e+02  2.10e+02  2.30e+03  2.04e-06  6.94e+06  6.95e+06     1  3.60e+02  6.94e+06  6.94e+06     1  6.00e+01\n"
     ]
    },
    {
     "name": "stdout",
     "output_type": "stream",
     "text": [
      " 122  6.69e+02  2.10e+02  2.30e+03  2.07e-06  6.94e+06  6.94e+06     1  3.60e+02  6.94e+06  6.94e+06     1  6.00e+01\n"
     ]
    },
    {
     "name": "stdout",
     "output_type": "stream",
     "text": [
      " 123  6.68e+02  2.10e+02  2.29e+03  2.27e-06  6.94e+06  6.94e+06     1  3.60e+02  6.94e+06  6.94e+06     1  6.00e+01\n"
     ]
    },
    {
     "name": "stdout",
     "output_type": "stream",
     "text": [
      " 124  6.68e+02  2.09e+02  2.29e+03  1.94e-06  6.93e+06  6.94e+06     1  3.60e+02  6.93e+06  6.93e+06     1  6.00e+01\n"
     ]
    },
    {
     "name": "stdout",
     "output_type": "stream",
     "text": [
      " 125  6.67e+02  2.09e+02  2.29e+03  2.18e-06  6.93e+06  6.93e+06     1  3.60e+02  6.93e+06  6.93e+06     1  6.00e+01\n"
     ]
    },
    {
     "name": "stdout",
     "output_type": "stream",
     "text": [
      " 126  6.67e+02  2.09e+02  2.29e+03  2.23e-06  6.92e+06  6.93e+06     1  3.60e+02  6.92e+06  6.92e+06     1  6.00e+01\n"
     ]
    },
    {
     "name": "stdout",
     "output_type": "stream",
     "text": [
      " 127  6.66e+02  2.09e+02  2.29e+03  2.55e-06  6.92e+06  6.92e+06     1  3.60e+02  6.92e+06  6.92e+06     1  6.00e+01\n"
     ]
    },
    {
     "name": "stdout",
     "output_type": "stream",
     "text": [
      " 128  6.66e+02  2.09e+02  2.28e+03  2.35e-06  6.92e+06  6.92e+06     1  3.60e+02  6.92e+06  6.92e+06     1  6.00e+01\n"
     ]
    },
    {
     "name": "stdout",
     "output_type": "stream",
     "text": [
      " 129  6.65e+02  2.09e+02  2.28e+03  2.00e-06  6.91e+06  6.92e+06     1  3.60e+02  6.91e+06  6.91e+06     1  6.00e+01\n"
     ]
    },
    {
     "name": "stdout",
     "output_type": "stream",
     "text": [
      " 130  6.65e+02  2.09e+02  2.28e+03  2.13e-06  6.91e+06  6.91e+06     1  3.60e+02  6.91e+06  6.91e+06     1  6.00e+01\n"
     ]
    },
    {
     "name": "stdout",
     "output_type": "stream",
     "text": [
      " 131  6.64e+02  2.09e+02  2.28e+03  2.26e-06  6.91e+06  6.91e+06     1  3.60e+02  6.91e+06  6.91e+06     1  6.00e+01\n"
     ]
    },
    {
     "name": "stdout",
     "output_type": "stream",
     "text": [
      " 132  6.64e+02  2.09e+02  2.28e+03  2.14e-06  6.90e+06  6.91e+06     1  3.60e+02  6.90e+06  6.90e+06     1  6.00e+01\n"
     ]
    },
    {
     "name": "stdout",
     "output_type": "stream",
     "text": [
      " 133  6.64e+02  2.08e+02  2.28e+03  2.25e-06  6.90e+06  6.90e+06     1  3.60e+02  6.90e+06  6.90e+06     1  6.00e+01\n"
     ]
    },
    {
     "name": "stdout",
     "output_type": "stream",
     "text": [
      " 134  6.63e+02  2.08e+02  2.27e+03  1.79e-06  6.90e+06  6.90e+06     1  3.60e+02  6.90e+06  6.90e+06     1  6.00e+01\n"
     ]
    },
    {
     "name": "stdout",
     "output_type": "stream",
     "text": [
      " 135  6.63e+02  2.08e+02  2.27e+03  2.21e-06  6.89e+06  6.90e+06     1  3.60e+02  6.89e+06  6.89e+06     1  6.00e+01\n"
     ]
    },
    {
     "name": "stdout",
     "output_type": "stream",
     "text": [
      " 136  6.62e+02  2.08e+02  2.27e+03  1.79e-06  6.89e+06  6.89e+06     1  3.60e+02  6.89e+06  6.89e+06     1  6.00e+01\n"
     ]
    },
    {
     "name": "stdout",
     "output_type": "stream",
     "text": [
      " 137  6.62e+02  2.08e+02  2.27e+03  2.37e-06  6.89e+06  6.89e+06     1  3.60e+02  6.89e+06  6.89e+06     1  6.00e+01\n"
     ]
    },
    {
     "name": "stdout",
     "output_type": "stream",
     "text": [
      " 138  6.61e+02  2.08e+02  2.27e+03  2.09e-06  6.88e+06  6.89e+06     1  3.60e+02  6.88e+06  6.88e+06     1  6.00e+01\n"
     ]
    },
    {
     "name": "stdout",
     "output_type": "stream",
     "text": [
      " 139  6.61e+02  2.08e+02  2.27e+03  2.51e-06  6.88e+06  6.88e+06     1  3.60e+02  6.88e+06  6.88e+06     1  6.00e+01\n"
     ]
    },
    {
     "name": "stdout",
     "output_type": "stream",
     "text": [
      " 140  6.61e+02  2.08e+02  2.26e+03  2.43e-06  6.88e+06  6.88e+06     1  3.60e+02  6.88e+06  6.88e+06     1  6.00e+01\n"
     ]
    },
    {
     "name": "stdout",
     "output_type": "stream",
     "text": [
      " 141  6.60e+02  2.08e+02  2.26e+03  2.44e-06  6.87e+06  6.88e+06     1  3.60e+02  6.87e+06  6.87e+06     1  6.00e+01\n"
     ]
    },
    {
     "name": "stdout",
     "output_type": "stream",
     "text": [
      " 142  6.60e+02  2.08e+02  2.26e+03  2.40e-06  6.87e+06  6.87e+06     1  3.60e+02  6.87e+06  6.87e+06     1  6.00e+01\n"
     ]
    },
    {
     "name": "stdout",
     "output_type": "stream",
     "text": [
      " 143  6.59e+02  2.07e+02  2.26e+03  2.21e-06  6.87e+06  6.87e+06     1  3.60e+02  6.87e+06  6.87e+06     1  6.00e+01\n"
     ]
    },
    {
     "name": "stdout",
     "output_type": "stream",
     "text": [
      " 144  6.59e+02  2.07e+02  2.26e+03  2.47e-06  6.86e+06  6.86e+06     1  3.60e+02  6.86e+06  6.86e+06     1  6.00e+01\n"
     ]
    },
    {
     "name": "stdout",
     "output_type": "stream",
     "text": [
      " 145  6.59e+02  2.07e+02  2.26e+03  2.41e-06  6.86e+06  6.86e+06     1  3.60e+02  6.86e+06  6.86e+06     1  6.00e+01\n"
     ]
    },
    {
     "name": "stdout",
     "output_type": "stream",
     "text": [
      " 146  6.58e+02  2.07e+02  2.26e+03  2.23e-06  6.85e+06  6.86e+06     1  3.60e+02  6.85e+06  6.85e+06     1  6.00e+01\n"
     ]
    },
    {
     "name": "stdout",
     "output_type": "stream",
     "text": [
      " 147  6.58e+02  2.07e+02  2.25e+03  2.45e-06  6.85e+06  6.85e+06     1  3.60e+02  6.85e+06  6.85e+06     1  6.00e+01\n"
     ]
    },
    {
     "name": "stdout",
     "output_type": "stream",
     "text": [
      " 148  6.57e+02  2.07e+02  2.25e+03  2.36e-06  6.85e+06  6.85e+06     1  3.60e+02  6.85e+06  6.85e+06     1  6.00e+01\n"
     ]
    },
    {
     "name": "stdout",
     "output_type": "stream",
     "text": [
      " 149  6.57e+02  2.07e+02  2.25e+03  2.13e-06  6.84e+06  6.85e+06     1  3.60e+02  6.84e+06  6.84e+06     1  6.00e+01\n"
     ]
    },
    {
     "name": "stdout",
     "output_type": "stream",
     "text": [
      " 150  6.57e+02  2.07e+02  2.25e+03  2.34e-06  6.84e+06  6.84e+06     1  3.60e+02  6.84e+06  6.84e+06     1  6.00e+01\n"
     ]
    },
    {
     "name": "stdout",
     "output_type": "stream",
     "text": [
      " 151  6.56e+02  2.07e+02  2.25e+03  2.18e-06  6.84e+06  6.84e+06     1  3.60e+02  6.84e+06  6.84e+06     1  6.00e+01\n"
     ]
    },
    {
     "name": "stdout",
     "output_type": "stream",
     "text": [
      " 152  6.56e+02  2.06e+02  2.25e+03  2.25e-06  6.83e+06  6.84e+06     1  3.60e+02  6.83e+06  6.83e+06     1  6.00e+01\n"
     ]
    },
    {
     "name": "stdout",
     "output_type": "stream",
     "text": [
      " 153  6.56e+02  2.06e+02  2.25e+03  2.31e-06  6.83e+06  6.83e+06     1  3.60e+02  6.83e+06  6.83e+06     1  6.00e+01\n"
     ]
    },
    {
     "name": "stdout",
     "output_type": "stream",
     "text": [
      " 154  6.55e+02  2.06e+02  2.24e+03  2.24e-06  6.83e+06  6.83e+06     1  3.60e+02  6.83e+06  6.83e+06     1  6.00e+01\n"
     ]
    },
    {
     "name": "stdout",
     "output_type": "stream",
     "text": [
      " 155  6.55e+02  2.06e+02  2.24e+03  2.17e-06  6.82e+06  6.83e+06     1  3.60e+02  6.82e+06  6.82e+06     1  6.00e+01\n"
     ]
    },
    {
     "name": "stdout",
     "output_type": "stream",
     "text": [
      " 156  6.54e+02  2.06e+02  2.24e+03  2.16e-06  6.82e+06  6.82e+06     1  3.60e+02  6.82e+06  6.82e+06     1  6.00e+01\n"
     ]
    },
    {
     "name": "stdout",
     "output_type": "stream",
     "text": [
      " 157  6.54e+02  2.06e+02  2.24e+03  2.24e-06  6.82e+06  6.82e+06     1  3.60e+02  6.82e+06  6.82e+06     1  6.00e+01\n"
     ]
    },
    {
     "name": "stdout",
     "output_type": "stream",
     "text": [
      " 158  6.54e+02  2.06e+02  2.24e+03  2.34e-06  6.82e+06  6.82e+06     1  3.60e+02  6.82e+06  6.82e+06     1  6.00e+01\n"
     ]
    },
    {
     "name": "stdout",
     "output_type": "stream",
     "text": [
      " 159  6.53e+02  2.06e+02  2.24e+03  2.09e-06  6.81e+06  6.82e+06     1  3.60e+02  6.81e+06  6.81e+06     1  6.00e+01\n"
     ]
    },
    {
     "name": "stdout",
     "output_type": "stream",
     "text": [
      " 160  6.53e+02  2.06e+02  2.24e+03  1.91e-06  6.81e+06  6.81e+06     1  3.60e+02  6.81e+06  6.81e+06     1  6.00e+01\n"
     ]
    },
    {
     "name": "stdout",
     "output_type": "stream",
     "text": [
      " 161  6.53e+02  2.06e+02  2.24e+03  2.70e-06  6.81e+06  6.81e+06     1  3.60e+02  6.81e+06  6.81e+06     1  6.00e+01\n"
     ]
    },
    {
     "name": "stdout",
     "output_type": "stream",
     "text": [
      " 162  6.52e+02  2.06e+02  2.23e+03  1.84e-06  6.81e+06  6.81e+06     1  3.60e+02  6.81e+06  6.81e+06     1  6.00e+01\n"
     ]
    },
    {
     "name": "stdout",
     "output_type": "stream",
     "text": [
      " 163  6.52e+02  2.06e+02  2.23e+03  2.07e-06  6.80e+06  6.81e+06     1  3.60e+02  6.80e+06  6.80e+06     1  6.00e+01\n"
     ]
    },
    {
     "name": "stdout",
     "output_type": "stream",
     "text": [
      " 164  6.52e+02  2.05e+02  2.23e+03  2.33e-06  6.80e+06  6.80e+06     1  3.60e+02  6.80e+06  6.80e+06     1  6.00e+01\n"
     ]
    },
    {
     "name": "stdout",
     "output_type": "stream",
     "text": [
      " 165  6.52e+02  2.05e+02  2.23e+03  2.15e-06  6.80e+06  6.80e+06     1  3.60e+02  6.80e+06  6.80e+06     1  6.00e+01\n"
     ]
    },
    {
     "name": "stdout",
     "output_type": "stream",
     "text": [
      " 166  6.51e+02  2.05e+02  2.23e+03  2.27e-06  6.80e+06  6.80e+06     1  3.60e+02  6.80e+06  6.80e+06     1  6.00e+01\n"
     ]
    },
    {
     "name": "stdout",
     "output_type": "stream",
     "text": [
      " 167  6.51e+02  2.05e+02  2.23e+03  2.10e-06  6.79e+06  6.80e+06     1  3.60e+02  6.79e+06  6.79e+06     1  6.00e+01\n"
     ]
    },
    {
     "name": "stdout",
     "output_type": "stream",
     "text": [
      " 168  6.51e+02  2.05e+02  2.23e+03  2.37e-06  6.79e+06  6.79e+06     1  3.60e+02  6.79e+06  6.79e+06     1  6.00e+01\n"
     ]
    },
    {
     "name": "stdout",
     "output_type": "stream",
     "text": [
      " 169  6.50e+02  2.05e+02  2.23e+03  2.21e-06  6.79e+06  6.79e+06     1  3.60e+02  6.79e+06  6.79e+06     1  6.00e+01\n"
     ]
    },
    {
     "name": "stdout",
     "output_type": "stream",
     "text": [
      " 170  6.50e+02  2.05e+02  2.22e+03  2.37e-06  6.79e+06  6.79e+06     1  3.60e+02  6.79e+06  6.79e+06     1  6.00e+01\n"
     ]
    },
    {
     "name": "stdout",
     "output_type": "stream",
     "text": [
      " 171  6.50e+02  2.05e+02  2.22e+03  2.39e-06  6.78e+06  6.79e+06     1  3.60e+02  6.78e+06  6.78e+06     1  6.00e+01\n"
     ]
    },
    {
     "name": "stdout",
     "output_type": "stream",
     "text": [
      " 172  6.49e+02  2.05e+02  2.22e+03  2.27e-06  6.78e+06  6.78e+06     1  3.60e+02  6.78e+06  6.78e+06     1  6.00e+01\n"
     ]
    },
    {
     "name": "stdout",
     "output_type": "stream",
     "text": [
      " 173  6.49e+02  2.05e+02  2.22e+03  2.37e-06  6.78e+06  6.78e+06     1  3.60e+02  6.78e+06  6.78e+06     1  6.00e+01\n"
     ]
    },
    {
     "name": "stdout",
     "output_type": "stream",
     "text": [
      " 174  6.49e+02  2.05e+02  2.22e+03  2.24e-06  6.77e+06  6.78e+06     1  3.60e+02  6.77e+06  6.77e+06     1  6.00e+01\n"
     ]
    },
    {
     "name": "stdout",
     "output_type": "stream",
     "text": [
      " 175  6.48e+02  2.05e+02  2.22e+03  1.97e-06  6.77e+06  6.77e+06     1  3.60e+02  6.77e+06  6.77e+06     1  6.00e+01\n"
     ]
    },
    {
     "name": "stdout",
     "output_type": "stream",
     "text": [
      " 176  6.48e+02  2.05e+02  2.22e+03  2.11e-06  6.77e+06  6.77e+06     1  3.60e+02  6.77e+06  6.77e+06     1  6.00e+01\n"
     ]
    },
    {
     "name": "stdout",
     "output_type": "stream",
     "text": [
      " 177  6.48e+02  2.04e+02  2.22e+03  1.98e-06  6.77e+06  6.77e+06     1  3.60e+02  6.77e+06  6.77e+06     1  6.00e+01\n"
     ]
    },
    {
     "name": "stdout",
     "output_type": "stream",
     "text": [
      " 178  6.48e+02  2.04e+02  2.22e+03  2.12e-06  6.77e+06  6.77e+06     1  3.60e+02  6.76e+06  6.76e+06     1  6.00e+01\n"
     ]
    },
    {
     "name": "stdout",
     "output_type": "stream",
     "text": [
      " 179  6.47e+02  2.04e+02  2.22e+03  2.55e-06  6.76e+06  6.76e+06     1  3.60e+02  6.76e+06  6.76e+06     1  6.00e+01\n"
     ]
    },
    {
     "name": "stdout",
     "output_type": "stream",
     "text": [
      " 180  6.47e+02  2.04e+02  2.21e+03  2.50e-06  6.76e+06  6.76e+06     1  3.60e+02  6.76e+06  6.76e+06     1  6.00e+01\n"
     ]
    },
    {
     "name": "stdout",
     "output_type": "stream",
     "text": [
      " 181  6.47e+02  2.04e+02  2.21e+03  2.10e-06  6.76e+06  6.76e+06     1  3.60e+02  6.76e+06  6.76e+06     1  6.00e+01\n"
     ]
    },
    {
     "name": "stdout",
     "output_type": "stream",
     "text": [
      " 182  6.47e+02  2.04e+02  2.21e+03  2.35e-06  6.76e+06  6.76e+06     1  3.60e+02  6.76e+06  6.76e+06     1  6.00e+01\n"
     ]
    },
    {
     "name": "stdout",
     "output_type": "stream",
     "text": [
      " 183  6.46e+02  2.04e+02  2.21e+03  2.05e-06  6.76e+06  6.76e+06     1  3.60e+02  6.75e+06  6.75e+06     1  6.00e+01\n"
     ]
    },
    {
     "name": "stdout",
     "output_type": "stream",
     "text": [
      " 184  6.46e+02  2.04e+02  2.21e+03  1.85e-06  6.75e+06  6.76e+06     1  3.60e+02  6.75e+06  6.75e+06     1  6.00e+01\n"
     ]
    },
    {
     "name": "stdout",
     "output_type": "stream",
     "text": [
      " 185  6.46e+02  2.04e+02  2.21e+03  1.94e-06  6.75e+06  6.75e+06     1  3.60e+02  6.75e+06  6.75e+06     1  6.00e+01\n"
     ]
    },
    {
     "name": "stdout",
     "output_type": "stream",
     "text": [
      " 186  6.45e+02  2.04e+02  2.21e+03  2.40e-06  6.75e+06  6.75e+06     1  3.60e+02  6.75e+06  6.75e+06     1  6.00e+01\n"
     ]
    },
    {
     "name": "stdout",
     "output_type": "stream",
     "text": [
      " 187  6.45e+02  2.04e+02  2.21e+03  1.93e-06  6.75e+06  6.75e+06     1  3.60e+02  6.75e+06  6.75e+06     1  6.00e+01\n"
     ]
    },
    {
     "name": "stdout",
     "output_type": "stream",
     "text": [
      " 188  6.45e+02  2.04e+02  2.21e+03  2.31e-06  6.75e+06  6.75e+06     1  3.60e+02  6.75e+06  6.75e+06     1  6.00e+01\n"
     ]
    },
    {
     "name": "stdout",
     "output_type": "stream",
     "text": [
      " 189  6.45e+02  2.04e+02  2.20e+03  2.29e-06  6.75e+06  6.75e+06     1  3.60e+02  6.75e+06  6.75e+06     1  6.00e+01\n"
     ]
    },
    {
     "name": "stdout",
     "output_type": "stream",
     "text": [
      " 190  6.44e+02  2.04e+02  2.20e+03  2.04e-06  6.74e+06  6.75e+06     1  3.60e+02  6.74e+06  6.74e+06     1  6.00e+01\n"
     ]
    },
    {
     "name": "stdout",
     "output_type": "stream",
     "text": [
      " 191  6.44e+02  2.04e+02  2.20e+03  2.32e-06  6.74e+06  6.74e+06     1  3.60e+02  6.74e+06  6.74e+06     1  6.00e+01\n"
     ]
    },
    {
     "name": "stdout",
     "output_type": "stream",
     "text": [
      " 192  6.44e+02  2.04e+02  2.20e+03  2.11e-06  6.74e+06  6.74e+06     1  3.60e+02  6.74e+06  6.74e+06     1  6.00e+01\n"
     ]
    },
    {
     "name": "stdout",
     "output_type": "stream",
     "text": [
      " 193  6.44e+02  2.04e+02  2.20e+03  2.58e-06  6.74e+06  6.74e+06     1  3.60e+02  6.74e+06  6.74e+06     1  6.00e+01\n"
     ]
    },
    {
     "name": "stdout",
     "output_type": "stream",
     "text": [
      " 194  6.43e+02  2.04e+02  2.20e+03  2.20e-06  6.74e+06  6.74e+06     1  3.60e+02  6.74e+06  6.74e+06     1  6.00e+01\n"
     ]
    },
    {
     "name": "stdout",
     "output_type": "stream",
     "text": [
      " 195  6.43e+02  2.04e+02  2.20e+03  2.14e-06  6.73e+06  6.74e+06     1  3.60e+02  6.73e+06  6.73e+06     1  6.00e+01\n"
     ]
    },
    {
     "name": "stdout",
     "output_type": "stream",
     "text": [
      " 196  6.43e+02  2.03e+02  2.20e+03  2.35e-06  6.73e+06  6.73e+06     1  3.60e+02  6.73e+06  6.73e+06     1  6.00e+01\n"
     ]
    },
    {
     "name": "stdout",
     "output_type": "stream",
     "text": [
      " 197  6.43e+02  2.03e+02  2.20e+03  2.26e-06  6.73e+06  6.73e+06     1  3.60e+02  6.73e+06  6.73e+06     1  6.00e+01\n"
     ]
    },
    {
     "name": "stdout",
     "output_type": "stream",
     "text": [
      " 198  6.43e+02  2.03e+02  2.20e+03  2.23e-06  6.73e+06  6.73e+06     1  3.60e+02  6.73e+06  6.73e+06     1  6.00e+01\n"
     ]
    },
    {
     "name": "stdout",
     "output_type": "stream",
     "text": [
      " 199  6.42e+02  2.03e+02  2.20e+03  2.18e-06  6.72e+06  6.73e+06     1  3.60e+02  6.72e+06  6.72e+06     1  6.00e+01\n",
      "--------------------------------------------------------------------------------------------------------------------\n",
      "ConvBPDNDictLearn solve time: 530.65s\n"
     ]
    }
   ],
   "source": [
    "d = cbpdndl.ConvBPDNDictLearn(D0, sh, lmbda, opt, xmethod='fista',\n",
    "                              dmethod='fista')\n",
    "D1 = d.solve()\n",
    "print(\"ConvBPDNDictLearn solve time: %.2fs\" % d.timer.elapsed('solve'))"
   ]
  },
  {
   "cell_type": "markdown",
   "metadata": {},
   "source": [
    "Display initial and final dictionaries."
   ]
  },
  {
   "cell_type": "code",
   "execution_count": 7,
   "metadata": {
    "collapsed": false
   },
   "outputs": [
    {
     "data": {
      "image/png": "[encoded data removed]",
      "text/plain": [
       "<Figure size 1008x504 with 2 Axes>"
      ]
     },
     "metadata": {
      "needs_background": "light"
     },
     "output_type": "display_data"
    }
   ],
   "source": [
    "D1 = D1.squeeze()\n",
    "fig = plot.figure(figsize=(14, 7))\n",
    "plot.subplot(1, 2, 1)\n",
    "plot.imview(util.tiledict(D0), title='D0', fig=fig)\n",
    "plot.subplot(1, 2, 2)\n",
    "plot.imview(util.tiledict(D1, dsz), title='D1', fig=fig)\n",
    "fig.show()"
   ]
  },
  {
   "cell_type": "markdown",
   "metadata": {},
   "source": [
    "Get iterations statistics from solver object and plot functional value, residuals, and automatically adjusted gradient step parameters against the iteration number."
   ]
  },
  {
   "cell_type": "code",
   "execution_count": 8,
   "metadata": {
    "collapsed": false
   },
   "outputs": [
    {
     "data": {
      "image/png": "[encoded data removed]",
      "text/plain": [
       "<Figure size 1440x360 with 3 Axes>"
      ]
     },
     "metadata": {
      "needs_background": "light"
     },
     "output_type": "display_data"
    }
   ],
   "source": [
    "its = d.getitstat()\n",
    "fig = plot.figure(figsize=(20, 5))\n",
    "plot.subplot(1, 3, 1)\n",
    "plot.plot(its.ObjFun, xlbl='Iterations', ylbl='Functional', fig=fig)\n",
    "plot.subplot(1, 3, 2)\n",
    "plot.plot(np.vstack((its.X_Rsdl, its.D_Rsdl)).T,\n",
    "          ptyp='semilogy', xlbl='Iterations', ylbl='Residual',\n",
    "          lgnd=['X', 'D'], fig=fig)\n",
    "plot.subplot(1, 3, 3)\n",
    "plot.plot(np.vstack((its.X_L, its.D_L)).T, xlbl='Iterations',\n",
    "          ylbl='Inverse of Gradient Step Parameter', ptyp='semilogy',\n",
    "          lgnd=['$L_X$', '$L_D$'], fig=fig)\n",
    "fig.show()"
   ]
  }
 ],
 "metadata": {},
 "nbformat": 4,
 "nbformat_minor": 2
}
