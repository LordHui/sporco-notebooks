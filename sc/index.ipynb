{
 "cells": [
  {
   "cell_type": "markdown",
   "metadata": {},
   "source": [
    "# Sparse Coding\n",
    "\n",
    "-   [Solve a synthetic Basis Pursuit DeNoising (BPDN) problem with\n",
    "    regularization parameter optimization (ADMM solver)](bpdn_opt.ipynb)\n",
    "-   [Solve a synthetic Basis Pursuit DeNoising (BPDN) problem (PGM\n",
    "    solver)](bpdn_pgm.ipynb)\n",
    "-   [Solve a synthetic Basis Pursuit DeNoising (BPDN) problem (ADMM and\n",
    "    PGM solvers)](bpdn_cmp.ipynb)\n",
    "-   [Solve a synthetic Basis Pursuit DeNoising (BPDN) problem with joint\n",
    "    sparsity via an ℓ2,1 norm term, with regularization parameter\n",
    "    optimization](bpdnjnt_opt.ipynb)\n",
    "-   [Solve a synthetic least absolute shrinkage and selection operator\n",
    "    (lasso) problem](bpdnprjl1.ipynb)\n",
    "-   [Solve a synthetic problem involving minimisation of an ℓ1 norm with\n",
    "    ℓ2 constraint](minl1prjl2.ipynb)\n",
    "-   [Remove Gaussian white noise from a greyscale image using sparse\n",
    "    coding](gwnden_clr.ipynb)"
   ]
  }
 ],
 "metadata": {},
 "nbformat": 4,
 "nbformat_minor": 4
}
