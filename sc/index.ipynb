{
 "cells": [
  {
   "cell_type": "markdown",
   "metadata": {},
   "source": [
    "## Sparse Coding"
   ]
  },
  {
   "cell_type": "markdown",
   "metadata": {},
   "source": [
    "- [Solve a synthetic Basis Pursuit DeNoising (BPDN) problem](bpdn.ipynb)\n",
    "- [Solve a synthetic Basis Pursuit DeNoising (BPDN) problem with joint sparsity via an ℓ2,1 norm term](bpdnjnt.ipynb)\n",
    "- [Solve a synthetic least absolute shrinkage and selection operator (lasso) problem](bpdnprjl1.ipynb)\n",
    "- [Solve a synthetic problem involving minimisation of an ℓ1 norm with ℓ2 constraint](minl1prjl2.ipynb)"
   ]
  }
 ],
 "metadata": {},
 "nbformat": 4,
 "nbformat_minor": 2
}
