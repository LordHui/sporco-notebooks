{
 "cells": [
  {
   "cell_type": "markdown",
   "metadata": {},
   "source": [
    "## Miscellaneous"
   ]
  },
  {
   "cell_type": "markdown",
   "metadata": {},
   "source": [
    "- [Construct a solver for an ADMM Consensus problem](admmcnsns.ipynb)\n",
    "- [Solve a synthetic Robust PCA problem](rpca.ipynb)\n",
    "- [Use ℓ1-spline fitting for removing salt & pepper noise from a greyscale image](spline.ipynb)\n",
    "- [Plotting function usage demonstration](plotting.ipynb)"
   ]
  }
 ],
 "metadata": {},
 "nbformat": 4,
 "nbformat_minor": 2
}
