{
 "cells": [
  {
   "cell_type": "markdown",
   "metadata": {},
   "source": [
    "# Miscellaneous\n",
    "\n",
    "-   [Construct a solver for an ADMM Consensus problem](admmcnsns.ipynb)\n",
    "-   [Solve a synthetic Robust PCA problem](rpca_denoise.ipynb)\n",
    "-   [Video background/foreground separation via Robust\n",
    "    PCA](rpca_video.ipynb)\n",
    "-   [Use ℓ1-spline fitting for removing salt & pepper noise from a\n",
    "    greyscale image](spline.ipynb)\n",
    "-   [Plotting function usage demonstration](plotting.ipynb)"
   ]
  }
 ],
 "metadata": {},
 "nbformat": 4,
 "nbformat_minor": 2
}
