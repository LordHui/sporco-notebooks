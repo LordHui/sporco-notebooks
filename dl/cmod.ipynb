{
 "cells": [
  {
   "cell_type": "markdown",
   "metadata": {},
   "source": [
    "Constained MOD\n",
    "==============\n",
    "\n",
    "This example demonstrates the use of [cmod.CnstrMOD](http://sporco.rtfd.org/en/latest/modules/sporco.admm.cmod.html#sporco.admm.cmod.CnstrMOD) for computing a dictionary update via a constrained variant of the method of optimal directions [[14]](http://sporco.rtfd.org/en/latest/zreferences.html#engan-1999-method). This problem is mainly useful as a component within dictionary learning, but its use is demonstrated here since a user may wish to construct such objects as part of a custom dictionary learning algorithm, using [dictlrn.DictLearn](http://sporco.rtfd.org/en/latest/modules/sporco.dictlrn.dictlrn.html#sporco.dictlrn.dictlrn.DictLearn)."
   ]
  },
  {
   "cell_type": "code",
   "execution_count": 1,
   "metadata": {
    "collapsed": false
   },
   "outputs": [],
   "source": [
    "from __future__ import print_function\n",
    "from builtins import input\n",
    "from builtins import range\n",
    "\n",
    "import numpy as np\n",
    "\n",
    "from sporco.admm import bpdn\n",
    "from sporco.admm import cmod\n",
    "from sporco import util\n",
    "from sporco import plot\n",
    "plot.config_notebook_plotting()"
   ]
  },
  {
   "cell_type": "markdown",
   "metadata": {},
   "source": [
    "Load training images."
   ]
  },
  {
   "cell_type": "code",
   "execution_count": 2,
   "metadata": {
    "collapsed": false
   },
   "outputs": [],
   "source": [
    "exim = util.ExampleImages(scaled=True, zoom=0.25, gray=True)\n",
    "S1 = exim.image('barbara.png', idxexp=np.s_[10:522, 100:612])\n",
    "S2 = exim.image('kodim23.png', idxexp=np.s_[:, 60:572])\n",
    "S3 = exim.image('monarch.png', idxexp=np.s_[:, 160:672])\n",
    "S4 = exim.image('sail.png', idxexp=np.s_[:, 210:722])\n",
    "S5 = exim.image('tulips.png', idxexp=np.s_[:, 30:542])"
   ]
  },
  {
   "cell_type": "markdown",
   "metadata": {},
   "source": [
    "Extract all 8x8 image blocks, reshape, and subtract block means."
   ]
  },
  {
   "cell_type": "code",
   "execution_count": 3,
   "metadata": {
    "collapsed": false
   },
   "outputs": [],
   "source": [
    "S = util.extract_blocks((S1, S2, S3, S4, S5), (8, 8))\n",
    "S = np.reshape(S, (np.prod(S.shape[0:2]), S.shape[2]))\n",
    "S -= np.mean(S, axis=0)"
   ]
  },
  {
   "cell_type": "markdown",
   "metadata": {},
   "source": [
    "Load initial dictionary."
   ]
  },
  {
   "cell_type": "code",
   "execution_count": 4,
   "metadata": {
    "collapsed": false
   },
   "outputs": [],
   "source": [
    "D0 = util.convdicts()['G:8x8x64']\n",
    "D0 = np.reshape(D0, (np.prod(D0.shape[0:2]), D0.shape[2]))"
   ]
  },
  {
   "cell_type": "markdown",
   "metadata": {},
   "source": [
    "Compute sparse representation on current dictionary."
   ]
  },
  {
   "cell_type": "code",
   "execution_count": 5,
   "metadata": {
    "collapsed": false
   },
   "outputs": [
    {
     "name": "stdout",
     "output_type": "stream",
     "text": [
      "Itn   Fnc       DFid      Regℓ1     r         s         ρ       \n",
      "----------------------------------------------------------------\n"
     ]
    },
    {
     "name": "stdout",
     "output_type": "stream",
     "text": [
      "   0  2.82e+04  2.17e+04  6.42e+04  3.57e-01  2.39e+00  6.00e+00\n",
      "   1  2.60e+04  1.83e+04  7.72e+04  1.48e-01  1.05e+00  6.00e+00\n"
     ]
    },
    {
     "name": "stdout",
     "output_type": "stream",
     "text": [
      "   2  2.51e+04  1.70e+04  8.16e+04  8.47e-02  6.81e-01  6.00e+00\n"
     ]
    },
    {
     "name": "stdout",
     "output_type": "stream",
     "text": [
      "   3  2.46e+04  1.62e+04  8.43e+04  6.00e-02  5.43e-01  6.00e+00\n"
     ]
    },
    {
     "name": "stdout",
     "output_type": "stream",
     "text": [
      "   4  2.43e+04  1.57e+04  8.59e+04  4.50e-02  4.39e-01  6.00e+00\n"
     ]
    },
    {
     "name": "stdout",
     "output_type": "stream",
     "text": [
      "   5  2.40e+04  1.53e+04  8.71e+04  3.57e-02  3.77e-01  6.00e+00\n"
     ]
    },
    {
     "name": "stdout",
     "output_type": "stream",
     "text": [
      "   6  2.39e+04  1.51e+04  8.80e+04  2.91e-02  3.25e-01  6.00e+00\n"
     ]
    },
    {
     "name": "stdout",
     "output_type": "stream",
     "text": [
      "   7  2.37e+04  1.49e+04  8.86e+04  2.44e-02  2.88e-01  6.00e+00\n"
     ]
    },
    {
     "name": "stdout",
     "output_type": "stream",
     "text": [
      "   8  2.36e+04  1.47e+04  8.92e+04  2.08e-02  2.57e-01  6.00e+00\n"
     ]
    },
    {
     "name": "stdout",
     "output_type": "stream",
     "text": [
      "   9  2.36e+04  1.46e+04  8.96e+04  1.80e-02  2.32e-01  6.00e+00\n"
     ]
    },
    {
     "name": "stdout",
     "output_type": "stream",
     "text": [
      "  10  2.33e+04  1.42e+04  9.16e+04  6.83e-02  1.86e-01  1.18e+00\n"
     ]
    },
    {
     "name": "stdout",
     "output_type": "stream",
     "text": [
      "  11  2.32e+04  1.40e+04  9.24e+04  5.14e-02  1.33e-01  1.18e+00\n"
     ]
    },
    {
     "name": "stdout",
     "output_type": "stream",
     "text": [
      "  12  2.31e+04  1.39e+04  9.24e+04  3.74e-02  9.66e-02  1.18e+00\n"
     ]
    },
    {
     "name": "stdout",
     "output_type": "stream",
     "text": [
      "  13  2.31e+04  1.39e+04  9.25e+04  2.79e-02  7.35e-02  1.18e+00\n",
      "  14  2.31e+04  1.38e+04  9.26e+04  2.13e-02  5.75e-02  1.18e+00\n"
     ]
    },
    {
     "name": "stdout",
     "output_type": "stream",
     "text": [
      "  15  2.31e+04  1.38e+04  9.27e+04  1.66e-02  4.59e-02  1.18e+00\n"
     ]
    },
    {
     "name": "stdout",
     "output_type": "stream",
     "text": [
      "  16  2.31e+04  1.38e+04  9.28e+04  1.31e-02  3.73e-02  1.18e+00\n",
      "  17  2.31e+04  1.38e+04  9.29e+04  1.06e-02  3.08e-02  1.18e+00\n"
     ]
    },
    {
     "name": "stdout",
     "output_type": "stream",
     "text": [
      "  18  2.31e+04  1.38e+04  9.29e+04  8.62e-03  2.58e-02  1.18e+00\n",
      "  19  2.30e+04  1.37e+04  9.30e+04  7.13e-03  2.18e-02  1.18e+00\n"
     ]
    },
    {
     "name": "stdout",
     "output_type": "stream",
     "text": [
      "  20  2.30e+04  1.37e+04  9.31e+04  1.38e-02  1.79e-02  4.78e-01\n",
      "  21  2.30e+04  1.37e+04  9.32e+04  1.16e-02  1.37e-02  4.78e-01\n"
     ]
    },
    {
     "name": "stdout",
     "output_type": "stream",
     "text": [
      "  22  2.30e+04  1.37e+04  9.32e+04  9.31e-03  1.03e-02  4.78e-01\n"
     ]
    },
    {
     "name": "stdout",
     "output_type": "stream",
     "text": [
      "  23  2.30e+04  1.37e+04  9.33e+04  7.34e-03  7.80e-03  4.78e-01\n"
     ]
    },
    {
     "name": "stdout",
     "output_type": "stream",
     "text": [
      "  24  2.30e+04  1.37e+04  9.33e+04  5.74e-03  6.01e-03  4.78e-01\n",
      "  25  2.30e+04  1.37e+04  9.33e+04  4.49e-03  4.71e-03  4.78e-01\n"
     ]
    },
    {
     "name": "stdout",
     "output_type": "stream",
     "text": [
      "  26  2.30e+04  1.37e+04  9.33e+04  3.53e-03  3.73e-03  4.78e-01\n",
      "  27  2.30e+04  1.37e+04  9.33e+04  2.79e-03  3.00e-03  4.78e-01\n"
     ]
    },
    {
     "name": "stdout",
     "output_type": "stream",
     "text": [
      "  28  2.30e+04  1.37e+04  9.33e+04  2.23e-03  2.44e-03  4.78e-01\n"
     ]
    },
    {
     "name": "stdout",
     "output_type": "stream",
     "text": [
      "  29  2.30e+04  1.37e+04  9.33e+04  1.79e-03  2.00e-03  4.78e-01\n"
     ]
    },
    {
     "name": "stdout",
     "output_type": "stream",
     "text": [
      "  30  2.30e+04  1.37e+04  9.33e+04  1.98e-03  1.62e-03  3.20e-01\n"
     ]
    },
    {
     "name": "stdout",
     "output_type": "stream",
     "text": [
      "  31  2.30e+04  1.37e+04  9.33e+04  1.67e-03  1.28e-03  3.20e-01\n"
     ]
    },
    {
     "name": "stdout",
     "output_type": "stream",
     "text": [
      "  32  2.30e+04  1.37e+04  9.33e+04  1.38e-03  1.01e-03  3.20e-01\n",
      "  33  2.30e+04  1.37e+04  9.33e+04  1.13e-03  8.09e-04  3.20e-01\n"
     ]
    },
    {
     "name": "stdout",
     "output_type": "stream",
     "text": [
      "  34  2.30e+04  1.37e+04  9.33e+04  9.18e-04  6.54e-04  3.20e-01\n",
      "----------------------------------------------------------------\n"
     ]
    }
   ],
   "source": [
    "lmbda = 0.1\n",
    "opt = bpdn.BPDN.Options({'Verbose': True, 'MaxMainIter': 200,\n",
    "                         'RelStopTol': 1e-3})\n",
    "b = bpdn.BPDN(D0, S, lmbda, opt)\n",
    "X = b.solve()"
   ]
  },
  {
   "cell_type": "markdown",
   "metadata": {},
   "source": [
    "Update dictionary for training image set."
   ]
  },
  {
   "cell_type": "code",
   "execution_count": 6,
   "metadata": {
    "collapsed": false
   },
   "outputs": [
    {
     "name": "stdout",
     "output_type": "stream",
     "text": [
      "Itn   DFid      Cnstr     r         s         ρ       \n",
      "------------------------------------------------------\n",
      "   0  1.18e+04  7.77e-07  4.40e-01  2.38e+00  4.00e+02\n",
      "   1  1.17e+04  6.14e-07  1.96e-01  2.03e-01  4.00e+02\n",
      "   2  1.16e+04  6.92e-07  9.02e-02  6.58e-02  4.00e+02\n",
      "   3  1.16e+04  6.76e-07  4.38e-02  2.76e-02  4.00e+02\n",
      "   4  1.16e+04  6.83e-07  2.35e-02  1.26e-02  4.00e+02\n",
      "   5  1.16e+04  7.42e-07  1.31e-02  7.36e-03  4.00e+02\n",
      "   6  1.16e+04  6.61e-07  7.48e-03  4.20e-03  4.00e+02\n",
      "   7  1.16e+04  6.96e-07  4.37e-03  2.71e-03  4.00e+02\n",
      "   8  1.16e+04  6.73e-07  2.59e-03  1.71e-03  4.00e+02\n",
      "   9  1.16e+04  6.81e-07  1.56e-03  1.15e-03  4.00e+02\n",
      "  10  1.16e+04  6.04e-07  9.58e-04  7.63e-04  4.00e+02\n",
      "------------------------------------------------------\n",
      "CMOD solve time: 0.09s\n"
     ]
    }
   ],
   "source": [
    "opt = cmod.CnstrMOD.Options({'Verbose': True, 'MaxMainIter': 100,\n",
    "                             'RelStopTol': 1e-3, 'rho': 4e2})\n",
    "c = cmod.CnstrMOD(X, S, None, opt)\n",
    "D1 = c.solve()\n",
    "print(\"CMOD solve time: %.2fs\" % c.timer.elapsed('solve'))"
   ]
  },
  {
   "cell_type": "markdown",
   "metadata": {},
   "source": [
    "Display initial and final dictionaries."
   ]
  },
  {
   "cell_type": "code",
   "execution_count": 7,
   "metadata": {
    "collapsed": false
   },
   "outputs": [
    {
     "data": {
      "image/png": "[encoded data removed]",
      "text/plain": [
       "<Figure size 1008x504 with 2 Axes>"
      ]
     },
     "metadata": {
      "needs_background": "light"
     },
     "output_type": "display_data"
    }
   ],
   "source": [
    "D0 = D0.reshape((8, 8, D0.shape[-1]))\n",
    "D1 = D1.reshape((8, 8, D1.shape[-1]))\n",
    "fig = plot.figure(figsize=(14, 7))\n",
    "plot.subplot(1, 2, 1)\n",
    "plot.imview(util.tiledict(D0), title='D0', fig=fig)\n",
    "plot.subplot(1, 2, 2)\n",
    "plot.imview(util.tiledict(D1), title='D1', fig=fig)\n",
    "fig.show()"
   ]
  },
  {
   "cell_type": "markdown",
   "metadata": {},
   "source": [
    "Get iterations statistics from CMOD solver object and plot functional value, ADMM primary and dual residuals, and automatically adjusted ADMM penalty parameter against the iteration number."
   ]
  },
  {
   "cell_type": "code",
   "execution_count": 8,
   "metadata": {
    "collapsed": false
   },
   "outputs": [
    {
     "data": {
      "image/png": "[encoded data removed]",
      "text/plain": [
       "<Figure size 1440x360 with 3 Axes>"
      ]
     },
     "metadata": {
      "needs_background": "light"
     },
     "output_type": "display_data"
    }
   ],
   "source": [
    "its = c.getitstat()\n",
    "fig = plot.figure(figsize=(20, 5))\n",
    "plot.subplot(1, 3, 1)\n",
    "plot.plot(its.DFid, xlbl='Iterations', ylbl='Functional', fig=fig)\n",
    "plot.subplot(1, 3, 2)\n",
    "plot.plot(np.vstack((its.PrimalRsdl, its.DualRsdl)).T,\n",
    "          ptyp='semilogy', xlbl='Iterations', ylbl='Residual',\n",
    "          lgnd=['Primal', 'Dual'], fig=fig)\n",
    "plot.subplot(1, 3, 3)\n",
    "plot.plot(its.Rho, xlbl='Iterations', ylbl='Penalty Parameter', fig=fig)\n",
    "fig.show()"
   ]
  }
 ],
 "metadata": {},
 "nbformat": 4,
 "nbformat_minor": 2
}
