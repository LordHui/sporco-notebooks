{
 "cells": [
  {
   "cell_type": "markdown",
   "metadata": {},
   "source": [
    "## Dictionary Learning"
   ]
  },
  {
   "cell_type": "markdown",
   "metadata": {},
   "source": [
    "- [Learn a dictionary (standard, not convolutional) from a set of training images](bpdndl.ipynb)\n",
    "- [Compute a dictionary update via the constrained method of optimal directions problem](cmod.ipynb)"
   ]
  }
 ],
 "metadata": {},
 "nbformat": 4,
 "nbformat_minor": 2
}
