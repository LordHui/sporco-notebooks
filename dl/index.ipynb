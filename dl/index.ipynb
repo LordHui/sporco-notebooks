{
 "cells": [
  {
   "cell_type": "markdown",
   "metadata": {},
   "source": [
    "# Dictionary Learning\n",
    "\n",
    "-   [Learn a dictionary (standard, not convolutional) from a set of\n",
    "    training images (ADMM sub-problem solvers)](bpdndl.ipynb)\n",
    "-   [Learn a dictionary (standard, not convolutional) from a set of\n",
    "    training images (PGM sub-problem solvers)](wbpdndl.ipynb)\n",
    "-   [Compute a dictionary update via the constrained method of optimal\n",
    "    directions problem (ADMM algorithm)](cmod.ipynb)\n",
    "-   [Compute a dictionary update via the constrained method of optimal\n",
    "    directions problem (PGM algorithms)](cmod_pgm.ipynb)"
   ]
  }
 ],
 "metadata": {},
 "nbformat": 4,
 "nbformat_minor": 4
}
