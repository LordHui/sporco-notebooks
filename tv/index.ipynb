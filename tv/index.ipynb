{
 "cells": [
  {
   "cell_type": "markdown",
   "metadata": {},
   "source": [
    "## Total Variation"
   ]
  },
  {
   "cell_type": "markdown",
   "metadata": {},
   "source": [
    "- [Salt & pepper noise restoration via ℓ1-TV denoising (greyscale image)](tvl1den_gry.ipynb)\n",
    "- [Salt & pepper noise restoration via ℓ1-TV denoising (greyscale image, deconvolution solver)](tvl1dcn_den.ipynb)\n",
    "- [Salt & pepper noise restoration via ℓ1-TV denoising (colour image)](tvl1den_clr.ipynb)\n",
    "- [Salt & pepper noise restoration via ℓ1-TV denoising (colour image, cupy accelerated solver)](tvl1den_clr_cupy.ipynb)\n",
    "- [Gaussian white noise restoration via ℓ2-TV denoising (greyscale image)](tvl2den_gry.ipynb)\n",
    "- [Gaussian white noise restoration via ℓ2-TV denoising (greyscale image, deconvolution solver)](tvl2dcn_den.ipynb)\n",
    "- [Gaussian white noise restoration via ℓ2-TV denoising (colour image)](tvl2den_clr.ipynb)"
   ]
  }
 ],
 "metadata": {},
 "nbformat": 4,
 "nbformat_minor": 2
}
