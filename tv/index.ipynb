{
 "cells": [
  {
   "cell_type": "markdown",
   "metadata": {},
   "source": [
    "# Total Variation\n",
    "\n",
    "## ℓ1-TV\n",
    "\n",
    "-   [Salt & pepper noise restoration via ℓ1-TV denoising (greyscale\n",
    "    image)](tvl1den_gry.ipynb)\n",
    "-   [Salt & pepper noise restoration via ℓ1-TV denoising (greyscale\n",
    "    image, deconvolution solver)](tvl1dcn_den.ipynb)\n",
    "-   [Salt & pepper noise restoration via ℓ1-TV denoising (colour\n",
    "    image)](tvl1den_clr.ipynb)\n",
    "-   [Salt & pepper noise restoration via ℓ1-TV denoising (colour image,\n",
    "    cupy accelerated solver)](tvl1den_clr_cupy.ipynb)\n",
    "\n",
    "## ℓ2-TV\n",
    "\n",
    "-   [Gaussian white noise restoration via ℓ2-TV denoising (greyscale\n",
    "    image)](tvl2den_gry.ipynb)\n",
    "-   [Gaussian white noise restoration via ℓ2-TV denoising (greyscale\n",
    "    image, deconvolution solver)](tvl2dcn_den.ipynb)\n",
    "-   [Gaussian white noise restoration via ℓ2-TV denoising (colour\n",
    "    image)](tvl2den_clr.ipynb)"
   ]
  }
 ],
 "metadata": {},
 "nbformat": 4,
 "nbformat_minor": 2
}
